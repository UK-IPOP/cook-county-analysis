{
 "cells": [
  {
   "cell_type": "code",
   "execution_count": 14,
   "id": "58f5191b-f9e6-42ea-a9c0-2d72048d33cb",
   "metadata": {},
   "outputs": [],
   "source": [
    "import pandas as pd\n",
    "import re\n",
    "from typing import Union\n",
    "from rich.progress import track\n",
    "import requests\n",
    "from geopy.geocoders import ArcGIS"
   ]
  },
  {
   "cell_type": "markdown",
   "id": "075566a0-ed3e-4d58-98b7-09866604eb7f",
   "metadata": {},
   "source": [
    "Change the datafile then everything should run fine! 😃"
   ]
  },
  {
   "cell_type": "code",
   "execution_count": 15,
   "id": "0e1e70d3-563d-407d-bb12-1a0e9a795f9a",
   "metadata": {},
   "outputs": [
    {
     "name": "stdout",
     "output_type": "stream",
     "text": [
      "(1725, 6)\n"
     ]
    },
    {
     "data": {
      "text/html": [
       "<div>\n",
       "<style scoped>\n",
       "    .dataframe tbody tr th:only-of-type {\n",
       "        vertical-align: middle;\n",
       "    }\n",
       "\n",
       "    .dataframe tbody tr th {\n",
       "        vertical-align: top;\n",
       "    }\n",
       "\n",
       "    .dataframe thead th {\n",
       "        text-align: right;\n",
       "    }\n",
       "</style>\n",
       "<table border=\"1\" class=\"dataframe\">\n",
       "  <thead>\n",
       "    <tr style=\"text-align: right;\">\n",
       "      <th></th>\n",
       "      <th>PharmacyName</th>\n",
       "      <th>PharmacyAddress</th>\n",
       "      <th>City</th>\n",
       "      <th>State</th>\n",
       "      <th>Zip</th>\n",
       "      <th>County</th>\n",
       "    </tr>\n",
       "  </thead>\n",
       "  <tbody>\n",
       "    <tr>\n",
       "      <th>0</th>\n",
       "      <td>200 PHARMACY</td>\n",
       "      <td>9004 S Stony Island</td>\n",
       "      <td>CHICAGO</td>\n",
       "      <td>IL</td>\n",
       "      <td>60617</td>\n",
       "      <td>Cook County</td>\n",
       "    </tr>\n",
       "    <tr>\n",
       "      <th>1</th>\n",
       "      <td>666 DRUG CO</td>\n",
       "      <td>680 N LAKE SHORE DR</td>\n",
       "      <td>CHICAGO</td>\n",
       "      <td>IL</td>\n",
       "      <td>60611</td>\n",
       "      <td>Cook County</td>\n",
       "    </tr>\n",
       "    <tr>\n",
       "      <th>2</th>\n",
       "      <td>IVAN T MATTHEI PHARMACY</td>\n",
       "      <td>111 N WABASH ROOM 712</td>\n",
       "      <td>CHICAGO</td>\n",
       "      <td>IL</td>\n",
       "      <td>60602</td>\n",
       "      <td>Cook County</td>\n",
       "    </tr>\n",
       "    <tr>\n",
       "      <th>3</th>\n",
       "      <td>BRADYS PHARMACY</td>\n",
       "      <td>3235 W 111TH ST</td>\n",
       "      <td>CHICAGO</td>\n",
       "      <td>IL</td>\n",
       "      <td>60655</td>\n",
       "      <td>Cook County</td>\n",
       "    </tr>\n",
       "    <tr>\n",
       "      <th>4</th>\n",
       "      <td>WALGREENS</td>\n",
       "      <td>6798 N LINCOLN</td>\n",
       "      <td>LINCOLNWOOD</td>\n",
       "      <td>IL</td>\n",
       "      <td>60646</td>\n",
       "      <td>Cook County</td>\n",
       "    </tr>\n",
       "  </tbody>\n",
       "</table>\n",
       "</div>"
      ],
      "text/plain": [
       "              PharmacyName        PharmacyAddress         City State    Zip  \\\n",
       "0             200 PHARMACY    9004 S Stony Island      CHICAGO    IL  60617   \n",
       "1              666 DRUG CO    680 N LAKE SHORE DR      CHICAGO    IL  60611   \n",
       "2  IVAN T MATTHEI PHARMACY  111 N WABASH ROOM 712      CHICAGO    IL  60602   \n",
       "3          BRADYS PHARMACY        3235 W 111TH ST      CHICAGO    IL  60655   \n",
       "4                WALGREENS         6798 N LINCOLN  LINCOLNWOOD    IL  60646   \n",
       "\n",
       "        County  \n",
       "0  Cook County  \n",
       "1  Cook County  \n",
       "2  Cook County  \n",
       "3  Cook County  \n",
       "4  Cook County  "
      ]
     },
     "execution_count": 15,
     "metadata": {},
     "output_type": "execute_result"
    }
   ],
   "source": [
    "df = pd.read_csv('../data/CookCounty_Pharmacies.csv')\n",
    "print(df.shape)\n",
    "df.head()"
   ]
  },
  {
   "cell_type": "markdown",
   "id": "95560fa0-5814-4f0f-b43a-d05bc8f60201",
   "metadata": {},
   "source": [
    "Unless you have to change the source address fields 😅"
   ]
  },
  {
   "cell_type": "code",
   "execution_count": 16,
   "id": "ed99332c-2ab5-4472-b9e7-5b844e99da5f",
   "metadata": {},
   "outputs": [],
   "source": [
    "def make_address(row) -> str:\n",
    "    street = row['PharmacyAddress']\n",
    "    city = row['City']\n",
    "    state = row['State']\n",
    "    zip_code = row['Zip']\n",
    "    address = f\"{street} {city} {state} {zip_code}\".strip()\n",
    "    return address"
   ]
  },
  {
   "cell_type": "code",
   "execution_count": 17,
   "id": "89f4ef20-56fd-4fbc-81f7-8059de406e27",
   "metadata": {},
   "outputs": [
    {
     "data": {
      "text/plain": [
       "896       5930 N. Broadway Chicago IL 60660\n",
       "352    7523 W LAKE DR RIVER FOREST IL 60305\n",
       "Name: full_address, dtype: object"
      ]
     },
     "execution_count": 17,
     "metadata": {},
     "output_type": "execute_result"
    }
   ],
   "source": [
    "df['full_address'] = df.apply(lambda row: make_address(row), axis=1)\n",
    "df['full_address'].sample(2)"
   ]
  },
  {
   "cell_type": "code",
   "execution_count": 22,
   "id": "f3b4b1f6-41b8-4546-b0b7-6153add9864d",
   "metadata": {},
   "outputs": [
    {
     "name": "stderr",
     "output_type": "stream",
     "text": [
      "100%|██████████| 1725/1725 [19:29<00:00,  1.47it/s]\n"
     ]
    }
   ],
   "source": [
    "from geopy.extra.rate_limiter import RateLimiter\n",
    "from tqdm import tqdm\n",
    "tqdm.pandas()\n",
    "\n",
    "geolocator = ArcGIS()\n",
    "geocode = RateLimiter(geolocator.geocode, min_delay_seconds=0)\n",
    "df['geo_location'] = df['full_address'].progress_apply(geocode)"
   ]
  },
  {
   "cell_type": "code",
   "execution_count": 23,
   "id": "cfd16377-3f34-4496-b7f2-e5a4d422f100",
   "metadata": {},
   "outputs": [
    {
     "data": {
      "text/plain": [
       "count    1725.000000\n",
       "mean       99.163078\n",
       "std         2.345120\n",
       "min        83.420000\n",
       "25%        98.840000\n",
       "50%       100.000000\n",
       "75%       100.000000\n",
       "max       100.000000\n",
       "Name: coded_score, dtype: float64"
      ]
     },
     "execution_count": 23,
     "metadata": {},
     "output_type": "execute_result"
    }
   ],
   "source": [
    "df['coded_lat'] = df['geo_location'].apply(lambda x: x.latitude)\n",
    "df['coded_long'] = df['geo_location'].apply(lambda x: x.longitude)\n",
    "df['coded_score'] = df['geo_location'].apply(lambda x: x.raw.get('score'))\n",
    "\n",
    "df.coded_score.describe()"
   ]
  },
  {
   "cell_type": "code",
   "execution_count": 24,
   "id": "c11b34e8-a048-42e6-9eb0-4951c8ec8492",
   "metadata": {},
   "outputs": [],
   "source": [
    "interim = df.drop('geo_location', axis=1)\n",
    "interim.to_csv('../data/geocoded_pharmacies.csv', index=False)"
   ]
  },
  {
   "cell_type": "code",
   "execution_count": null,
   "id": "af158a8c-52f8-401e-bccd-c3850dcabca8",
   "metadata": {},
   "outputs": [],
   "source": []
  }
 ],
 "metadata": {
  "kernelspec": {
   "display_name": "Python 3.9.2 64-bit ('base': conda)",
   "language": "python",
   "name": "python392jvsc74a57bd095ec9ec1504d83f612128e0fb229072f90bbb4cb09d9d5d93b5dd26e0ca2cfd1"
  },
  "language_info": {
   "codemirror_mode": {
    "name": "ipython",
    "version": 3
   },
   "file_extension": ".py",
   "mimetype": "text/x-python",
   "name": "python",
   "nbconvert_exporter": "python",
   "pygments_lexer": "ipython3",
   "version": "3.9.2"
  }
 },
 "nbformat": 4,
 "nbformat_minor": 5
}
