{
 "metadata": {
  "language_info": {
   "codemirror_mode": {
    "name": "ipython",
    "version": 3
   },
   "file_extension": ".py",
   "mimetype": "text/x-python",
   "name": "python",
   "nbconvert_exporter": "python",
   "pygments_lexer": "ipython3",
   "version": "3.9.5"
  },
  "orig_nbformat": 4,
  "kernelspec": {
   "name": "python3",
   "display_name": "Python 3.9.5  ('.venv': poetry)"
  },
  "interpreter": {
   "hash": "b2b34bafdf4a27b10e6c2f1d311fd1ac6272d2667aca8224ca4a859b778d5f89"
  }
 },
 "nbformat": 4,
 "nbformat_minor": 2,
 "cells": [
  {
   "cell_type": "code",
   "execution_count": 2,
   "metadata": {},
   "outputs": [],
   "source": [
    "import geopandas as gpd"
   ]
  },
  {
   "cell_type": "code",
   "execution_count": 3,
   "metadata": {},
   "outputs": [
    {
     "output_type": "execute_result",
     "data": {
      "text/plain": [
       "  FIRST_COUN LANDUSE LANDUSE2 OS_MGMT FAC_NAME PLATTED MODIFIER  Shape_Leng  \\\n",
       "0        031    1111     None    None     None    None     None  517.742137   \n",
       "1        031    1111     None    None     None    None     None  477.507596   \n",
       "2        031    1111     None    None     None    None     None  484.025949   \n",
       "3        031    1111     None    None     None    None     None  700.439764   \n",
       "4        031    1111     None    None     None    None     None  340.958375   \n",
       "\n",
       "     Shape_Area  landuse_id                    name  sub_cat  major_cat  \\\n",
       "0  16718.995065        1111  Single-Family Detached     1100       1000   \n",
       "1  11320.358746        1111  Single-Family Detached     1100       1000   \n",
       "2   9845.643361        1111  Single-Family Detached     1100       1000   \n",
       "3  17077.187161        1111  Single-Family Detached     1100       1000   \n",
       "4   4876.261817        1111  Single-Family Detached     1100       1000   \n",
       "\n",
       "      sub_name major_name                                           geometry  \n",
       "0  Residential  Urbanized  POLYGON ((1036522.695 1995782.274, 1036461.926...  \n",
       "1  Residential  Urbanized  POLYGON ((1037360.709 1996030.646, 1037322.681...  \n",
       "2  Residential  Urbanized  POLYGON ((1039486.887 1996321.765, 1039296.636...  \n",
       "3  Residential  Urbanized  POLYGON ((1038894.877 1996455.435, 1038726.152...  \n",
       "4  Residential  Urbanized  POLYGON ((1038232.967 1996733.236, 1038099.139...  "
      ],
      "text/html": "<div>\n<style scoped>\n    .dataframe tbody tr th:only-of-type {\n        vertical-align: middle;\n    }\n\n    .dataframe tbody tr th {\n        vertical-align: top;\n    }\n\n    .dataframe thead th {\n        text-align: right;\n    }\n</style>\n<table border=\"1\" class=\"dataframe\">\n  <thead>\n    <tr style=\"text-align: right;\">\n      <th></th>\n      <th>FIRST_COUN</th>\n      <th>LANDUSE</th>\n      <th>LANDUSE2</th>\n      <th>OS_MGMT</th>\n      <th>FAC_NAME</th>\n      <th>PLATTED</th>\n      <th>MODIFIER</th>\n      <th>Shape_Leng</th>\n      <th>Shape_Area</th>\n      <th>landuse_id</th>\n      <th>name</th>\n      <th>sub_cat</th>\n      <th>major_cat</th>\n      <th>sub_name</th>\n      <th>major_name</th>\n      <th>geometry</th>\n    </tr>\n  </thead>\n  <tbody>\n    <tr>\n      <th>0</th>\n      <td>031</td>\n      <td>1111</td>\n      <td>None</td>\n      <td>None</td>\n      <td>None</td>\n      <td>None</td>\n      <td>None</td>\n      <td>517.742137</td>\n      <td>16718.995065</td>\n      <td>1111</td>\n      <td>Single-Family Detached</td>\n      <td>1100</td>\n      <td>1000</td>\n      <td>Residential</td>\n      <td>Urbanized</td>\n      <td>POLYGON ((1036522.695 1995782.274, 1036461.926...</td>\n    </tr>\n    <tr>\n      <th>1</th>\n      <td>031</td>\n      <td>1111</td>\n      <td>None</td>\n      <td>None</td>\n      <td>None</td>\n      <td>None</td>\n      <td>None</td>\n      <td>477.507596</td>\n      <td>11320.358746</td>\n      <td>1111</td>\n      <td>Single-Family Detached</td>\n      <td>1100</td>\n      <td>1000</td>\n      <td>Residential</td>\n      <td>Urbanized</td>\n      <td>POLYGON ((1037360.709 1996030.646, 1037322.681...</td>\n    </tr>\n    <tr>\n      <th>2</th>\n      <td>031</td>\n      <td>1111</td>\n      <td>None</td>\n      <td>None</td>\n      <td>None</td>\n      <td>None</td>\n      <td>None</td>\n      <td>484.025949</td>\n      <td>9845.643361</td>\n      <td>1111</td>\n      <td>Single-Family Detached</td>\n      <td>1100</td>\n      <td>1000</td>\n      <td>Residential</td>\n      <td>Urbanized</td>\n      <td>POLYGON ((1039486.887 1996321.765, 1039296.636...</td>\n    </tr>\n    <tr>\n      <th>3</th>\n      <td>031</td>\n      <td>1111</td>\n      <td>None</td>\n      <td>None</td>\n      <td>None</td>\n      <td>None</td>\n      <td>None</td>\n      <td>700.439764</td>\n      <td>17077.187161</td>\n      <td>1111</td>\n      <td>Single-Family Detached</td>\n      <td>1100</td>\n      <td>1000</td>\n      <td>Residential</td>\n      <td>Urbanized</td>\n      <td>POLYGON ((1038894.877 1996455.435, 1038726.152...</td>\n    </tr>\n    <tr>\n      <th>4</th>\n      <td>031</td>\n      <td>1111</td>\n      <td>None</td>\n      <td>None</td>\n      <td>None</td>\n      <td>None</td>\n      <td>None</td>\n      <td>340.958375</td>\n      <td>4876.261817</td>\n      <td>1111</td>\n      <td>Single-Family Detached</td>\n      <td>1100</td>\n      <td>1000</td>\n      <td>Residential</td>\n      <td>Urbanized</td>\n      <td>POLYGON ((1038232.967 1996733.236, 1038099.139...</td>\n    </tr>\n  </tbody>\n</table>\n</div>"
     },
     "metadata": {},
     "execution_count": 3
    }
   ],
   "source": [
    "gdf = gpd.read_file('../data/LANDUSE_SHAPES/land_use.shp')\n",
    "gdf.head()"
   ]
  },
  {
   "cell_type": "code",
   "execution_count": null,
   "metadata": {},
   "outputs": [],
   "source": []
  }
 ]
}