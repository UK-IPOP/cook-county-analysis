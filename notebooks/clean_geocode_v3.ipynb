{
 "cells": [
  {
   "cell_type": "code",
   "execution_count": 1,
   "metadata": {},
   "outputs": [],
   "source": [
    "import pandas as pd\n",
    "import re\n",
    "from typing import Union\n",
    "from rich.progress import track\n",
    "import requests\n",
    "from geopy.geocoders import ArcGIS\n",
    "import plotly.express as px"
   ]
  },
  {
   "cell_type": "code",
   "execution_count": 2,
   "metadata": {},
   "outputs": [
    {
     "name": "stdout",
     "output_type": "stream",
     "text": [
      "(54215, 27)\n"
     ]
    },
    {
     "data": {
      "text/html": [
       "<div>\n",
       "<style scoped>\n",
       "    .dataframe tbody tr th:only-of-type {\n",
       "        vertical-align: middle;\n",
       "    }\n",
       "\n",
       "    .dataframe tbody tr th {\n",
       "        vertical-align: top;\n",
       "    }\n",
       "\n",
       "    .dataframe thead th {\n",
       "        text-align: right;\n",
       "    }\n",
       "</style>\n",
       "<table border=\"1\" class=\"dataframe\">\n",
       "  <thead>\n",
       "    <tr style=\"text-align: right;\">\n",
       "      <th></th>\n",
       "      <th>Case Number</th>\n",
       "      <th>Date of Incident</th>\n",
       "      <th>Date of Death</th>\n",
       "      <th>Age</th>\n",
       "      <th>Gender</th>\n",
       "      <th>Race</th>\n",
       "      <th>Latino</th>\n",
       "      <th>Manner of Death</th>\n",
       "      <th>Primary Cause</th>\n",
       "      <th>Primary Cause Line A</th>\n",
       "      <th>...</th>\n",
       "      <th>Commissioner District</th>\n",
       "      <th>Incident Address</th>\n",
       "      <th>Incident City</th>\n",
       "      <th>Incident Zip Code</th>\n",
       "      <th>longitude</th>\n",
       "      <th>latitude</th>\n",
       "      <th>location</th>\n",
       "      <th>Residence City</th>\n",
       "      <th>Residence_Zip</th>\n",
       "      <th>OBJECTID</th>\n",
       "    </tr>\n",
       "  </thead>\n",
       "  <tbody>\n",
       "    <tr>\n",
       "      <th>5243</th>\n",
       "      <td>ME2019-01239</td>\n",
       "      <td>03/18/2019 04:38:00 AM</td>\n",
       "      <td>03/18/2019 04:57:00 AM</td>\n",
       "      <td>58.0</td>\n",
       "      <td>Male</td>\n",
       "      <td>White</td>\n",
       "      <td>False</td>\n",
       "      <td>NATURAL</td>\n",
       "      <td>CORONARY ATHEROSCLEROSIS</td>\n",
       "      <td>NaN</td>\n",
       "      <td>...</td>\n",
       "      <td>9.0</td>\n",
       "      <td>732 GOODWIN</td>\n",
       "      <td>PARK RIDGE</td>\n",
       "      <td>60068</td>\n",
       "      <td>-87.86283</td>\n",
       "      <td>42.02052</td>\n",
       "      <td>(42.02052045364494, -87.86282988703353)</td>\n",
       "      <td>Park Ridge</td>\n",
       "      <td>60068</td>\n",
       "      <td>53924</td>\n",
       "    </tr>\n",
       "  </tbody>\n",
       "</table>\n",
       "<p>1 rows × 27 columns</p>\n",
       "</div>"
      ],
      "text/plain": [
       "       Case Number        Date of Incident           Date of Death   Age  \\\n",
       "5243  ME2019-01239  03/18/2019 04:38:00 AM  03/18/2019 04:57:00 AM  58.0   \n",
       "\n",
       "     Gender   Race  Latino Manner of Death             Primary Cause  \\\n",
       "5243   Male  White   False         NATURAL  CORONARY ATHEROSCLEROSIS   \n",
       "\n",
       "     Primary Cause Line A  ... Commissioner District Incident Address  \\\n",
       "5243                  NaN  ...                   9.0      732 GOODWIN   \n",
       "\n",
       "     Incident City Incident Zip Code longitude  latitude  \\\n",
       "5243    PARK RIDGE             60068 -87.86283  42.02052   \n",
       "\n",
       "                                     location  Residence City Residence_Zip  \\\n",
       "5243  (42.02052045364494, -87.86282988703353)      Park Ridge         60068   \n",
       "\n",
       "     OBJECTID  \n",
       "5243    53924  \n",
       "\n",
       "[1 rows x 27 columns]"
      ]
     },
     "execution_count": 2,
     "metadata": {},
     "output_type": "execute_result"
    }
   ],
   "source": [
    "df = pd.read_csv('../data/Medical_Examiner_Case_Archive.csv')\n",
    "print(df.shape)\n",
    "df.sample(1)"
   ]
  },
  {
   "cell_type": "code",
   "execution_count": 5,
   "metadata": {},
   "outputs": [
    {
     "data": {
      "text/plain": [
       "(53488, 27)"
      ]
     },
     "execution_count": 5,
     "metadata": {},
     "output_type": "execute_result"
    }
   ],
   "source": [
    "df2 = df[df['Incident Address'].notna()]\n",
    "df2.shape"
   ]
  },
  {
   "cell_type": "code",
   "execution_count": 6,
   "metadata": {},
   "outputs": [
    {
     "data": {
      "text/plain": [
       "Unknown                      92\n",
       "UNKNOWN                      90\n",
       "UNKNOWN LOCATION             11\n",
       "unknown                      10\n",
       "9700 GROSS POINT ROAD        10\n",
       "                             ..\n",
       "1837 S. Fairfield Avenue      1\n",
       "1200 W 54TH ST                1\n",
       "3513 WEST 61ST STREET         1\n",
       "19 EAST 110TH PLACE  #403     1\n",
       "799 GRACELAND #202            1\n",
       "Name: Incident Address, Length: 51331, dtype: int64"
      ]
     },
     "execution_count": 6,
     "metadata": {},
     "output_type": "execute_result"
    }
   ],
   "source": [
    "df2['Incident Address'].value_counts()"
   ]
  },
  {
   "cell_type": "code",
   "execution_count": 7,
   "metadata": {},
   "outputs": [
    {
     "data": {
      "text/plain": [
       "True"
      ]
     },
     "execution_count": 7,
     "metadata": {},
     "output_type": "execute_result"
    }
   ],
   "source": [
    "'unk' in 'UNKNOWN location'.lower()"
   ]
  },
  {
   "cell_type": "code",
   "execution_count": 8,
   "metadata": {},
   "outputs": [
    {
     "data": {
      "text/plain": [
       "'cool thin'"
      ]
     },
     "execution_count": 8,
     "metadata": {},
     "output_type": "execute_result"
    }
   ],
   "source": [
    "re.sub(r\"apt.*|\\#.*|.*nh,\", \"\", \"wowzer NH, cool thin # 12\".lower()).strip()"
   ]
  },
  {
   "cell_type": "code",
   "execution_count": 9,
   "metadata": {},
   "outputs": [],
   "source": [
    "car_words = ('auto', 'motor')\n",
    "\n",
    "def deal_with_commas(x: str) -> str:\n",
    "    if ',' not in x:\n",
    "        return x.strip().title()\n",
    "    parts = x.split(',')\n",
    "    result = ' '.join([z for z in parts if any(y for y in z if y.isnumeric())])\n",
    "    return result.strip().title()\n",
    "\n",
    "\n",
    "def remove_apartment_info(x: str) -> str:\n",
    "    result = re.sub(r\"apt.*|\\#.*|.*nh,\", \"\", x)\n",
    "    return deal_with_commas(result)\n",
    "\n",
    "\n",
    "def clean_address(row: pd.Series) -> Union[int, str]:\n",
    "    cause = row.get('Primary Cause Line A')\n",
    "    a = row.get('Incident Address')\n",
    "    # removes if motor vehicle cause\n",
    "    if pd.notna(cause):\n",
    "        if any(word in cause.lower() for word in car_words):\n",
    "            return pd.NA\n",
    "    # handles 'unknown' and variations\n",
    "    if pd.isna(a) or 'unk' in a.lower():\n",
    "        return pd.NA\n",
    "    return remove_apartment_info(a.lower())\n"
   ]
  },
  {
   "cell_type": "code",
   "execution_count": 10,
   "metadata": {},
   "outputs": [
    {
     "name": "stderr",
     "output_type": "stream",
     "text": [
      "<ipython-input-10-e0b38138a7ad>:1: SettingWithCopyWarning: \n",
      "A value is trying to be set on a copy of a slice from a DataFrame.\n",
      "Try using .loc[row_indexer,col_indexer] = value instead\n",
      "\n",
      "See the caveats in the documentation: https://pandas.pydata.org/pandas-docs/stable/user_guide/indexing.html#returning-a-view-versus-a-copy\n",
      "  df2['cleaned_address'] = df2.apply(lambda row: clean_address(row), axis=1)\n"
     ]
    },
    {
     "data": {
      "text/plain": [
       "NaN                               2368\n",
       "1301 Lee Street                     18\n",
       "345 Dixie Highway                   14\n",
       "9615 Knox Ave                       14\n",
       "1920 Nerge Rd                       14\n",
       "                                  ... \n",
       "17907 Ridel Court                    1\n",
       "501 W Surf 202                       1\n",
       "275 E Railroad Ave                   1\n",
       "2600 Indigo Lane                     1\n",
       "2612 West 55Th St. First Floor       1\n",
       "Name: cleaned_address, Length: 47564, dtype: int64"
      ]
     },
     "execution_count": 10,
     "metadata": {},
     "output_type": "execute_result"
    }
   ],
   "source": [
    "df2['cleaned_address'] = df2.apply(lambda row: clean_address(row), axis=1)\n",
    "df2['cleaned_address'].value_counts(dropna=False)"
   ]
  },
  {
   "cell_type": "code",
   "execution_count": 11,
   "metadata": {},
   "outputs": [
    {
     "data": {
      "text/plain": [
       "(51120, 28)"
      ]
     },
     "execution_count": 11,
     "metadata": {},
     "output_type": "execute_result"
    }
   ],
   "source": [
    "df3 = df2[df2['cleaned_address'].notna()]\n",
    "df3.shape"
   ]
  },
  {
   "cell_type": "code",
   "execution_count": 12,
   "metadata": {},
   "outputs": [
    {
     "data": {
      "text/plain": [
       "\"We removed 3095 records due to 'null-like' addresses\""
      ]
     },
     "execution_count": 12,
     "metadata": {},
     "output_type": "execute_result"
    }
   ],
   "source": [
    "f\"We removed {df.shape[0] - df3.shape[0]} records due to 'null-like' addresses\""
   ]
  },
  {
   "cell_type": "markdown",
   "metadata": {},
   "source": [
    "See the benefit of cleaned addresses below:"
   ]
  },
  {
   "cell_type": "code",
   "execution_count": 13,
   "metadata": {},
   "outputs": [
    {
     "data": {
      "text/html": [
       "<div>\n",
       "<style scoped>\n",
       "    .dataframe tbody tr th:only-of-type {\n",
       "        vertical-align: middle;\n",
       "    }\n",
       "\n",
       "    .dataframe tbody tr th {\n",
       "        vertical-align: top;\n",
       "    }\n",
       "\n",
       "    .dataframe thead th {\n",
       "        text-align: right;\n",
       "    }\n",
       "</style>\n",
       "<table border=\"1\" class=\"dataframe\">\n",
       "  <thead>\n",
       "    <tr style=\"text-align: right;\">\n",
       "      <th></th>\n",
       "      <th>Incident Address</th>\n",
       "      <th>cleaned_address</th>\n",
       "    </tr>\n",
       "  </thead>\n",
       "  <tbody>\n",
       "    <tr>\n",
       "      <th>50375</th>\n",
       "      <td>6400 W. IRVING PARK - BURGER KING</td>\n",
       "      <td>6400 W. Irving Park - Burger King</td>\n",
       "    </tr>\n",
       "    <tr>\n",
       "      <th>49155</th>\n",
       "      <td>2513 WEST SUPERIOR, UNIT 2</td>\n",
       "      <td>2513 West Superior  Unit 2</td>\n",
       "    </tr>\n",
       "  </tbody>\n",
       "</table>\n",
       "</div>"
      ],
      "text/plain": [
       "                        Incident Address                    cleaned_address\n",
       "50375  6400 W. IRVING PARK - BURGER KING  6400 W. Irving Park - Burger King\n",
       "49155         2513 WEST SUPERIOR, UNIT 2         2513 West Superior  Unit 2"
      ]
     },
     "execution_count": 13,
     "metadata": {},
     "output_type": "execute_result"
    }
   ],
   "source": [
    "df3[['Incident Address','cleaned_address']].sample(2)"
   ]
  },
  {
   "cell_type": "code",
   "execution_count": 14,
   "metadata": {},
   "outputs": [
    {
     "data": {
      "text/plain": [
       "Index(['Case Number', 'Date of Incident', 'Date of Death', 'Age', 'Gender',\n",
       "       'Race', 'Latino', 'Manner of Death', 'Primary Cause',\n",
       "       'Primary Cause Line A', 'Primary Cause Line B', 'Primary Cause Line C',\n",
       "       'Secondary Cause', 'Gun Related', 'Opioid Related', 'Cold Related',\n",
       "       'Heat Related', 'Commissioner District', 'Incident Address',\n",
       "       'Incident City', 'Incident Zip Code', 'longitude', 'latitude',\n",
       "       'location', 'Residence City', 'Residence_Zip', 'OBJECTID',\n",
       "       'cleaned_address'],\n",
       "      dtype='object')"
      ]
     },
     "execution_count": 14,
     "metadata": {},
     "output_type": "execute_result"
    }
   ],
   "source": [
    "df3.columns"
   ]
  },
  {
   "cell_type": "code",
   "execution_count": 15,
   "metadata": {},
   "outputs": [],
   "source": [
    "def make_address(row) -> str:\n",
    "    street = row['cleaned_address'].strip()\n",
    "    res_city_valid = pd.notna(row['Residence City'])\n",
    "    inc_city_valid = pd.notna(row['Incident City'])\n",
    "    if pd.notna(row['Incident City']):\n",
    "        city = row['Incident City'].title().strip()\n",
    "    elif pd.isna(row['Incident City']) and pd.notna(row['Residence City']):\n",
    "        city = row['Residence City'].title().strip()\n",
    "    else:\n",
    "        city = ''\n",
    "    zip_code = '' if pd.isna(row['Incident Zip Code']) else row['Incident Zip Code'].strip()\n",
    "    address = f\"{street} {city} {zip_code}\"\n",
    "    return address.strip()\n",
    "\n",
    "\n",
    "def geo_query(row):\n",
    "    address = make_address(row)\n",
    "    url = f\"https://my-geocoder.herokuapp.com/geocode?address={requests.utils.quote(address)}\"\n",
    "    response = requests.get(url)\n",
    "    if response.status_code == 200:\n",
    "        return response.json()\n",
    "    else:\n",
    "        raise ValueError(\"Invalid response\")\n",
    "\n",
    "\n",
    "def self_geocode(row) -> tuple[float, float]:\n",
    "    address = make_address(row)\n",
    "    geocoder = ArcGIS()\n",
    "    coded = geocoder.geocode(address)\n",
    "    if coded:\n",
    "        return {\n",
    "            \"latitude\": coded.latitude,\n",
    "            \"longitude\": coded.longitude,\n",
    "            \"score\": coded.raw.get('score')\n",
    "        }\n",
    "    else:\n",
    "        return None"
   ]
  },
  {
   "cell_type": "code",
   "execution_count": 15,
   "metadata": {},
   "outputs": [
    {
     "name": "stderr",
     "output_type": "stream",
     "text": [
      "<ipython-input-15-eda05b6efdef>:5: SettingWithCopyWarning: \n",
      "A value is trying to be set on a copy of a slice from a DataFrame.\n",
      "Try using .loc[row_indexer,col_indexer] = value instead\n",
      "\n",
      "See the caveats in the documentation: https://pandas.pydata.org/pandas-docs/stable/user_guide/indexing.html#returning-a-view-versus-a-copy\n",
      "  df3['full_address'] = df3.apply(lambda row: make_address(row), axis=1)\n"
     ]
    },
    {
     "data": {
      "text/plain": [
       "4                 1049 Napleton Avenue\n",
       "7                 166 N. Lamon Chicago\n",
       "11         1306 S Kedzie Chicago 60623\n",
       "12     8695 S Archer Ave Chicago 60638\n",
       "13    11901 South Loomis Chicago 60643\n",
       "Name: full_address, dtype: object"
      ]
     },
     "execution_count": 15,
     "metadata": {},
     "output_type": "execute_result"
    }
   ],
   "source": [
    "from geopy.extra.rate_limiter import RateLimiter\n",
    "from tqdm import tqdm\n",
    "tqdm.pandas()\n",
    "\n",
    "df3['full_address'] = df3.apply(lambda row: make_address(row), axis=1)\n",
    "df3['full_address'].head()"
   ]
  },
  {
   "cell_type": "code",
   "execution_count": null,
   "metadata": {},
   "outputs": [],
   "source": [
    "geolocator = ArcGIS()\n",
    "geocode = RateLimiter(geolocator.geocode, min_delay_seconds=0)\n",
    "df3['geo_location'] = df3['full_address'].progress_apply(geocode)"
   ]
  },
  {
   "cell_type": "code",
   "execution_count": null,
   "metadata": {},
   "outputs": [],
   "source": [
    "df3['coded_lat'] = df3['geo_location'].apply(lambda x: x.latitude if pd.notna(x) else None)\n",
    "df3['coded_long'] = df3['geo_location'].apply(lambda x: x.longitude if pd.notna(x) else None)\n",
    "df3['coded_score'] = df3['geo_location'].apply(lambda x: x.raw.get('score') if pd.notna(x) else None)\n",
    "\n",
    "df3.drop('geo_location', axis=1, inplace=True)\n",
    "print(df3.coded_score.describe())"
   ]
  },
  {
   "cell_type": "markdown",
   "metadata": {},
   "source": [
    "## Calculate geopy distance from original lat/long"
   ]
  },
  {
   "cell_type": "code",
   "execution_count": 16,
   "metadata": {},
   "outputs": [
    {
     "name": "stderr",
     "output_type": "stream",
     "text": [
      "/opt/homebrew/Caskroom/miniforge/base/lib/python3.9/site-packages/IPython/core/interactiveshell.py:3169: DtypeWarning: Columns (20,25) have mixed types.Specify dtype option on import or set low_memory=False.\n",
      "  has_raised = await self.run_ast_nodes(code_ast.body, cell_name,\n"
     ]
    }
   ],
   "source": [
    "# use if need geocoded data\n",
    "dff = pd.read_csv('../data/version3.csv')"
   ]
  },
  {
   "cell_type": "code",
   "execution_count": 17,
   "metadata": {},
   "outputs": [],
   "source": [
    "from geopy import distance\n",
    "\n",
    "def calc_distance(row):\n",
    "    if pd.isna(row.latitude) or pd.isna(row.longitude) or pd.isna(row.coded_lat) or pd.isna(row.coded_long):\n",
    "        return None\n",
    "    d = distance.distance(\n",
    "        (row.latitude, row.longitude),\n",
    "        (row.coded_lat, row.coded_long)\n",
    "    ).km\n",
    "    return d"
   ]
  },
  {
   "cell_type": "code",
   "execution_count": null,
   "metadata": {},
   "outputs": [],
   "source": [
    "df3['distance'] = df3.apply(lambda row: calc_distance(row), axis=1)"
   ]
  },
  {
   "cell_type": "code",
   "execution_count": 18,
   "metadata": {},
   "outputs": [
    {
     "data": {
      "text/plain": [
       "count    46164.00\n",
       "mean        11.86\n",
       "std        295.27\n",
       "min          0.00\n",
       "25%          0.00\n",
       "50%          0.00\n",
       "75%          0.02\n",
       "max      14996.75\n",
       "Name: distance, dtype: float64"
      ]
     },
     "execution_count": 18,
     "metadata": {},
     "output_type": "execute_result"
    }
   ],
   "source": [
    "df3.distance.describe().round(2)"
   ]
  },
  {
   "cell_type": "code",
   "execution_count": 57,
   "metadata": {},
   "outputs": [
    {
     "data": {
      "text/plain": [
       "count    51105.00\n",
       "mean        98.19\n",
       "std          3.64\n",
       "min         70.00\n",
       "25%         98.53\n",
       "50%         99.43\n",
       "75%        100.00\n",
       "max        100.00\n",
       "Name: coded_score, dtype: float64"
      ]
     },
     "execution_count": 57,
     "metadata": {},
     "output_type": "execute_result"
    }
   ],
   "source": [
    "df3.coded_score.describe().round(2)"
   ]
  },
  {
   "cell_type": "code",
   "execution_count": null,
   "metadata": {},
   "outputs": [],
   "source": [
    "df3.to_csv('../data/version3.csv', index=False)"
   ]
  }
 ],
 "metadata": {
  "interpreter": {
   "hash": "95ec9ec1504d83f612128e0fb229072f90bbb4cb09d9d5d93b5dd26e0ca2cfd1"
  },
  "kernelspec": {
   "display_name": "Python 3.9.2 64-bit ('base': conda)",
   "name": "python3"
  },
  "language_info": {
   "codemirror_mode": {
    "name": "ipython",
    "version": 3
   },
   "file_extension": ".py",
   "mimetype": "text/x-python",
   "name": "python",
   "nbconvert_exporter": "python",
   "pygments_lexer": "ipython3",
   "version": "3.9.2"
  },
  "metadata": {
   "interpreter": {
    "hash": "95ec9ec1504d83f612128e0fb229072f90bbb4cb09d9d5d93b5dd26e0ca2cfd1"
   }
  }
 },
 "nbformat": 4,
 "nbformat_minor": 4
}