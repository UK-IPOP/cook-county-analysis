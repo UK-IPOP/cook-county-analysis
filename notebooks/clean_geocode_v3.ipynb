{
 "cells": [
  {
   "cell_type": "code",
   "execution_count": null,
   "metadata": {},
   "outputs": [],
   "source": [
    "import pandas as pd\n",
    "import re\n",
    "from typing import Union\n",
    "from rich.progress import track\n",
    "import requests\n",
    "from geopy.geocoders import ArcGIS"
   ]
  },
  {
   "cell_type": "code",
   "execution_count": null,
   "metadata": {},
   "outputs": [],
   "source": [
    "df = pd.read_csv('../data/Medical_Examiner_Case_Archive.csv')\n",
    "print(df.shape)\n",
    "df.sample(1)"
   ]
  },
  {
   "cell_type": "code",
   "execution_count": null,
   "metadata": {},
   "outputs": [],
   "source": [
    "df2 = df[df['Incident Address'].notna()]\n",
    "df2.shape"
   ]
  },
  {
   "cell_type": "code",
   "execution_count": null,
   "metadata": {},
   "outputs": [],
   "source": [
    "df2['Incident Address'].value_counts()"
   ]
  },
  {
   "cell_type": "code",
   "execution_count": null,
   "metadata": {},
   "outputs": [],
   "source": [
    "'unk' in 'UNKNOWN location'.lower()"
   ]
  },
  {
   "cell_type": "code",
   "execution_count": null,
   "metadata": {},
   "outputs": [],
   "source": [
    "re.sub(r\"apt.*|\\#.*|.*nh,\", \"\", \"wowzer NH, cool thin # 12\".lower()).strip()"
   ]
  },
  {
   "cell_type": "code",
   "execution_count": null,
   "metadata": {},
   "outputs": [],
   "source": [
    "car_words = ('auto', 'motor')\n",
    "\n",
    "def deal_with_commas(x: str) -> str:\n",
    "    if ',' not in x:\n",
    "        return x.strip().title()\n",
    "    parts = x.split(',')\n",
    "    result = ' '.join([z for z in parts if any(y for y in z if y.isnumeric())])\n",
    "    return result.strip().title()\n",
    "\n",
    "\n",
    "def remove_apartment_info(x: str) -> str:\n",
    "    result = re.sub(r\"apt.*|\\#.*|.*nh,\", \"\", x)\n",
    "    return deal_with_commas(result)\n",
    "\n",
    "\n",
    "def clean_address(row: pd.Series) -> Union[int, str]:\n",
    "    cause = row.get('Primary Cause Line A')\n",
    "    a = row.get('Incident Address')\n",
    "    # removes if motor vehicle cause\n",
    "    if pd.notna(cause):\n",
    "        if any(word in cause.lower() for word in car_words):\n",
    "            return pd.NA\n",
    "    # handles 'unknown' and variations\n",
    "    if pd.isna(a) or 'unk' in a.lower():\n",
    "        return pd.NA\n",
    "    return remove_apartment_info(a.lower())\n"
   ]
  },
  {
   "cell_type": "code",
   "execution_count": null,
   "metadata": {},
   "outputs": [],
   "source": [
    "df2['cleaned_address'] = df2.apply(lambda row: clean_address(row), axis=1)\n",
    "df2['cleaned_address'].value_counts(dropna=False)"
   ]
  },
  {
   "cell_type": "code",
   "execution_count": null,
   "metadata": {},
   "outputs": [],
   "source": [
    "df3 = df2[df2['cleaned_address'].notna()]\n",
    "df3.shape"
   ]
  },
  {
   "cell_type": "code",
   "execution_count": null,
   "metadata": {},
   "outputs": [],
   "source": [
    "f\"We removed {df.shape[0] - df3.shape[0]} records due to 'null-like' addresses\""
   ]
  },
  {
   "cell_type": "markdown",
   "metadata": {},
   "source": [
    "See the benefit of cleaned addresses below:"
   ]
  },
  {
   "cell_type": "code",
   "execution_count": null,
   "metadata": {},
   "outputs": [],
   "source": [
    "df3[['Incident Address','cleaned_address']].sample(2)"
   ]
  },
  {
   "cell_type": "code",
   "execution_count": null,
   "metadata": {},
   "outputs": [],
   "source": [
    "df3.columns"
   ]
  },
  {
   "cell_type": "code",
   "execution_count": null,
   "metadata": {},
   "outputs": [],
   "source": [
    "def make_address(row) -> str:\n",
    "    street = row['cleaned_address'].strip()\n",
    "    res_city_valid = pd.notna(row['Residence City'])\n",
    "    inc_city_valid = pd.notna(row['Incident City'])\n",
    "    if pd.notna(row['Incident City']):\n",
    "        city = row['Incident City'].title().strip()\n",
    "    elif pd.isna(row['Incident City']) and pd.notna(row['Residence City']):\n",
    "        city = row['Residence City'].title().strip()\n",
    "    else:\n",
    "        city = ''\n",
    "    zip_code = '' if pd.isna(row['Incident Zip Code']) else row['Incident Zip Code'].strip()\n",
    "    address = f\"{street} {city} {zip_code}\"\n",
    "    return address.strip()\n",
    "\n",
    "\n",
    "def geo_query(row):\n",
    "    address = make_address(row)\n",
    "    url = f\"https://my-geocoder.herokuapp.com/geocode?address={requests.utils.quote(address)}\"\n",
    "    response = requests.get(url)\n",
    "    if response.status_code == 200:\n",
    "        return response.json()\n",
    "    else:\n",
    "        raise ValueError(\"Invalid response\")\n",
    "\n",
    "\n",
    "def self_geocode(row) -> tuple[float, float]:\n",
    "    address = make_address(row)\n",
    "    geocoder = ArcGIS()\n",
    "    coded = geocoder.geocode(address)\n",
    "    if coded:\n",
    "        return {\n",
    "            \"latitude\": coded.latitude,\n",
    "            \"longitude\": coded.longitude,\n",
    "            \"score\": coded.raw.get('score')\n",
    "        }\n",
    "    else:\n",
    "        return None"
   ]
  },
  {
   "cell_type": "code",
   "execution_count": null,
   "metadata": {},
   "outputs": [],
   "source": [
    "from geopy.extra.rate_limiter import RateLimiter\n",
    "from tqdm import tqdm\n",
    "tqdm.pandas()\n",
    "\n",
    "df3['full_address'] = df3.apply(lambda row: make_address(row), axis=1)\n",
    "df3['full_address'].head()"
   ]
  },
  {
   "cell_type": "code",
   "execution_count": null,
   "metadata": {},
   "outputs": [],
   "source": [
    "geolocator = ArcGIS()\n",
    "geocode = RateLimiter(geolocator.geocode, min_delay_seconds=0)\n",
    "df3['geo_location'] = df3['full_address'].progress_apply(geocode)"
   ]
  },
  {
   "cell_type": "code",
   "execution_count": null,
   "metadata": {},
   "outputs": [],
   "source": [
    "df3['coded_lat'] = df3['geo_location'].apply(lambda x: x.latitude if pd.notna(x) else None)\n",
    "df3['coded_long'] = df3['geo_location'].apply(lambda x: x.longitude if pd.notna(x) else None)\n",
    "df3['coded_score'] = df3['geo_location'].apply(lambda x: x.raw.get('score') if pd.notna(x) else None)\n",
    "\n",
    "df3.drop('geo_location', axis=1, inplace=True)\n",
    "print(df3.coded_score.describe())"
   ]
  },
  {
   "cell_type": "markdown",
   "metadata": {},
   "source": [
    "## Calculate geopy distance from original lat/long"
   ]
  },
  {
   "cell_type": "code",
   "execution_count": null,
   "metadata": {},
   "outputs": [],
   "source": [
    "from geopy import distance\n",
    "\n",
    "def calc_distance(row):\n",
    "    if pd.isna(row.latitude) or pd.isna(row.longitude) or pd.isna(row.coded_lat) or pd.isna(row.coded_long):\n",
    "        return None\n",
    "    d = distance.distance(\n",
    "        (row.latitude, row.longitude),\n",
    "        (row.coded_lat, row.coded_long)\n",
    "    ).km\n",
    "    return d"
   ]
  },
  {
   "cell_type": "code",
   "execution_count": null,
   "metadata": {},
   "outputs": [],
   "source": [
    "df3['distance'] = df3.apply(lambda row: calc_distance(row), axis=1)"
   ]
  },
  {
   "cell_type": "code",
   "execution_count": null,
   "metadata": {},
   "outputs": [],
   "source": [
    "df3.distance.describe().round(2)"
   ]
  },
  {
   "cell_type": "code",
   "execution_count": null,
   "metadata": {},
   "outputs": [],
   "source": [
    "df3.coded_score.describe()"
   ]
  },
  {
   "cell_type": "code",
   "execution_count": null,
   "metadata": {},
   "outputs": [],
   "source": [
    "df3.to_csv('../data/version3.csv', index=False)"
   ]
  },
  {
   "cell_type": "code",
   "execution_count": null,
   "metadata": {},
   "outputs": [],
   "source": []
  },
  {
   "cell_type": "code",
   "execution_count": null,
   "metadata": {},
   "outputs": [],
   "source": []
  }
 ],
 "metadata": {
  "kernelspec": {
   "display_name": "Python 3.9.2 64-bit ('base': conda)",
   "language": "python",
   "name": "python392jvsc74a57bd095ec9ec1504d83f612128e0fb229072f90bbb4cb09d9d5d93b5dd26e0ca2cfd1"
  },
  "language_info": {
   "codemirror_mode": {
    "name": "ipython",
    "version": 3
   },
   "file_extension": ".py",
   "mimetype": "text/x-python",
   "name": "python",
   "nbconvert_exporter": "python",
   "pygments_lexer": "ipython3",
   "version": "3.9.2"
  },
  "metadata": {
   "interpreter": {
    "hash": "95ec9ec1504d83f612128e0fb229072f90bbb4cb09d9d5d93b5dd26e0ca2cfd1"
   }
  }
 },
 "nbformat": 4,
 "nbformat_minor": 4
}