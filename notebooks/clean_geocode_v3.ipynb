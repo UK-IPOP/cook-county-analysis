{
 "cells": [
  {
   "cell_type": "code",
   "execution_count": 7,
   "metadata": {},
   "outputs": [],
   "source": [
    "import pandas as pd\n",
    "import re\n",
    "from typing import Union\n",
    "from rich.progress import track\n",
    "import requests\n",
    "from geopy.geocoders import ArcGIS\n",
    "import plotly.express as px"
   ]
  },
  {
   "cell_type": "code",
   "execution_count": 8,
   "metadata": {},
   "outputs": [
    {
     "output_type": "stream",
     "name": "stdout",
     "text": [
      "(54215, 27)\n"
     ]
    },
    {
     "output_type": "execute_result",
     "data": {
      "text/plain": [
       "        Case Number        Date of Incident           Date of Death   Age  \\\n",
       "23022  ME2017-01774  04/15/2017 10:06:00 PM  04/15/2017 10:31:00 PM  44.0   \n",
       "\n",
       "      Gender   Race  Latino Manner of Death      Primary Cause  \\\n",
       "23022   Male  Black   False        ACCIDENT  FENTANYL TOXICITY   \n",
       "\n",
       "      Primary Cause Line A  ... Commissioner District       Incident Address  \\\n",
       "23022                  NaN  ...                   5.0  241 WEST 107TH STREET   \n",
       "\n",
       "      Incident City Incident Zip Code  longitude   latitude  \\\n",
       "23022       CHICAGO             60628 -87.629726  41.699595   \n",
       "\n",
       "                                      location  Residence City Residence_Zip  \\\n",
       "23022  (41.699595191453646, -87.6297262418586)         Chicago         60628   \n",
       "\n",
       "      OBJECTID  \n",
       "23022    69250  \n",
       "\n",
       "[1 rows x 27 columns]"
      ],
      "text/html": "<div>\n<style scoped>\n    .dataframe tbody tr th:only-of-type {\n        vertical-align: middle;\n    }\n\n    .dataframe tbody tr th {\n        vertical-align: top;\n    }\n\n    .dataframe thead th {\n        text-align: right;\n    }\n</style>\n<table border=\"1\" class=\"dataframe\">\n  <thead>\n    <tr style=\"text-align: right;\">\n      <th></th>\n      <th>Case Number</th>\n      <th>Date of Incident</th>\n      <th>Date of Death</th>\n      <th>Age</th>\n      <th>Gender</th>\n      <th>Race</th>\n      <th>Latino</th>\n      <th>Manner of Death</th>\n      <th>Primary Cause</th>\n      <th>Primary Cause Line A</th>\n      <th>...</th>\n      <th>Commissioner District</th>\n      <th>Incident Address</th>\n      <th>Incident City</th>\n      <th>Incident Zip Code</th>\n      <th>longitude</th>\n      <th>latitude</th>\n      <th>location</th>\n      <th>Residence City</th>\n      <th>Residence_Zip</th>\n      <th>OBJECTID</th>\n    </tr>\n  </thead>\n  <tbody>\n    <tr>\n      <th>23022</th>\n      <td>ME2017-01774</td>\n      <td>04/15/2017 10:06:00 PM</td>\n      <td>04/15/2017 10:31:00 PM</td>\n      <td>44.0</td>\n      <td>Male</td>\n      <td>Black</td>\n      <td>False</td>\n      <td>ACCIDENT</td>\n      <td>FENTANYL TOXICITY</td>\n      <td>NaN</td>\n      <td>...</td>\n      <td>5.0</td>\n      <td>241 WEST 107TH STREET</td>\n      <td>CHICAGO</td>\n      <td>60628</td>\n      <td>-87.629726</td>\n      <td>41.699595</td>\n      <td>(41.699595191453646, -87.6297262418586)</td>\n      <td>Chicago</td>\n      <td>60628</td>\n      <td>69250</td>\n    </tr>\n  </tbody>\n</table>\n<p>1 rows × 27 columns</p>\n</div>"
     },
     "metadata": {},
     "execution_count": 8
    }
   ],
   "source": [
    "df = pd.read_csv('../data/Medical_Examiner_Case_Archive.csv')\n",
    "print(df.shape)\n",
    "df.sample(1)"
   ]
  },
  {
   "cell_type": "code",
   "execution_count": 9,
   "metadata": {},
   "outputs": [
    {
     "output_type": "execute_result",
     "data": {
      "text/plain": [
       "(53488, 27)"
      ]
     },
     "metadata": {},
     "execution_count": 9
    }
   ],
   "source": [
    "df2 = df[df['Incident Address'].notna()]\n",
    "df2.shape"
   ]
  },
  {
   "cell_type": "code",
   "execution_count": 10,
   "metadata": {},
   "outputs": [
    {
     "output_type": "execute_result",
     "data": {
      "text/plain": [
       "Unknown                        92\n",
       "UNKNOWN                        90\n",
       "UNKNOWN LOCATION               11\n",
       "9700 GROSS POINT ROAD          10\n",
       "10000 W O'Hare Ave             10\n",
       "                               ..\n",
       "1540 Mandel Avenue              1\n",
       "W. 95th at S. Turner Ave        1\n",
       "2751 N Lake Shore Drive         1\n",
       "4416 North Drake Avenue, #2     1\n",
       "4895 N. Hermitage #1            1\n",
       "Name: Incident Address, Length: 51331, dtype: int64"
      ]
     },
     "metadata": {},
     "execution_count": 10
    }
   ],
   "source": [
    "df2['Incident Address'].value_counts()"
   ]
  },
  {
   "cell_type": "code",
   "execution_count": 11,
   "metadata": {},
   "outputs": [
    {
     "output_type": "execute_result",
     "data": {
      "text/plain": [
       "True"
      ]
     },
     "metadata": {},
     "execution_count": 11
    }
   ],
   "source": [
    "'unk' in 'UNKNOWN location'.lower()"
   ]
  },
  {
   "cell_type": "code",
   "execution_count": 12,
   "metadata": {},
   "outputs": [
    {
     "output_type": "execute_result",
     "data": {
      "text/plain": [
       "'cool thin'"
      ]
     },
     "metadata": {},
     "execution_count": 12
    }
   ],
   "source": [
    "re.sub(r\"apt.*|\\#.*|.*nh,\", \"\", \"wowzer NH, cool thin # 12\".lower()).strip()"
   ]
  },
  {
   "cell_type": "code",
   "execution_count": 13,
   "metadata": {},
   "outputs": [
    {
     "output_type": "execute_result",
     "data": {
      "text/plain": [
       "'646 e.51st street apt 1e'"
      ]
     },
     "metadata": {},
     "execution_count": 13
    }
   ],
   "source": [
    "# regex 2 to specify only alphanumeric + '.' for abbreviations and spaces\n",
    "re.sub(r\"[^a-zA-Z0-9.\\s]\", \"\", \"646 E.51st Street (Apt 1E)\").lower().strip()"
   ]
  },
  {
   "cell_type": "code",
   "execution_count": 14,
   "metadata": {},
   "outputs": [],
   "source": [
    "car_words = ('auto', 'motor')\n",
    "\n",
    "def deal_with_commas(x: str) -> str:\n",
    "    if ',' not in x:\n",
    "        return x.strip().title()\n",
    "    parts = x.split(',')\n",
    "    result = ' '.join([z for z in parts if any(y for y in z if y.isnumeric())])\n",
    "    return result.strip().title()\n",
    "\n",
    "\n",
    "def remove_apartment_info(x: str) -> str:\n",
    "    result = re.sub(r\"apt.*|\\#.*|.*nh,\", \"\", x)\n",
    "    result2 = re.sub(r\"[^a-zA-Z0-9.\\s]\", \"\", result)\n",
    "    return deal_with_commas(result2)\n",
    "\n",
    "\n",
    "def clean_address(row: pd.Series) -> Union[int, str]:\n",
    "    cause = row.get('Primary Cause Line A')\n",
    "    a = row.get('Incident Address')\n",
    "    # removes if motor vehicle cause\n",
    "    if pd.notna(cause):\n",
    "        if any(word in cause.lower() for word in car_words):\n",
    "            return pd.NA\n",
    "    # handles 'unknown' and variations\n",
    "    if pd.isna(a) or 'unk' in a.lower():\n",
    "        return pd.NA\n",
    "    return remove_apartment_info(a.lower())\n"
   ]
  },
  {
   "cell_type": "code",
   "execution_count": 15,
   "metadata": {},
   "outputs": [
    {
     "output_type": "stream",
     "name": "stderr",
     "text": [
      "<ipython-input-15-e0b38138a7ad>:1: SettingWithCopyWarning: \nA value is trying to be set on a copy of a slice from a DataFrame.\nTry using .loc[row_indexer,col_indexer] = value instead\n\nSee the caveats in the documentation: https://pandas.pydata.org/pandas-docs/stable/user_guide/indexing.html#returning-a-view-versus-a-copy\n  df2['cleaned_address'] = df2.apply(lambda row: clean_address(row), axis=1)\n"
     ]
    },
    {
     "output_type": "execute_result",
     "data": {
      "text/plain": [
       "NaN                               2368\n",
       "1301 Lee Street                     18\n",
       "9615 Knox Ave                       14\n",
       "345 Dixie Highway                   14\n",
       "7001 W Cullom Ave                   13\n",
       "                                  ... \n",
       "34 Paxton Ln                         1\n",
       "7200 S. Union Avenue 1St Floor       1\n",
       "727 Sandra Drive                     1\n",
       "4857 West Diversey                   1\n",
       "7850 W. 183 St                       1\n",
       "Name: cleaned_address, Length: 47670, dtype: int64"
      ]
     },
     "metadata": {},
     "execution_count": 15
    }
   ],
   "source": [
    "df2['cleaned_address'] = df2.apply(lambda row: clean_address(row), axis=1)\n",
    "df2['cleaned_address'].value_counts(dropna=False)"
   ]
  },
  {
   "cell_type": "code",
   "execution_count": 16,
   "metadata": {},
   "outputs": [
    {
     "output_type": "execute_result",
     "data": {
      "text/plain": [
       "(51120, 28)"
      ]
     },
     "metadata": {},
     "execution_count": 16
    }
   ],
   "source": [
    "df3 = df2[df2['cleaned_address'].notna()]\n",
    "df3.shape"
   ]
  },
  {
   "cell_type": "code",
   "execution_count": 17,
   "metadata": {},
   "outputs": [
    {
     "output_type": "execute_result",
     "data": {
      "text/plain": [
       "\"We removed 3095 records due to 'null-like' addresses\""
      ]
     },
     "metadata": {},
     "execution_count": 17
    }
   ],
   "source": [
    "f\"We removed {df.shape[0] - df3.shape[0]} records due to 'null-like' addresses\""
   ]
  },
  {
   "cell_type": "markdown",
   "metadata": {},
   "source": [
    "See the benefit of cleaned addresses below:"
   ]
  },
  {
   "cell_type": "code",
   "execution_count": 18,
   "metadata": {},
   "outputs": [
    {
     "output_type": "execute_result",
     "data": {
      "text/plain": [
       "       Incident Address    cleaned_address\n",
       "8562   8049 MARYLAND 1N   8049 Maryland 1N\n",
       "4102  12632 S. AVENUE O  12632 S. Avenue O"
      ],
      "text/html": "<div>\n<style scoped>\n    .dataframe tbody tr th:only-of-type {\n        vertical-align: middle;\n    }\n\n    .dataframe tbody tr th {\n        vertical-align: top;\n    }\n\n    .dataframe thead th {\n        text-align: right;\n    }\n</style>\n<table border=\"1\" class=\"dataframe\">\n  <thead>\n    <tr style=\"text-align: right;\">\n      <th></th>\n      <th>Incident Address</th>\n      <th>cleaned_address</th>\n    </tr>\n  </thead>\n  <tbody>\n    <tr>\n      <th>8562</th>\n      <td>8049 MARYLAND 1N</td>\n      <td>8049 Maryland 1N</td>\n    </tr>\n    <tr>\n      <th>4102</th>\n      <td>12632 S. AVENUE O</td>\n      <td>12632 S. Avenue O</td>\n    </tr>\n  </tbody>\n</table>\n</div>"
     },
     "metadata": {},
     "execution_count": 18
    }
   ],
   "source": [
    "df3[['Incident Address','cleaned_address']].sample(2)"
   ]
  },
  {
   "cell_type": "code",
   "execution_count": 19,
   "metadata": {},
   "outputs": [
    {
     "output_type": "execute_result",
     "data": {
      "text/plain": [
       "Index(['Case Number', 'Date of Incident', 'Date of Death', 'Age', 'Gender',\n",
       "       'Race', 'Latino', 'Manner of Death', 'Primary Cause',\n",
       "       'Primary Cause Line A', 'Primary Cause Line B', 'Primary Cause Line C',\n",
       "       'Secondary Cause', 'Gun Related', 'Opioid Related', 'Cold Related',\n",
       "       'Heat Related', 'Commissioner District', 'Incident Address',\n",
       "       'Incident City', 'Incident Zip Code', 'longitude', 'latitude',\n",
       "       'location', 'Residence City', 'Residence_Zip', 'OBJECTID',\n",
       "       'cleaned_address'],\n",
       "      dtype='object')"
      ]
     },
     "metadata": {},
     "execution_count": 19
    }
   ],
   "source": [
    "df3.columns"
   ]
  },
  {
   "cell_type": "code",
   "execution_count": 20,
   "metadata": {},
   "outputs": [],
   "source": [
    "def city_sub(row) -> tuple[str, bool]:\n",
    "    res_city_valid = pd.notna(row['Residence City'])\n",
    "    inc_city_valid = pd.notna(row['Incident City'])\n",
    "    if pd.notna(row['Incident City']):\n",
    "        city = row['Incident City'].title().strip()\n",
    "        subbed = False\n",
    "    elif pd.isna(row['Incident City']) and pd.notna(row['Residence City']):\n",
    "        city = row['Residence City'].title().strip()\n",
    "        subbed = True\n",
    "    else:\n",
    "        city = ''\n",
    "        subbed = False\n",
    "    return city, subbed\n",
    "\n",
    "def make_address(row) -> tuple[str, bool]:\n",
    "    street = row['cleaned_address'].strip()\n",
    "    city, city_subbed = city_sub(row)\n",
    "    zip_code = '' if pd.isna(row['Incident Zip Code']) else row['Incident Zip Code'].strip()\n",
    "    address = f\"{street} {city} {zip_code}\"\n",
    "    return address.strip(), city_subbed\n",
    "\n",
    "\n",
    "def geo_query(row):\n",
    "    address = make_address(row)\n",
    "    url = f\"https://my-geocoder.herokuapp.com/geocode?address={requests.utils.quote(address)}\"\n",
    "    response = requests.get(url)\n",
    "    if response.status_code == 200:\n",
    "        return response.json()\n",
    "    else:\n",
    "        raise ValueError(\"Invalid response\")\n",
    "\n",
    "\n",
    "def self_geocode(row) -> tuple[float, float]:\n",
    "    address = make_address(row)\n",
    "    geocoder = ArcGIS()\n",
    "    coded = geocoder.geocode(address)\n",
    "    if coded:\n",
    "        return {\n",
    "            \"latitude\": coded.latitude,\n",
    "            \"longitude\": coded.longitude,\n",
    "            \"score\": coded.raw.get('score')\n",
    "        }\n",
    "    else:\n",
    "        return None"
   ]
  },
  {
   "cell_type": "code",
   "execution_count": 22,
   "metadata": {},
   "outputs": [
    {
     "output_type": "stream",
     "name": "stderr",
     "text": [
      "<ipython-input-22-e7148a99a660>:6: SettingWithCopyWarning: \nA value is trying to be set on a copy of a slice from a DataFrame.\nTry using .loc[row_indexer,col_indexer] = value instead\n\nSee the caveats in the documentation: https://pandas.pydata.org/pandas-docs/stable/user_guide/indexing.html#returning-a-view-versus-a-copy\n  df3['full_address'] = [a[0] for a in addresses]\n<ipython-input-22-e7148a99a660>:7: SettingWithCopyWarning: \nA value is trying to be set on a copy of a slice from a DataFrame.\nTry using .loc[row_indexer,col_indexer] = value instead\n\nSee the caveats in the documentation: https://pandas.pydata.org/pandas-docs/stable/user_guide/indexing.html#returning-a-view-versus-a-copy\n  df3['city_subbed'] = [a[1] for a in addresses]\n"
     ]
    },
    {
     "output_type": "execute_result",
     "data": {
      "text/plain": [
       "                        full_address  city_subbed\n",
       "4               1049 Napleton Avenue        False\n",
       "7               166 N. Lamon Chicago         True\n",
       "11       1306 S Kedzie Chicago 60623        False\n",
       "12   8695 S Archer Ave Chicago 60638        False\n",
       "13  11901 South Loomis Chicago 60643        False"
      ],
      "text/html": "<div>\n<style scoped>\n    .dataframe tbody tr th:only-of-type {\n        vertical-align: middle;\n    }\n\n    .dataframe tbody tr th {\n        vertical-align: top;\n    }\n\n    .dataframe thead th {\n        text-align: right;\n    }\n</style>\n<table border=\"1\" class=\"dataframe\">\n  <thead>\n    <tr style=\"text-align: right;\">\n      <th></th>\n      <th>full_address</th>\n      <th>city_subbed</th>\n    </tr>\n  </thead>\n  <tbody>\n    <tr>\n      <th>4</th>\n      <td>1049 Napleton Avenue</td>\n      <td>False</td>\n    </tr>\n    <tr>\n      <th>7</th>\n      <td>166 N. Lamon Chicago</td>\n      <td>True</td>\n    </tr>\n    <tr>\n      <th>11</th>\n      <td>1306 S Kedzie Chicago 60623</td>\n      <td>False</td>\n    </tr>\n    <tr>\n      <th>12</th>\n      <td>8695 S Archer Ave Chicago 60638</td>\n      <td>False</td>\n    </tr>\n    <tr>\n      <th>13</th>\n      <td>11901 South Loomis Chicago 60643</td>\n      <td>False</td>\n    </tr>\n  </tbody>\n</table>\n</div>"
     },
     "metadata": {},
     "execution_count": 22
    }
   ],
   "source": [
    "from geopy.extra.rate_limiter import RateLimiter\n",
    "from tqdm import tqdm\n",
    "tqdm.pandas()\n",
    "\n",
    "addresses = df3.apply(lambda row: make_address(row), axis=1)\n",
    "df3['full_address'] = [a[0] for a in addresses]\n",
    "df3['city_subbed'] = [a[1] for a in addresses]"
   ]
  },
  {
   "cell_type": "code",
   "execution_count": 35,
   "metadata": {},
   "outputs": [
    {
     "output_type": "execute_result",
     "data": {
      "text/plain": [
       "                                     Incident Address Incident City  \\\n",
       "7                                        166 N. Lamon           NaN   \n",
       "15                        6946 S. DORCHESTER  HALLWAY           NaN   \n",
       "401                                     RUSH OAK PARK           NaN   \n",
       "555                              13617 Kildare Avenue           NaN   \n",
       "700    655 W. 65TH STREET- MARJOR LAWRENCE APARTMENTS           NaN   \n",
       "...                                               ...           ...   \n",
       "53659                        4341 WEST ADDISON STREET           NaN   \n",
       "53791                               2451 N Sacromento           NaN   \n",
       "53797                                          O'Hare           NaN   \n",
       "54080                              FRANSCICAN INDIANA           NaN   \n",
       "54145                               4716 N ALBANY AVE           NaN   \n",
       "\n",
       "      Incident Zip Code  longitude   latitude  \\\n",
       "7                   NaN -87.747912  41.883585   \n",
       "15                60637        NaN        NaN   \n",
       "401                 NaN        NaN        NaN   \n",
       "555               60418 -87.725402  41.644220   \n",
       "700               60636        NaN        NaN   \n",
       "...                 ...        ...        ...   \n",
       "53659             60641 -87.736900  41.946032   \n",
       "53791             60647 -87.702007  41.926394   \n",
       "53797               NaN        NaN        NaN   \n",
       "54080               NaN        NaN        NaN   \n",
       "54145             60625 -87.706280  41.967216   \n",
       "\n",
       "                                      location Residence City Residence_Zip  \\\n",
       "7      (41.88358460314286, -87.74791189663985)        Chicago         60644   \n",
       "15                                         NaN        Chicago         60649   \n",
       "401                                        NaN       Oak Park         60302   \n",
       "555     (41.64421982142271, -87.7254020225389)      Crestwood         60418   \n",
       "700                                        NaN        Chicago         60636   \n",
       "...                                        ...            ...           ...   \n",
       "53659  (41.94603227722463, -87.73690006821778)        Chicago         60641   \n",
       "53791  (41.92639398332069, -87.70200662780348)        Chicago         60647   \n",
       "53797                                      NaN         Stuart         34997   \n",
       "54080                                      NaN         Dolton         60419   \n",
       "54145  (41.96721647074813, -87.70627987733478)        Chicago         60625   \n",
       "\n",
       "       OBJECTID                                cleaned_address  \\\n",
       "7         49301                                   166 N. Lamon   \n",
       "15        50138                    6946 S. Dorchester  Hallway   \n",
       "401      118956                                  Rush Oak Park   \n",
       "555       53082                           13617 Kildare Avenue   \n",
       "700       49269  655 W. 65Th Street Marjor Lawrence Apartments   \n",
       "...         ...                                            ...   \n",
       "53659    125752                       4341 West Addison Street   \n",
       "53791    120370                              2451 N Sacromento   \n",
       "53797    123728                                          Ohare   \n",
       "54080    124647                             Franscican Indiana   \n",
       "54145    127091                              4716 N Albany Ave   \n",
       "\n",
       "                                            full_address  city_subbed  \n",
       "7                                   166 N. Lamon Chicago         True  \n",
       "15             6946 S. Dorchester  Hallway Chicago 60637         True  \n",
       "401                               Rush Oak Park Oak Park         True  \n",
       "555                 13617 Kildare Avenue Crestwood 60418         True  \n",
       "700    655 W. 65Th Street Marjor Lawrence Apartments ...         True  \n",
       "...                                                  ...          ...  \n",
       "53659             4341 West Addison Street Chicago 60641         True  \n",
       "53791                    2451 N Sacromento Chicago 60647         True  \n",
       "53797                                       Ohare Stuart         True  \n",
       "54080                          Franscican Indiana Dolton         True  \n",
       "54145                    4716 N Albany Ave Chicago 60625         True  \n",
       "\n",
       "[485 rows x 12 columns]"
      ],
      "text/html": "<div>\n<style scoped>\n    .dataframe tbody tr th:only-of-type {\n        vertical-align: middle;\n    }\n\n    .dataframe tbody tr th {\n        vertical-align: top;\n    }\n\n    .dataframe thead th {\n        text-align: right;\n    }\n</style>\n<table border=\"1\" class=\"dataframe\">\n  <thead>\n    <tr style=\"text-align: right;\">\n      <th></th>\n      <th>Incident Address</th>\n      <th>Incident City</th>\n      <th>Incident Zip Code</th>\n      <th>longitude</th>\n      <th>latitude</th>\n      <th>location</th>\n      <th>Residence City</th>\n      <th>Residence_Zip</th>\n      <th>OBJECTID</th>\n      <th>cleaned_address</th>\n      <th>full_address</th>\n      <th>city_subbed</th>\n    </tr>\n  </thead>\n  <tbody>\n    <tr>\n      <th>7</th>\n      <td>166 N. Lamon</td>\n      <td>NaN</td>\n      <td>NaN</td>\n      <td>-87.747912</td>\n      <td>41.883585</td>\n      <td>(41.88358460314286, -87.74791189663985)</td>\n      <td>Chicago</td>\n      <td>60644</td>\n      <td>49301</td>\n      <td>166 N. Lamon</td>\n      <td>166 N. Lamon Chicago</td>\n      <td>True</td>\n    </tr>\n    <tr>\n      <th>15</th>\n      <td>6946 S. DORCHESTER  HALLWAY</td>\n      <td>NaN</td>\n      <td>60637</td>\n      <td>NaN</td>\n      <td>NaN</td>\n      <td>NaN</td>\n      <td>Chicago</td>\n      <td>60649</td>\n      <td>50138</td>\n      <td>6946 S. Dorchester  Hallway</td>\n      <td>6946 S. Dorchester  Hallway Chicago 60637</td>\n      <td>True</td>\n    </tr>\n    <tr>\n      <th>401</th>\n      <td>RUSH OAK PARK</td>\n      <td>NaN</td>\n      <td>NaN</td>\n      <td>NaN</td>\n      <td>NaN</td>\n      <td>NaN</td>\n      <td>Oak Park</td>\n      <td>60302</td>\n      <td>118956</td>\n      <td>Rush Oak Park</td>\n      <td>Rush Oak Park Oak Park</td>\n      <td>True</td>\n    </tr>\n    <tr>\n      <th>555</th>\n      <td>13617 Kildare Avenue</td>\n      <td>NaN</td>\n      <td>60418</td>\n      <td>-87.725402</td>\n      <td>41.644220</td>\n      <td>(41.64421982142271, -87.7254020225389)</td>\n      <td>Crestwood</td>\n      <td>60418</td>\n      <td>53082</td>\n      <td>13617 Kildare Avenue</td>\n      <td>13617 Kildare Avenue Crestwood 60418</td>\n      <td>True</td>\n    </tr>\n    <tr>\n      <th>700</th>\n      <td>655 W. 65TH STREET- MARJOR LAWRENCE APARTMENTS</td>\n      <td>NaN</td>\n      <td>60636</td>\n      <td>NaN</td>\n      <td>NaN</td>\n      <td>NaN</td>\n      <td>Chicago</td>\n      <td>60636</td>\n      <td>49269</td>\n      <td>655 W. 65Th Street Marjor Lawrence Apartments</td>\n      <td>655 W. 65Th Street Marjor Lawrence Apartments ...</td>\n      <td>True</td>\n    </tr>\n    <tr>\n      <th>...</th>\n      <td>...</td>\n      <td>...</td>\n      <td>...</td>\n      <td>...</td>\n      <td>...</td>\n      <td>...</td>\n      <td>...</td>\n      <td>...</td>\n      <td>...</td>\n      <td>...</td>\n      <td>...</td>\n      <td>...</td>\n    </tr>\n    <tr>\n      <th>53659</th>\n      <td>4341 WEST ADDISON STREET</td>\n      <td>NaN</td>\n      <td>60641</td>\n      <td>-87.736900</td>\n      <td>41.946032</td>\n      <td>(41.94603227722463, -87.73690006821778)</td>\n      <td>Chicago</td>\n      <td>60641</td>\n      <td>125752</td>\n      <td>4341 West Addison Street</td>\n      <td>4341 West Addison Street Chicago 60641</td>\n      <td>True</td>\n    </tr>\n    <tr>\n      <th>53791</th>\n      <td>2451 N Sacromento</td>\n      <td>NaN</td>\n      <td>60647</td>\n      <td>-87.702007</td>\n      <td>41.926394</td>\n      <td>(41.92639398332069, -87.70200662780348)</td>\n      <td>Chicago</td>\n      <td>60647</td>\n      <td>120370</td>\n      <td>2451 N Sacromento</td>\n      <td>2451 N Sacromento Chicago 60647</td>\n      <td>True</td>\n    </tr>\n    <tr>\n      <th>53797</th>\n      <td>O'Hare</td>\n      <td>NaN</td>\n      <td>NaN</td>\n      <td>NaN</td>\n      <td>NaN</td>\n      <td>NaN</td>\n      <td>Stuart</td>\n      <td>34997</td>\n      <td>123728</td>\n      <td>Ohare</td>\n      <td>Ohare Stuart</td>\n      <td>True</td>\n    </tr>\n    <tr>\n      <th>54080</th>\n      <td>FRANSCICAN INDIANA</td>\n      <td>NaN</td>\n      <td>NaN</td>\n      <td>NaN</td>\n      <td>NaN</td>\n      <td>NaN</td>\n      <td>Dolton</td>\n      <td>60419</td>\n      <td>124647</td>\n      <td>Franscican Indiana</td>\n      <td>Franscican Indiana Dolton</td>\n      <td>True</td>\n    </tr>\n    <tr>\n      <th>54145</th>\n      <td>4716 N ALBANY AVE</td>\n      <td>NaN</td>\n      <td>60625</td>\n      <td>-87.706280</td>\n      <td>41.967216</td>\n      <td>(41.96721647074813, -87.70627987733478)</td>\n      <td>Chicago</td>\n      <td>60625</td>\n      <td>127091</td>\n      <td>4716 N Albany Ave</td>\n      <td>4716 N Albany Ave Chicago 60625</td>\n      <td>True</td>\n    </tr>\n  </tbody>\n</table>\n<p>485 rows × 12 columns</p>\n</div>"
     },
     "metadata": {},
     "execution_count": 35
    }
   ],
   "source": [
    "# see results of city sub\n",
    "df3[df3.city_subbed == True].loc[:, 'Incident Address':]"
   ]
  },
  {
   "cell_type": "code",
   "execution_count": 24,
   "metadata": {},
   "outputs": [
    {
     "output_type": "execute_result",
     "data": {
      "text/plain": [
       "False    50635\n",
       "True       485\n",
       "Name: city_subbed, dtype: int64"
      ]
     },
     "metadata": {},
     "execution_count": 24
    }
   ],
   "source": [
    "df3.city_subbed.value_counts()"
   ]
  },
  {
   "cell_type": "code",
   "execution_count": null,
   "metadata": {},
   "outputs": [],
   "source": [
    "geolocator = ArcGIS()\n",
    "geocode = RateLimiter(geolocator.geocode, min_delay_seconds=0)\n",
    "df3['geo_location'] = df3['full_address'].progress_apply(geocode)"
   ]
  },
  {
   "cell_type": "code",
   "execution_count": null,
   "metadata": {},
   "outputs": [],
   "source": [
    "df3['coded_lat'] = df3['geo_location'].apply(lambda x: x.latitude if pd.notna(x) else None)\n",
    "df3['coded_long'] = df3['geo_location'].apply(lambda x: x.longitude if pd.notna(x) else None)\n",
    "df3['coded_score'] = df3['geo_location'].apply(lambda x: x.raw.get('score') if pd.notna(x) else None)\n",
    "\n",
    "df3.drop('geo_location', axis=1, inplace=True)\n",
    "print(df3.coded_score.describe())"
   ]
  },
  {
   "cell_type": "markdown",
   "metadata": {},
   "source": [
    "## Calculate geopy distance from original lat/long"
   ]
  },
  {
   "cell_type": "code",
   "execution_count": 16,
   "metadata": {},
   "outputs": [
    {
     "name": "stderr",
     "output_type": "stream",
     "text": [
      "/opt/homebrew/Caskroom/miniforge/base/lib/python3.9/site-packages/IPython/core/interactiveshell.py:3169: DtypeWarning: Columns (20,25) have mixed types.Specify dtype option on import or set low_memory=False.\n",
      "  has_raised = await self.run_ast_nodes(code_ast.body, cell_name,\n"
     ]
    }
   ],
   "source": [
    "# use if need geocoded data\n",
    "dff = pd.read_csv('../data/version3.csv')"
   ]
  },
  {
   "cell_type": "code",
   "execution_count": 17,
   "metadata": {},
   "outputs": [],
   "source": [
    "from geopy import distance\n",
    "\n",
    "def calc_distance(row):\n",
    "    if pd.isna(row.latitude) or pd.isna(row.longitude) or pd.isna(row.coded_lat) or pd.isna(row.coded_long):\n",
    "        return None\n",
    "    d = distance.distance(\n",
    "        (row.latitude, row.longitude),\n",
    "        (row.coded_lat, row.coded_long)\n",
    "    ).km\n",
    "    return d"
   ]
  },
  {
   "cell_type": "code",
   "execution_count": null,
   "metadata": {},
   "outputs": [],
   "source": [
    "df3['distance'] = df3.apply(lambda row: calc_distance(row), axis=1)"
   ]
  },
  {
   "cell_type": "code",
   "execution_count": 18,
   "metadata": {},
   "outputs": [
    {
     "data": {
      "text/plain": [
       "count    46164.00\n",
       "mean        11.86\n",
       "std        295.27\n",
       "min          0.00\n",
       "25%          0.00\n",
       "50%          0.00\n",
       "75%          0.02\n",
       "max      14996.75\n",
       "Name: distance, dtype: float64"
      ]
     },
     "execution_count": 18,
     "metadata": {},
     "output_type": "execute_result"
    }
   ],
   "source": [
    "df3.distance.describe().round(2)"
   ]
  },
  {
   "cell_type": "code",
   "execution_count": 57,
   "metadata": {},
   "outputs": [
    {
     "data": {
      "text/plain": [
       "count    51105.00\n",
       "mean        98.19\n",
       "std          3.64\n",
       "min         70.00\n",
       "25%         98.53\n",
       "50%         99.43\n",
       "75%        100.00\n",
       "max        100.00\n",
       "Name: coded_score, dtype: float64"
      ]
     },
     "execution_count": 57,
     "metadata": {},
     "output_type": "execute_result"
    }
   ],
   "source": [
    "df3.coded_score.describe().round(2)"
   ]
  },
  {
   "cell_type": "code",
   "execution_count": null,
   "metadata": {},
   "outputs": [],
   "source": [
    "df3.to_csv('../data/version3.csv', index=False)"
   ]
  }
 ],
 "metadata": {
  "interpreter": {
   "hash": "95ec9ec1504d83f612128e0fb229072f90bbb4cb09d9d5d93b5dd26e0ca2cfd1"
  },
  "kernelspec": {
   "name": "python392jvsc74a57bd095ec9ec1504d83f612128e0fb229072f90bbb4cb09d9d5d93b5dd26e0ca2cfd1",
   "display_name": "Python 3.9.2 64-bit ('base': conda)"
  },
  "language_info": {
   "codemirror_mode": {
    "name": "ipython",
    "version": 3
   },
   "file_extension": ".py",
   "mimetype": "text/x-python",
   "name": "python",
   "nbconvert_exporter": "python",
   "pygments_lexer": "ipython3",
   "version": "3.9.2"
  },
  "metadata": {
   "interpreter": {
    "hash": "95ec9ec1504d83f612128e0fb229072f90bbb4cb09d9d5d93b5dd26e0ca2cfd1"
   }
  }
 },
 "nbformat": 4,
 "nbformat_minor": 4
}