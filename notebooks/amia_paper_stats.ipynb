{
 "cells": [
  {
   "cell_type": "code",
   "execution_count": 88,
   "metadata": {},
   "outputs": [
    {
     "data": {
      "text/plain": [
       "['OID_',\n",
       " 'Join_Count',\n",
       " 'TARGET_FID',\n",
       " 'Join_Count_1',\n",
       " 'TARGET_FID_1',\n",
       " 'Join_Count_12',\n",
       " 'TARGET_FID_12',\n",
       " 'casenumber',\n",
       " 'incident_date_x',\n",
       " 'death_date_x',\n",
       " 'age',\n",
       " 'gender',\n",
       " 'race',\n",
       " 'latino',\n",
       " 'cold_related',\n",
       " 'heat_related',\n",
       " 'commissioner_district',\n",
       " 'residence_city',\n",
       " 'residence_zip',\n",
       " 'covid_related',\n",
       " 'manner',\n",
       " 'primarycause',\n",
       " 'secondarycause',\n",
       " 'gunrelated',\n",
       " 'opioids',\n",
       " 'primarycause_linea',\n",
       " 'primarycause_lineb',\n",
       " 'primarycause_linec',\n",
       " 'geocoded_score',\n",
       " 'geocoded_address',\n",
       " 'full_address',\n",
       " 'recovered',\n",
       " 'final_latitude',\n",
       " 'final_longitude',\n",
       " 'closest_pharmacy',\n",
       " 'CFNAME',\n",
       " 'CFTYPE',\n",
       " 'CFSUBTYPE',\n",
       " 'ADDRESS',\n",
       " 'GNISCODE',\n",
       " 'SOURCE',\n",
       " 'Jurisdicti',\n",
       " 'Community',\n",
       " 'STATEFP',\n",
       " 'COUNTYFP',\n",
       " 'GEOID',\n",
       " 'INTPTLAT',\n",
       " 'INTPTLON',\n",
       " 'LANDUSE',\n",
       " 'landuse_name',\n",
       " 'landuse_sub_name',\n",
       " 'landuse_major_name',\n",
       " 'death_datetime',\n",
       " 'death_time',\n",
       " 'death_year',\n",
       " 'death_month',\n",
       " 'death_day',\n",
       " 'death_week',\n",
       " 'motel',\n",
       " 'hot_combined',\n",
       " 'cold_combined',\n",
       " 'primary_combined',\n",
       " 'repeated_address',\n",
       " 'repeated_lat_long',\n",
       " 'incident_date_y',\n",
       " 'death_date_y',\n",
       " 'death_street',\n",
       " 'death_city',\n",
       " 'death_county',\n",
       " 'death_state',\n",
       " 'death_zip',\n",
       " 'death_location',\n",
       " 'death_location_1']"
      ]
     },
     "execution_count": 88,
     "metadata": {},
     "output_type": "execute_result"
    }
   ],
   "source": [
    "from __future__ import annotations\n",
    "\n",
    "import pandas as pd\n",
    "import seaborn as sns\n",
    "import plotly.express as px\n",
    "import plotly.io as pio\n",
    "import re\n",
    "from collections import Counter\n",
    "\n",
    "pio.renderers.default = \"notebook\"\n",
    "# %%\n",
    "\n",
    "df = pd.read_csv(\"../data/output/finalized.csv\", low_memory=False)\n",
    "\n",
    "[c for c in df.columns if not c.endswith(\"_primary\") and not c.endswith(\"_secondary\")]"
   ]
  },
  {
   "cell_type": "code",
   "execution_count": 18,
   "metadata": {},
   "outputs": [
    {
     "data": {
      "text/plain": [
       "134"
      ]
     },
     "execution_count": 18,
     "metadata": {},
     "output_type": "execute_result"
    }
   ],
   "source": [
    "len([c for c in df.columns if c.endswith(\"_primary\") or c.endswith(\"_secondary\")])"
   ]
  },
  {
   "cell_type": "code",
   "execution_count": 19,
   "metadata": {},
   "outputs": [
    {
     "data": {
      "text/plain": [
       "['OID_',\n",
       " 'Join_Count',\n",
       " 'TARGET_FID',\n",
       " 'Join_Count_1',\n",
       " 'TARGET_FID_1',\n",
       " 'Join_Count_12',\n",
       " 'TARGET_FID_12',\n",
       " 'casenumber',\n",
       " 'incident_date_x',\n",
       " 'death_date_x',\n",
       " 'age',\n",
       " 'gender',\n",
       " 'race',\n",
       " 'latino',\n",
       " 'cold_related',\n",
       " 'heat_related',\n",
       " 'commissioner_district',\n",
       " 'residence_city',\n",
       " 'residence_zip',\n",
       " 'covid_related',\n",
       " 'manner',\n",
       " 'primarycause',\n",
       " 'secondarycause',\n",
       " 'gunrelated',\n",
       " 'opioids',\n",
       " 'primarycause_linea',\n",
       " 'primarycause_lineb',\n",
       " 'primarycause_linec',\n",
       " 'geocoded_score',\n",
       " 'geocoded_address',\n",
       " 'full_address',\n",
       " 'recovered',\n",
       " 'final_latitude',\n",
       " 'final_longitude',\n",
       " 'closest_pharmacy',\n",
       " 'CFNAME',\n",
       " 'CFTYPE',\n",
       " 'CFSUBTYPE',\n",
       " 'ADDRESS',\n",
       " 'GNISCODE',\n",
       " 'SOURCE',\n",
       " 'Jurisdicti',\n",
       " 'Community',\n",
       " 'STATEFP',\n",
       " 'COUNTYFP',\n",
       " 'GEOID',\n",
       " 'INTPTLAT',\n",
       " 'INTPTLON',\n",
       " 'LANDUSE',\n",
       " 'landuse_name',\n",
       " 'landuse_sub_name',\n",
       " 'landuse_major_name',\n",
       " 'death_datetime',\n",
       " 'death_time',\n",
       " 'death_year',\n",
       " 'death_month',\n",
       " 'death_day',\n",
       " 'death_week',\n",
       " 'motel',\n",
       " 'hot_combined',\n",
       " 'cold_combined',\n",
       " 'primary_combined',\n",
       " 'repeated_address',\n",
       " 'repeated_lat_long',\n",
       " 'incident_date_y',\n",
       " 'death_date_y',\n",
       " 'death_street',\n",
       " 'death_city',\n",
       " 'death_county',\n",
       " 'death_state',\n",
       " 'death_zip',\n",
       " 'death_location',\n",
       " 'death_location_1']"
      ]
     },
     "execution_count": 19,
     "metadata": {},
     "output_type": "execute_result"
    }
   ],
   "source": [
    "[c for c in df.columns if not c.endswith(\"_primary\") and not c.endswith(\"_secondary\")]"
   ]
  },
  {
   "cell_type": "code",
   "execution_count": 3,
   "metadata": {},
   "outputs": [
    {
     "data": {
      "text/plain": [
       "count    65227.000000\n",
       "mean         1.304015\n",
       "std         11.541382\n",
       "min         -1.000000\n",
       "25%          0.265323\n",
       "50%          0.483335\n",
       "75%          0.801440\n",
       "max        572.601492\n",
       "Name: closest_pharmacy, dtype: float64"
      ]
     },
     "execution_count": 3,
     "metadata": {},
     "output_type": "execute_result"
    }
   ],
   "source": [
    "df.closest_pharmacy.describe()"
   ]
  },
  {
   "cell_type": "code",
   "execution_count": 4,
   "metadata": {},
   "outputs": [
    {
     "data": {
      "text/html": [
       "<div>\n",
       "<style scoped>\n",
       "    .dataframe tbody tr th:only-of-type {\n",
       "        vertical-align: middle;\n",
       "    }\n",
       "\n",
       "    .dataframe tbody tr th {\n",
       "        vertical-align: top;\n",
       "    }\n",
       "\n",
       "    .dataframe thead th {\n",
       "        text-align: right;\n",
       "    }\n",
       "</style>\n",
       "<table border=\"1\" class=\"dataframe\">\n",
       "  <thead>\n",
       "    <tr style=\"text-align: right;\">\n",
       "      <th></th>\n",
       "      <th>record_id</th>\n",
       "      <th>drug_name</th>\n",
       "      <th>word_found</th>\n",
       "      <th>similarity_ratio</th>\n",
       "      <th>tags</th>\n",
       "    </tr>\n",
       "  </thead>\n",
       "  <tbody>\n",
       "    <tr>\n",
       "      <th>0</th>\n",
       "      <td>ME2022-03773</td>\n",
       "      <td>Covid</td>\n",
       "      <td>coronary</td>\n",
       "      <td>0.902273</td>\n",
       "      <td>covid</td>\n",
       "    </tr>\n",
       "    <tr>\n",
       "      <th>1</th>\n",
       "      <td>ME2022-03769</td>\n",
       "      <td>Covid</td>\n",
       "      <td>coronary</td>\n",
       "      <td>0.902273</td>\n",
       "      <td>covid</td>\n",
       "    </tr>\n",
       "    <tr>\n",
       "      <th>2</th>\n",
       "      <td>ME2022-03765</td>\n",
       "      <td>Covid</td>\n",
       "      <td>corona</td>\n",
       "      <td>0.909091</td>\n",
       "      <td>covid</td>\n",
       "    </tr>\n",
       "    <tr>\n",
       "      <th>3</th>\n",
       "      <td>ME2022-03725</td>\n",
       "      <td>Covid</td>\n",
       "      <td>coronary</td>\n",
       "      <td>0.902273</td>\n",
       "      <td>covid</td>\n",
       "    </tr>\n",
       "    <tr>\n",
       "      <th>4</th>\n",
       "      <td>ME2022-03716</td>\n",
       "      <td>Covid</td>\n",
       "      <td>coronary</td>\n",
       "      <td>0.902273</td>\n",
       "      <td>covid</td>\n",
       "    </tr>\n",
       "  </tbody>\n",
       "</table>\n",
       "</div>"
      ],
      "text/plain": [
       "      record_id drug_name word_found  similarity_ratio   tags\n",
       "0  ME2022-03773     Covid   coronary          0.902273  covid\n",
       "1  ME2022-03769     Covid   coronary          0.902273  covid\n",
       "2  ME2022-03765     Covid     corona          0.909091  covid\n",
       "3  ME2022-03725     Covid   coronary          0.902273  covid\n",
       "4  ME2022-03716     Covid   coronary          0.902273  covid"
      ]
     },
     "execution_count": 4,
     "metadata": {},
     "output_type": "execute_result"
    }
   ],
   "source": [
    "drugs = pd.read_csv(\"../data/drugs/output.csv\")\n",
    "drugs.head()"
   ]
  },
  {
   "cell_type": "code",
   "execution_count": 5,
   "metadata": {},
   "outputs": [
    {
     "data": {
      "text/plain": [
       "count    6213.000000\n",
       "mean        0.933585\n",
       "std         0.037368\n",
       "min         0.900000\n",
       "25%         0.902273\n",
       "50%         0.909091\n",
       "75%         0.940000\n",
       "max         1.000000\n",
       "Name: similarity_ratio, dtype: float64"
      ]
     },
     "execution_count": 5,
     "metadata": {},
     "output_type": "execute_result"
    }
   ],
   "source": [
    "drugs.similarity_ratio.describe()"
   ]
  },
  {
   "cell_type": "code",
   "execution_count": 8,
   "metadata": {},
   "outputs": [
    {
     "data": {
      "text/plain": [
       "(65227, 33)"
      ]
     },
     "execution_count": 8,
     "metadata": {},
     "output_type": "execute_result"
    }
   ],
   "source": [
    "cases = pd.read_csv('../data/raw/cases.csv')\n",
    "cases.shape"
   ]
  },
  {
   "cell_type": "code",
   "execution_count": 10,
   "metadata": {},
   "outputs": [
    {
     "data": {
      "text/plain": [
       "(8528, 33)"
      ]
     },
     "execution_count": 10,
     "metadata": {},
     "output_type": "execute_result"
    }
   ],
   "source": [
    "cases[(pd.isna(cases.latitude)) | (pd.isna(cases.longitude))].shape"
   ]
  },
  {
   "cell_type": "code",
   "execution_count": 11,
   "metadata": {},
   "outputs": [
    {
     "data": {
      "text/plain": [
       "7311"
      ]
     },
     "execution_count": 11,
     "metadata": {},
     "output_type": "execute_result"
    }
   ],
   "source": [
    "df.recovered.sum()"
   ]
  },
  {
   "cell_type": "code",
   "execution_count": 13,
   "metadata": {},
   "outputs": [
    {
     "data": {
      "text/plain": [
       "(65227, 207)"
      ]
     },
     "execution_count": 13,
     "metadata": {},
     "output_type": "execute_result"
    }
   ],
   "source": [
    "df.shape"
   ]
  },
  {
   "cell_type": "code",
   "execution_count": 16,
   "metadata": {},
   "outputs": [
    {
     "data": {
      "text/html": [
       "<div>\n",
       "<style scoped>\n",
       "    .dataframe tbody tr th:only-of-type {\n",
       "        vertical-align: middle;\n",
       "    }\n",
       "\n",
       "    .dataframe tbody tr th {\n",
       "        vertical-align: top;\n",
       "    }\n",
       "\n",
       "    .dataframe thead th {\n",
       "        text-align: right;\n",
       "    }\n",
       "</style>\n",
       "<table border=\"1\" class=\"dataframe\">\n",
       "  <thead>\n",
       "    <tr style=\"text-align: right;\">\n",
       "      <th></th>\n",
       "      <th>latitude</th>\n",
       "      <th>longitude</th>\n",
       "    </tr>\n",
       "  </thead>\n",
       "  <tbody>\n",
       "    <tr>\n",
       "      <th>count</th>\n",
       "      <td>56699.000000</td>\n",
       "      <td>56699.000000</td>\n",
       "    </tr>\n",
       "    <tr>\n",
       "      <th>mean</th>\n",
       "      <td>41.843895</td>\n",
       "      <td>-87.727874</td>\n",
       "    </tr>\n",
       "    <tr>\n",
       "      <th>std</th>\n",
       "      <td>0.139792</td>\n",
       "      <td>0.116211</td>\n",
       "    </tr>\n",
       "    <tr>\n",
       "      <th>min</th>\n",
       "      <td>41.469732</td>\n",
       "      <td>-88.263178</td>\n",
       "    </tr>\n",
       "    <tr>\n",
       "      <th>25%</th>\n",
       "      <td>41.750306</td>\n",
       "      <td>-87.778183</td>\n",
       "    </tr>\n",
       "    <tr>\n",
       "      <th>50%</th>\n",
       "      <td>41.858746</td>\n",
       "      <td>-87.707253</td>\n",
       "    </tr>\n",
       "    <tr>\n",
       "      <th>75%</th>\n",
       "      <td>41.941611</td>\n",
       "      <td>-87.649789</td>\n",
       "    </tr>\n",
       "    <tr>\n",
       "      <th>max</th>\n",
       "      <td>42.153747</td>\n",
       "      <td>-87.524835</td>\n",
       "    </tr>\n",
       "  </tbody>\n",
       "</table>\n",
       "</div>"
      ],
      "text/plain": [
       "           latitude     longitude\n",
       "count  56699.000000  56699.000000\n",
       "mean      41.843895    -87.727874\n",
       "std        0.139792      0.116211\n",
       "min       41.469732    -88.263178\n",
       "25%       41.750306    -87.778183\n",
       "50%       41.858746    -87.707253\n",
       "75%       41.941611    -87.649789\n",
       "max       42.153747    -87.524835"
      ]
     },
     "execution_count": 16,
     "metadata": {},
     "output_type": "execute_result"
    }
   ],
   "source": [
    "cases[['latitude', 'longitude']].describe()"
   ]
  },
  {
   "cell_type": "code",
   "execution_count": 17,
   "metadata": {},
   "outputs": [
    {
     "data": {
      "text/plain": [
       "count    7311.000000\n",
       "mean       93.855031\n",
       "std         7.649486\n",
       "min        70.000000\n",
       "25%        89.830000\n",
       "50%        97.300000\n",
       "75%       100.000000\n",
       "max       100.000000\n",
       "Name: geocoded_score, dtype: float64"
      ]
     },
     "execution_count": 17,
     "metadata": {},
     "output_type": "execute_result"
    }
   ],
   "source": [
    "df.geocoded_score.describe()"
   ]
  },
  {
   "cell_type": "code",
   "execution_count": 24,
   "metadata": {},
   "outputs": [
    {
     "name": "stderr",
     "output_type": "stream",
     "text": [
      "/Users/nick/Projects/Kentucky/geocoding/.venv/lib/python3.9/site-packages/IPython/core/interactiveshell.py:3444: DtypeWarning:\n",
      "\n",
      "Columns (17,21) have mixed types.Specify dtype option on import or set low_memory=False.\n",
      "\n"
     ]
    },
    {
     "data": {
      "text/plain": [
       "Index(['casenumber', 'incident_date', 'death_date', 'age', 'gender', 'race',\n",
       "       'latino', 'cold_related', 'heat_related', 'commissioner_district',\n",
       "       'incident_street', 'incident_city', 'incident_zip', 'longitude',\n",
       "       'latitude', 'location', 'residence_city', 'residence_zip', 'objectid',\n",
       "       'chi_ward', 'chi_commarea', 'covid_related',\n",
       "       ':@computed_region_nqe2_pztc', ':@computed_region_h3ai_7k6i',\n",
       "       ':@computed_region_tu5p_2ban', 'manner', 'primarycause',\n",
       "       'secondarycause', 'gunrelated', 'opioids', 'primarycause_linea',\n",
       "       'primarycause_lineb', 'primarycause_linec', 'geocoded_latitude',\n",
       "       'geocoded_longitude', 'geocoded_score', 'geocoded_address',\n",
       "       'full_address', 'recovered', 'final_latitude', 'final_longitude'],\n",
       "      dtype='object')"
      ]
     },
     "execution_count": 24,
     "metadata": {},
     "output_type": "execute_result"
    }
   ],
   "source": [
    "clean = pd.read_csv('../data/processed/recovered_lat_long.csv')\n",
    "clean.columns"
   ]
  },
  {
   "cell_type": "code",
   "execution_count": 27,
   "metadata": {},
   "outputs": [
    {
     "data": {
      "text/plain": [
       "7736"
      ]
     },
     "execution_count": 27,
     "metadata": {},
     "output_type": "execute_result"
    }
   ],
   "source": [
    "pd.notna(clean.full_address).sum()"
   ]
  },
  {
   "cell_type": "code",
   "execution_count": 31,
   "metadata": {},
   "outputs": [
    {
     "data": {
      "text/plain": [
       "7311"
      ]
     },
     "execution_count": 31,
     "metadata": {},
     "output_type": "execute_result"
    }
   ],
   "source": [
    "df.recovered.sum()"
   ]
  },
  {
   "cell_type": "code",
   "execution_count": 33,
   "metadata": {},
   "outputs": [
    {
     "data": {
      "text/plain": [
       "64247"
      ]
     },
     "execution_count": 33,
     "metadata": {},
     "output_type": "execute_result"
    }
   ],
   "source": [
    "pd.notna(clean.incident_street).sum()"
   ]
  },
  {
   "cell_type": "code",
   "execution_count": 35,
   "metadata": {},
   "outputs": [
    {
     "data": {
      "text/plain": [
       "61528"
      ]
     },
     "execution_count": 35,
     "metadata": {},
     "output_type": "execute_result"
    }
   ],
   "source": [
    "len(clean[pd.notna(clean.incident_street)].incident_street.unique())"
   ]
  },
  {
   "cell_type": "code",
   "execution_count": 36,
   "metadata": {},
   "outputs": [
    {
     "data": {
      "text/plain": [
       "2719"
      ]
     },
     "execution_count": 36,
     "metadata": {},
     "output_type": "execute_result"
    }
   ],
   "source": [
    "64247 - 61528"
   ]
  },
  {
   "cell_type": "code",
   "execution_count": 38,
   "metadata": {},
   "outputs": [
    {
     "data": {
      "text/plain": [
       "7087"
      ]
     },
     "execution_count": 38,
     "metadata": {},
     "output_type": "execute_result"
    }
   ],
   "source": [
    "len(df[pd.notna(df.full_address)].full_address.unique())"
   ]
  },
  {
   "cell_type": "code",
   "execution_count": 39,
   "metadata": {},
   "outputs": [
    {
     "data": {
      "text/plain": [
       "7736"
      ]
     },
     "execution_count": 39,
     "metadata": {},
     "output_type": "execute_result"
    }
   ],
   "source": [
    "pd.notna(df.full_address).sum()"
   ]
  },
  {
   "cell_type": "code",
   "execution_count": 40,
   "metadata": {},
   "outputs": [
    {
     "name": "stderr",
     "output_type": "stream",
     "text": [
      "/Users/nick/Projects/Kentucky/geocoding/.venv/lib/python3.9/site-packages/IPython/core/interactiveshell.py:3444: DtypeWarning:\n",
      "\n",
      "Columns (17,21) have mixed types.Specify dtype option on import or set low_memory=False.\n",
      "\n"
     ]
    },
    {
     "data": {
      "text/html": [
       "<div>\n",
       "<style scoped>\n",
       "    .dataframe tbody tr th:only-of-type {\n",
       "        vertical-align: middle;\n",
       "    }\n",
       "\n",
       "    .dataframe tbody tr th {\n",
       "        vertical-align: top;\n",
       "    }\n",
       "\n",
       "    .dataframe thead th {\n",
       "        text-align: right;\n",
       "    }\n",
       "</style>\n",
       "<table border=\"1\" class=\"dataframe\">\n",
       "  <thead>\n",
       "    <tr style=\"text-align: right;\">\n",
       "      <th></th>\n",
       "      <th>casenumber</th>\n",
       "      <th>incident_date</th>\n",
       "      <th>death_date</th>\n",
       "      <th>age</th>\n",
       "      <th>gender</th>\n",
       "      <th>race</th>\n",
       "      <th>latino</th>\n",
       "      <th>cold_related</th>\n",
       "      <th>heat_related</th>\n",
       "      <th>commissioner_district</th>\n",
       "      <th>...</th>\n",
       "      <th>primarycause_lineb</th>\n",
       "      <th>primarycause_linec</th>\n",
       "      <th>geocoded_latitude</th>\n",
       "      <th>geocoded_longitude</th>\n",
       "      <th>geocoded_score</th>\n",
       "      <th>geocoded_address</th>\n",
       "      <th>full_address</th>\n",
       "      <th>recovered</th>\n",
       "      <th>final_latitude</th>\n",
       "      <th>final_longitude</th>\n",
       "    </tr>\n",
       "  </thead>\n",
       "  <tbody>\n",
       "    <tr>\n",
       "      <th>0</th>\n",
       "      <td>ME2022-03798</td>\n",
       "      <td>2022-03-06T22:00:00.000</td>\n",
       "      <td>2022-03-06T22:57:00.000</td>\n",
       "      <td>57.0</td>\n",
       "      <td>Female</td>\n",
       "      <td>Black</td>\n",
       "      <td>False</td>\n",
       "      <td>False</td>\n",
       "      <td>False</td>\n",
       "      <td>11.0</td>\n",
       "      <td>...</td>\n",
       "      <td>NaN</td>\n",
       "      <td>NaN</td>\n",
       "      <td>NaN</td>\n",
       "      <td>NaN</td>\n",
       "      <td>NaN</td>\n",
       "      <td>NaN</td>\n",
       "      <td>NaN</td>\n",
       "      <td>0</td>\n",
       "      <td>41.799746</td>\n",
       "      <td>-87.666927</td>\n",
       "    </tr>\n",
       "    <tr>\n",
       "      <th>1</th>\n",
       "      <td>ME2022-03797</td>\n",
       "      <td>2022-03-06T20:30:00.000</td>\n",
       "      <td>2022-03-06T20:37:00.000</td>\n",
       "      <td>37.0</td>\n",
       "      <td>Male</td>\n",
       "      <td>White</td>\n",
       "      <td>False</td>\n",
       "      <td>False</td>\n",
       "      <td>False</td>\n",
       "      <td>12.0</td>\n",
       "      <td>...</td>\n",
       "      <td>NaN</td>\n",
       "      <td>NaN</td>\n",
       "      <td>NaN</td>\n",
       "      <td>NaN</td>\n",
       "      <td>NaN</td>\n",
       "      <td>NaN</td>\n",
       "      <td>NaN</td>\n",
       "      <td>0</td>\n",
       "      <td>41.972986</td>\n",
       "      <td>-87.776603</td>\n",
       "    </tr>\n",
       "    <tr>\n",
       "      <th>2</th>\n",
       "      <td>ME2022-03796</td>\n",
       "      <td>2022-03-06T19:46:00.000</td>\n",
       "      <td>2022-03-06T19:59:00.000</td>\n",
       "      <td>36.0</td>\n",
       "      <td>Male</td>\n",
       "      <td>White</td>\n",
       "      <td>False</td>\n",
       "      <td>False</td>\n",
       "      <td>False</td>\n",
       "      <td>6.0</td>\n",
       "      <td>...</td>\n",
       "      <td>NaN</td>\n",
       "      <td>NaN</td>\n",
       "      <td>NaN</td>\n",
       "      <td>NaN</td>\n",
       "      <td>NaN</td>\n",
       "      <td>NaN</td>\n",
       "      <td>NaN</td>\n",
       "      <td>0</td>\n",
       "      <td>41.503817</td>\n",
       "      <td>-87.702314</td>\n",
       "    </tr>\n",
       "    <tr>\n",
       "      <th>3</th>\n",
       "      <td>ME2022-03795</td>\n",
       "      <td>2022-03-06T19:00:00.000</td>\n",
       "      <td>2022-03-06T19:06:00.000</td>\n",
       "      <td>21.0</td>\n",
       "      <td>Female</td>\n",
       "      <td>White</td>\n",
       "      <td>False</td>\n",
       "      <td>False</td>\n",
       "      <td>False</td>\n",
       "      <td>3.0</td>\n",
       "      <td>...</td>\n",
       "      <td>NaN</td>\n",
       "      <td>NaN</td>\n",
       "      <td>NaN</td>\n",
       "      <td>NaN</td>\n",
       "      <td>NaN</td>\n",
       "      <td>NaN</td>\n",
       "      <td>NaN</td>\n",
       "      <td>0</td>\n",
       "      <td>41.802975</td>\n",
       "      <td>-87.597731</td>\n",
       "    </tr>\n",
       "    <tr>\n",
       "      <th>4</th>\n",
       "      <td>ME2022-03794</td>\n",
       "      <td>2022-03-06T18:17:00.000</td>\n",
       "      <td>2022-03-06T18:53:00.000</td>\n",
       "      <td>33.0</td>\n",
       "      <td>Male</td>\n",
       "      <td>White</td>\n",
       "      <td>False</td>\n",
       "      <td>False</td>\n",
       "      <td>False</td>\n",
       "      <td>9.0</td>\n",
       "      <td>...</td>\n",
       "      <td>NaN</td>\n",
       "      <td>NaN</td>\n",
       "      <td>NaN</td>\n",
       "      <td>NaN</td>\n",
       "      <td>NaN</td>\n",
       "      <td>NaN</td>\n",
       "      <td>NaN</td>\n",
       "      <td>0</td>\n",
       "      <td>42.072090</td>\n",
       "      <td>-87.919917</td>\n",
       "    </tr>\n",
       "  </tbody>\n",
       "</table>\n",
       "<p>5 rows × 41 columns</p>\n",
       "</div>"
      ],
      "text/plain": [
       "     casenumber            incident_date               death_date   age  \\\n",
       "0  ME2022-03798  2022-03-06T22:00:00.000  2022-03-06T22:57:00.000  57.0   \n",
       "1  ME2022-03797  2022-03-06T20:30:00.000  2022-03-06T20:37:00.000  37.0   \n",
       "2  ME2022-03796  2022-03-06T19:46:00.000  2022-03-06T19:59:00.000  36.0   \n",
       "3  ME2022-03795  2022-03-06T19:00:00.000  2022-03-06T19:06:00.000  21.0   \n",
       "4  ME2022-03794  2022-03-06T18:17:00.000  2022-03-06T18:53:00.000  33.0   \n",
       "\n",
       "   gender   race  latino  cold_related  heat_related  commissioner_district  \\\n",
       "0  Female  Black   False         False         False                   11.0   \n",
       "1    Male  White   False         False         False                   12.0   \n",
       "2    Male  White   False         False         False                    6.0   \n",
       "3  Female  White   False         False         False                    3.0   \n",
       "4    Male  White   False         False         False                    9.0   \n",
       "\n",
       "   ... primarycause_lineb primarycause_linec geocoded_latitude  \\\n",
       "0  ...                NaN                NaN               NaN   \n",
       "1  ...                NaN                NaN               NaN   \n",
       "2  ...                NaN                NaN               NaN   \n",
       "3  ...                NaN                NaN               NaN   \n",
       "4  ...                NaN                NaN               NaN   \n",
       "\n",
       "   geocoded_longitude  geocoded_score geocoded_address full_address recovered  \\\n",
       "0                 NaN             NaN              NaN          NaN         0   \n",
       "1                 NaN             NaN              NaN          NaN         0   \n",
       "2                 NaN             NaN              NaN          NaN         0   \n",
       "3                 NaN             NaN              NaN          NaN         0   \n",
       "4                 NaN             NaN              NaN          NaN         0   \n",
       "\n",
       "   final_latitude  final_longitude  \n",
       "0       41.799746       -87.666927  \n",
       "1       41.972986       -87.776603  \n",
       "2       41.503817       -87.702314  \n",
       "3       41.802975       -87.597731  \n",
       "4       42.072090       -87.919917  \n",
       "\n",
       "[5 rows x 41 columns]"
      ]
     },
     "execution_count": 40,
     "metadata": {},
     "output_type": "execute_result"
    }
   ],
   "source": [
    "geo = pd.read_csv('../data/processed/recovered_lat_long.csv')\n",
    "geo.head()"
   ]
  },
  {
   "cell_type": "code",
   "execution_count": 86,
   "metadata": {},
   "outputs": [
    {
     "data": {
      "text/plain": [
       "1301 lee street                              17\n",
       "339 9th ave                                  16\n",
       "1920 nerge road                              14\n",
       "345 dixie highway                            14\n",
       "7001 w cullom ave                            14\n",
       "                                             ..\n",
       "165 n lavergne ave first floor                1\n",
       "2317 south trumbull avenue                    1\n",
       "parking lot of liquor store5510 s. racine     1\n",
       "5825 w cermak rd room 723b                    1\n",
       "3102 e. 91st street                           1\n",
       "Name: clean_address, Length: 60029, dtype: int64"
      ]
     },
     "execution_count": 86,
     "metadata": {},
     "output_type": "execute_result"
    }
   ],
   "source": [
    "cases.clean_address.value_counts()"
   ]
  },
  {
   "cell_type": "code",
   "execution_count": 95,
   "metadata": {},
   "outputs": [],
   "source": [
    "def city_sub(row: pd.Series) -> tuple[str, bool]:\n",
    "    if pd.notna(row[\"incident_city\"]):\n",
    "        city = row[\"incident_city\"].title().strip()\n",
    "        subbed = False\n",
    "    elif pd.isna(row[\"incident_city\"]) and pd.notna(row[\"residence_city\"]):\n",
    "        city = row[\"residence_city\"].title().strip()\n",
    "        subbed = True\n",
    "    else:\n",
    "        city = \"\"\n",
    "        subbed = False\n",
    "    return city, subbed\n",
    "\n",
    "\n",
    "def create_fixed_address(row: pd.Series) -> str | None:\n",
    "    street = row[\"clean_address\"] if row[\"clean_address\"] else \"\"\n",
    "    city = (\n",
    "        row[\"incident_city\"]\n",
    "        if pd.notna(row[\"incident_city\"]) and \"unkn\" not in row[\"incident_city\"]\n",
    "        else city_sub(row)[0]\n",
    "    )\n",
    "    zip_code = \"\" if pd.isna(row[\"incident_zip\"]) else row[\"incident_zip\"].strip()\n",
    "    address = f\"{street} {city} {zip_code}\"\n",
    "    if address == \"\":\n",
    "        return None\n",
    "    return address.strip()\n",
    "\n",
    "\n",
    "def remove_apartment_info(x: str) -> str:\n",
    "    # regex 1 to look for apartments and #s\n",
    "    result1 = re.sub(r\"apt.*|\\#.*|.*nh,\", \"\", x)\n",
    "    # regex 2 to specify only alphanumeric + '.' for abbreviations and spaces\n",
    "    result2 = re.sub(r\"[^a-zA-Z0-9.\\s]\", \"\", result1)\n",
    "    return result2\n",
    "\n",
    "\n",
    "def clean_address(row: pd.Series) -> int | str | None:\n",
    "    \"\"\"Cleans an address by calling other utility functions.\n",
    "\n",
    "    Args:\n",
    "        row (pd.Series): row in a dataframe\n",
    "\n",
    "    Returns:\n",
    "        Union[int, str, None]: cleaned address or None\n",
    "    \"\"\"\n",
    "    a = row[\"incident_street\"]\n",
    "    # handles 'unknown' and variations\n",
    "    if pd.isna(a) or \"unk\" in a.lower() or \"n/a\" in a.lower():\n",
    "        return None\n",
    "    no_apartment_info = remove_apartment_info(a.lower())\n",
    "    return no_apartment_info\n"
   ]
  },
  {
   "cell_type": "code",
   "execution_count": 100,
   "metadata": {},
   "outputs": [
    {
     "data": {
      "text/plain": [
       "2083"
      ]
     },
     "execution_count": 100,
     "metadata": {},
     "output_type": "execute_result"
    }
   ],
   "source": [
    "cases['clean_address'] = cases.apply(clean_address, axis=1)\n",
    "addrs = cases.apply(lambda row: create_fixed_address(row), axis=1)\n",
    "len([x for x in cases.clean_address.value_counts().values if x > 1])"
   ]
  },
  {
   "cell_type": "code",
   "execution_count": 84,
   "metadata": {},
   "outputs": [
    {
     "data": {
      "text/plain": [
       "4480"
      ]
     },
     "execution_count": 84,
     "metadata": {},
     "output_type": "execute_result"
    }
   ],
   "source": [
    "s = set([a[0] for a in addrs])\n",
    "cases.shape[0] - len(s)"
   ]
  },
  {
   "cell_type": "code",
   "execution_count": 54,
   "metadata": {},
   "outputs": [
    {
     "data": {
      "text/plain": [
       "1307"
      ]
     },
     "execution_count": 54,
     "metadata": {},
     "output_type": "execute_result"
    }
   ],
   "source": [
    "sum([a[1] for a in addrs])"
   ]
  },
  {
   "cell_type": "code",
   "execution_count": 55,
   "metadata": {},
   "outputs": [
    {
     "data": {
      "text/plain": [
       "65227"
      ]
     },
     "execution_count": 55,
     "metadata": {},
     "output_type": "execute_result"
    }
   ],
   "source": [
    "len([a[0] for a in addrs if a[0] is not None])"
   ]
  },
  {
   "cell_type": "code",
   "execution_count": 58,
   "metadata": {},
   "outputs": [
    {
     "data": {
      "text/plain": [
       "True"
      ]
     },
     "execution_count": 58,
     "metadata": {},
     "output_type": "execute_result"
    }
   ],
   "source": [
    "all(a[0] for a in addrs)"
   ]
  },
  {
   "cell_type": "code",
   "execution_count": 59,
   "metadata": {},
   "outputs": [
    {
     "data": {
      "text/plain": [
       "1432"
      ]
     },
     "execution_count": 59,
     "metadata": {},
     "output_type": "execute_result"
    }
   ],
   "source": [
    "pd.isna(cases.clean_address).sum()"
   ]
  },
  {
   "cell_type": "code",
   "execution_count": 60,
   "metadata": {},
   "outputs": [
    {
     "data": {
      "text/plain": [
       "(65227,)"
      ]
     },
     "execution_count": 60,
     "metadata": {},
     "output_type": "execute_result"
    }
   ],
   "source": [
    "cases.clean_address.shape"
   ]
  },
  {
   "cell_type": "code",
   "execution_count": 61,
   "metadata": {},
   "outputs": [
    {
     "data": {
      "text/plain": [
       "63795"
      ]
     },
     "execution_count": 61,
     "metadata": {},
     "output_type": "execute_result"
    }
   ],
   "source": [
    "65227 - 1432"
   ]
  },
  {
   "cell_type": "code",
   "execution_count": 63,
   "metadata": {},
   "outputs": [
    {
     "data": {
      "text/plain": [
       "60030"
      ]
     },
     "execution_count": 63,
     "metadata": {},
     "output_type": "execute_result"
    }
   ],
   "source": [
    "len(cases.clean_address.unique())"
   ]
  },
  {
   "cell_type": "code",
   "execution_count": 66,
   "metadata": {},
   "outputs": [
    {
     "data": {
      "text/plain": [
       "3766"
      ]
     },
     "execution_count": 66,
     "metadata": {},
     "output_type": "execute_result"
    }
   ],
   "source": [
    "pd.notna(cases.clean_address).sum() - len(cases[pd.notna(cases.clean_address)].clean_address.unique())"
   ]
  },
  {
   "cell_type": "code",
   "execution_count": 73,
   "metadata": {},
   "outputs": [
    {
     "data": {
      "text/html": [
       "<div>\n",
       "<style scoped>\n",
       "    .dataframe tbody tr th:only-of-type {\n",
       "        vertical-align: middle;\n",
       "    }\n",
       "\n",
       "    .dataframe tbody tr th {\n",
       "        vertical-align: top;\n",
       "    }\n",
       "\n",
       "    .dataframe thead th {\n",
       "        text-align: right;\n",
       "    }\n",
       "</style>\n",
       "<table border=\"1\" class=\"dataframe\">\n",
       "  <thead>\n",
       "    <tr style=\"text-align: right;\">\n",
       "      <th></th>\n",
       "      <th>final_latitude</th>\n",
       "      <th>final_longitude</th>\n",
       "    </tr>\n",
       "  </thead>\n",
       "  <tbody>\n",
       "    <tr>\n",
       "      <th>count</th>\n",
       "      <td>64010.000000</td>\n",
       "      <td>64010.000000</td>\n",
       "    </tr>\n",
       "    <tr>\n",
       "      <th>mean</th>\n",
       "      <td>41.839298</td>\n",
       "      <td>-87.739697</td>\n",
       "    </tr>\n",
       "    <tr>\n",
       "      <th>std</th>\n",
       "      <td>0.181251</td>\n",
       "      <td>0.160074</td>\n",
       "    </tr>\n",
       "    <tr>\n",
       "      <th>min</th>\n",
       "      <td>36.996540</td>\n",
       "      <td>-91.570947</td>\n",
       "    </tr>\n",
       "    <tr>\n",
       "      <th>25%</th>\n",
       "      <td>41.747631</td>\n",
       "      <td>-87.791285</td>\n",
       "    </tr>\n",
       "    <tr>\n",
       "      <th>50%</th>\n",
       "      <td>41.858579</td>\n",
       "      <td>-87.710390</td>\n",
       "    </tr>\n",
       "    <tr>\n",
       "      <th>75%</th>\n",
       "      <td>41.947060</td>\n",
       "      <td>-87.649965</td>\n",
       "    </tr>\n",
       "    <tr>\n",
       "      <th>max</th>\n",
       "      <td>42.569945</td>\n",
       "      <td>-87.380053</td>\n",
       "    </tr>\n",
       "  </tbody>\n",
       "</table>\n",
       "</div>"
      ],
      "text/plain": [
       "       final_latitude  final_longitude\n",
       "count    64010.000000     64010.000000\n",
       "mean        41.839298       -87.739697\n",
       "std          0.181251         0.160074\n",
       "min         36.996540       -91.570947\n",
       "25%         41.747631       -87.791285\n",
       "50%         41.858579       -87.710390\n",
       "75%         41.947060       -87.649965\n",
       "max         42.569945       -87.380053"
      ]
     },
     "execution_count": 73,
     "metadata": {},
     "output_type": "execute_result"
    }
   ],
   "source": [
    "df[['final_latitude', 'final_longitude']].describe()"
   ]
  },
  {
   "cell_type": "code",
   "execution_count": 72,
   "metadata": {},
   "outputs": [
    {
     "data": {
      "text/html": [
       "<div>\n",
       "<style scoped>\n",
       "    .dataframe tbody tr th:only-of-type {\n",
       "        vertical-align: middle;\n",
       "    }\n",
       "\n",
       "    .dataframe tbody tr th {\n",
       "        vertical-align: top;\n",
       "    }\n",
       "\n",
       "    .dataframe thead th {\n",
       "        text-align: right;\n",
       "    }\n",
       "</style>\n",
       "<table border=\"1\" class=\"dataframe\">\n",
       "  <thead>\n",
       "    <tr style=\"text-align: right;\">\n",
       "      <th></th>\n",
       "      <th>latitude</th>\n",
       "      <th>longitude</th>\n",
       "    </tr>\n",
       "  </thead>\n",
       "  <tbody>\n",
       "    <tr>\n",
       "      <th>count</th>\n",
       "      <td>56699.000000</td>\n",
       "      <td>56699.000000</td>\n",
       "    </tr>\n",
       "    <tr>\n",
       "      <th>mean</th>\n",
       "      <td>41.843895</td>\n",
       "      <td>-87.727874</td>\n",
       "    </tr>\n",
       "    <tr>\n",
       "      <th>std</th>\n",
       "      <td>0.139792</td>\n",
       "      <td>0.116211</td>\n",
       "    </tr>\n",
       "    <tr>\n",
       "      <th>min</th>\n",
       "      <td>41.469732</td>\n",
       "      <td>-88.263178</td>\n",
       "    </tr>\n",
       "    <tr>\n",
       "      <th>25%</th>\n",
       "      <td>41.750306</td>\n",
       "      <td>-87.778183</td>\n",
       "    </tr>\n",
       "    <tr>\n",
       "      <th>50%</th>\n",
       "      <td>41.858746</td>\n",
       "      <td>-87.707253</td>\n",
       "    </tr>\n",
       "    <tr>\n",
       "      <th>75%</th>\n",
       "      <td>41.941611</td>\n",
       "      <td>-87.649789</td>\n",
       "    </tr>\n",
       "    <tr>\n",
       "      <th>max</th>\n",
       "      <td>42.153747</td>\n",
       "      <td>-87.524835</td>\n",
       "    </tr>\n",
       "  </tbody>\n",
       "</table>\n",
       "</div>"
      ],
      "text/plain": [
       "           latitude     longitude\n",
       "count  56699.000000  56699.000000\n",
       "mean      41.843895    -87.727874\n",
       "std        0.139792      0.116211\n",
       "min       41.469732    -88.263178\n",
       "25%       41.750306    -87.778183\n",
       "50%       41.858746    -87.707253\n",
       "75%       41.941611    -87.649789\n",
       "max       42.153747    -87.524835"
      ]
     },
     "execution_count": 72,
     "metadata": {},
     "output_type": "execute_result"
    }
   ],
   "source": [
    "cases[['latitude', 'longitude']].describe()"
   ]
  },
  {
   "cell_type": "code",
   "execution_count": 75,
   "metadata": {},
   "outputs": [
    {
     "data": {
      "text/plain": [
       "-0.0118230000000068"
      ]
     },
     "execution_count": 75,
     "metadata": {},
     "output_type": "execute_result"
    }
   ],
   "source": [
    "-87.739697 - -87.727874"
   ]
  },
  {
   "cell_type": "code",
   "execution_count": 103,
   "metadata": {},
   "outputs": [
    {
     "data": {
      "text/plain": [
       "count    39734.747390\n",
       "mean         0.838320\n",
       "std          7.240096\n",
       "min          0.000059\n",
       "25%          0.172370\n",
       "50%          0.306953\n",
       "75%          0.503400\n",
       "max        355.797389\n",
       "Name: closest_pharmacy, dtype: float64"
      ]
     },
     "execution_count": 103,
     "metadata": {},
     "output_type": "execute_result"
    }
   ],
   "source": [
    "df[df.closest_pharmacy > 0].closest_pharmacy.describe() * 0.62137"
   ]
  },
  {
   "cell_type": "code",
   "execution_count": 113,
   "metadata": {},
   "outputs": [
    {
     "data": {
      "text/plain": [
       "0.6132820841341021"
      ]
     },
     "execution_count": 113,
     "metadata": {},
     "output_type": "execute_result"
    }
   ],
   "source": [
    "s1 = df[df.closest_pharmacy > 0]\n",
    "s2 = s1[s1.opioids == 1]\n",
    "miles = s2.closest_pharmacy * 0.62137\n",
    "len([m for m in miles if m < 0.34]) / len(miles)"
   ]
  },
  {
   "cell_type": "code",
   "execution_count": 78,
   "metadata": {},
   "outputs": [
    {
     "data": {
      "text/html": [
       "<div>\n",
       "<style scoped>\n",
       "    .dataframe tbody tr th:only-of-type {\n",
       "        vertical-align: middle;\n",
       "    }\n",
       "\n",
       "    .dataframe tbody tr th {\n",
       "        vertical-align: top;\n",
       "    }\n",
       "\n",
       "    .dataframe thead th {\n",
       "        text-align: right;\n",
       "    }\n",
       "</style>\n",
       "<table border=\"1\" class=\"dataframe\">\n",
       "  <thead>\n",
       "    <tr style=\"text-align: right;\">\n",
       "      <th></th>\n",
       "      <th>record_id</th>\n",
       "      <th>drug_name</th>\n",
       "      <th>word_found</th>\n",
       "      <th>similarity_ratio</th>\n",
       "      <th>tags</th>\n",
       "    </tr>\n",
       "  </thead>\n",
       "  <tbody>\n",
       "    <tr>\n",
       "      <th>0</th>\n",
       "      <td>ME2022-03773</td>\n",
       "      <td>Covid</td>\n",
       "      <td>coronary</td>\n",
       "      <td>0.902273</td>\n",
       "      <td>covid</td>\n",
       "    </tr>\n",
       "    <tr>\n",
       "      <th>1</th>\n",
       "      <td>ME2022-03769</td>\n",
       "      <td>Covid</td>\n",
       "      <td>coronary</td>\n",
       "      <td>0.902273</td>\n",
       "      <td>covid</td>\n",
       "    </tr>\n",
       "    <tr>\n",
       "      <th>2</th>\n",
       "      <td>ME2022-03765</td>\n",
       "      <td>Covid</td>\n",
       "      <td>corona</td>\n",
       "      <td>0.909091</td>\n",
       "      <td>covid</td>\n",
       "    </tr>\n",
       "    <tr>\n",
       "      <th>3</th>\n",
       "      <td>ME2022-03725</td>\n",
       "      <td>Covid</td>\n",
       "      <td>coronary</td>\n",
       "      <td>0.902273</td>\n",
       "      <td>covid</td>\n",
       "    </tr>\n",
       "    <tr>\n",
       "      <th>4</th>\n",
       "      <td>ME2022-03716</td>\n",
       "      <td>Covid</td>\n",
       "      <td>coronary</td>\n",
       "      <td>0.902273</td>\n",
       "      <td>covid</td>\n",
       "    </tr>\n",
       "  </tbody>\n",
       "</table>\n",
       "</div>"
      ],
      "text/plain": [
       "      record_id drug_name word_found  similarity_ratio   tags\n",
       "0  ME2022-03773     Covid   coronary          0.902273  covid\n",
       "1  ME2022-03769     Covid   coronary          0.902273  covid\n",
       "2  ME2022-03765     Covid     corona          0.909091  covid\n",
       "3  ME2022-03725     Covid   coronary          0.902273  covid\n",
       "4  ME2022-03716     Covid   coronary          0.902273  covid"
      ]
     },
     "execution_count": 78,
     "metadata": {},
     "output_type": "execute_result"
    }
   ],
   "source": [
    "drugs.head()"
   ]
  },
  {
   "cell_type": "code",
   "execution_count": 79,
   "metadata": {},
   "outputs": [
    {
     "data": {
      "text/plain": [
       "5787"
      ]
     },
     "execution_count": 79,
     "metadata": {},
     "output_type": "execute_result"
    }
   ],
   "source": [
    "len(drugs.record_id.unique())"
   ]
  },
  {
   "cell_type": "code",
   "execution_count": 80,
   "metadata": {},
   "outputs": [
    {
     "data": {
      "text/plain": [
       "(65227, 34)"
      ]
     },
     "execution_count": 80,
     "metadata": {},
     "output_type": "execute_result"
    }
   ],
   "source": [
    "cases.shape"
   ]
  },
  {
   "cell_type": "code",
   "execution_count": 81,
   "metadata": {},
   "outputs": [
    {
     "data": {
      "text/plain": [
       "(3257, 5)"
      ]
     },
     "execution_count": 81,
     "metadata": {},
     "output_type": "execute_result"
    }
   ],
   "source": [
    "drugs[drugs.drug_name == 'Covid'].shape"
   ]
  },
  {
   "cell_type": "code",
   "execution_count": 82,
   "metadata": {},
   "outputs": [
    {
     "data": {
      "text/plain": [
       "(1890, 5)"
      ]
     },
     "execution_count": 82,
     "metadata": {},
     "output_type": "execute_result"
    }
   ],
   "source": [
    "drugs[drugs.drug_name == 'Alcohol'].shape"
   ]
  },
  {
   "cell_type": "code",
   "execution_count": null,
   "metadata": {},
   "outputs": [],
   "source": []
  }
 ],
 "metadata": {
  "interpreter": {
   "hash": "2dc943ad8fc715a039a4b888e212707dac1753bf6e9bc289e558124b5cdb4f10"
  },
  "kernelspec": {
   "display_name": "Python 3.9.10 ('.venv': poetry)",
   "language": "python",
   "name": "python3"
  },
  "language_info": {
   "codemirror_mode": {
    "name": "ipython",
    "version": 3
   },
   "file_extension": ".py",
   "mimetype": "text/x-python",
   "name": "python",
   "nbconvert_exporter": "python",
   "pygments_lexer": "ipython3",
   "version": "3.9.10"
  },
  "orig_nbformat": 4
 },
 "nbformat": 4,
 "nbformat_minor": 2
}
