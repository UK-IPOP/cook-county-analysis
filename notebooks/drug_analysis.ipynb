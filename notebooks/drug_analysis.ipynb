{
 "cells": [
  {
   "source": [
    "# THIS CAN BE REMOVED IN FAVOR OF PRONOB ANALYSIS"
   ],
   "cell_type": "markdown",
   "metadata": {}
  },
  {
   "cell_type": "code",
   "execution_count": 1,
   "metadata": {},
   "outputs": [],
   "source": [
    "import pandas as pd\n",
    "from rich.progress import track\n",
    "import spacy"
   ]
  },
  {
   "cell_type": "code",
   "execution_count": 2,
   "metadata": {},
   "outputs": [
    {
     "output_type": "stream",
     "name": "stderr",
     "text": [
      "/opt/homebrew/Caskroom/miniforge/base/lib/python3.9/site-packages/IPython/core/interactiveshell.py:3169: DtypeWarning: Columns (20,25) have mixed types.Specify dtype option on import or set low_memory=False.\n  has_raised = await self.run_ast_nodes(code_ast.body, cell_name,\n"
     ]
    },
    {
     "output_type": "execute_result",
     "data": {
      "text/plain": [
       "        Case Number        Date of Incident           Date of Death   Age  \\\n",
       "38202  ME2020-08575  07/03/2020 08:00:00 PM  07/03/2020 08:04:00 PM  71.0   \n",
       "\n",
       "      Gender   Race  Latino Manner of Death  \\\n",
       "38202   Male  White   False         NATURAL   \n",
       "\n",
       "                             Primary Cause Primary Cause Line A  ... location  \\\n",
       "38202  HYPERTENSIVE CARDIOVASCULAR DISEASE                  NaN  ...      NaN   \n",
       "\n",
       "      Residence City Residence_Zip OBJECTID cleaned_address  \\\n",
       "38202          Lyons       60534.0   115035  7731 Odgen Ave   \n",
       "\n",
       "                     full_address  coded_lat  coded_long coded_score distance  \n",
       "38202  7731 Odgen Ave Lyons 60534  41.819732  -87.814883       94.61      NaN  \n",
       "\n",
       "[1 rows x 33 columns]"
      ],
      "text/html": "<div>\n<style scoped>\n    .dataframe tbody tr th:only-of-type {\n        vertical-align: middle;\n    }\n\n    .dataframe tbody tr th {\n        vertical-align: top;\n    }\n\n    .dataframe thead th {\n        text-align: right;\n    }\n</style>\n<table border=\"1\" class=\"dataframe\">\n  <thead>\n    <tr style=\"text-align: right;\">\n      <th></th>\n      <th>Case Number</th>\n      <th>Date of Incident</th>\n      <th>Date of Death</th>\n      <th>Age</th>\n      <th>Gender</th>\n      <th>Race</th>\n      <th>Latino</th>\n      <th>Manner of Death</th>\n      <th>Primary Cause</th>\n      <th>Primary Cause Line A</th>\n      <th>...</th>\n      <th>location</th>\n      <th>Residence City</th>\n      <th>Residence_Zip</th>\n      <th>OBJECTID</th>\n      <th>cleaned_address</th>\n      <th>full_address</th>\n      <th>coded_lat</th>\n      <th>coded_long</th>\n      <th>coded_score</th>\n      <th>distance</th>\n    </tr>\n  </thead>\n  <tbody>\n    <tr>\n      <th>38202</th>\n      <td>ME2020-08575</td>\n      <td>07/03/2020 08:00:00 PM</td>\n      <td>07/03/2020 08:04:00 PM</td>\n      <td>71.0</td>\n      <td>Male</td>\n      <td>White</td>\n      <td>False</td>\n      <td>NATURAL</td>\n      <td>HYPERTENSIVE CARDIOVASCULAR DISEASE</td>\n      <td>NaN</td>\n      <td>...</td>\n      <td>NaN</td>\n      <td>Lyons</td>\n      <td>60534.0</td>\n      <td>115035</td>\n      <td>7731 Odgen Ave</td>\n      <td>7731 Odgen Ave Lyons 60534</td>\n      <td>41.819732</td>\n      <td>-87.814883</td>\n      <td>94.61</td>\n      <td>NaN</td>\n    </tr>\n  </tbody>\n</table>\n<p>1 rows × 33 columns</p>\n</div>"
     },
     "metadata": {},
     "execution_count": 2
    }
   ],
   "source": [
    "df = pd.read_csv('../data/version3.csv')\n",
    "df.sample(1)"
   ]
  },
  {
   "cell_type": "code",
   "execution_count": 3,
   "metadata": {},
   "outputs": [],
   "source": [
    "nlp = spacy.load('en_ner_bc5cdr_md')"
   ]
  },
  {
   "cell_type": "code",
   "execution_count": 8,
   "metadata": {},
   "outputs": [
    {
     "output_type": "display_data",
     "data": {
      "text/plain": "Output()",
      "application/vnd.jupyter.widget-view+json": {
       "version_major": 2,
       "version_minor": 0,
       "model_id": "014b1a84e76844b08e634c7b2b4ee9a9"
      }
     },
     "metadata": {}
    },
    {
     "output_type": "execute_result",
     "data": {
      "text/plain": [
       "[('ALPRAZOLAM', 843),\n",
       " ('HYDROCODONE', 351),\n",
       " ('HIP', 218),\n",
       " ('HYPERTENSIVE-ARTERIOSCLEROTIC', 168),\n",
       " ('NO', 161),\n",
       " ('GABAPENTIN', 138),\n",
       " ('DESPROPIONYL', 120),\n",
       " ('FLUALPRAZOLAM', 102),\n",
       " ('CYCLOPROPYL', 100),\n",
       " ('ALCOHOL', 84)]"
      ]
     },
     "metadata": {},
     "execution_count": 8
    }
   ],
   "source": [
    "from collections import Counter\n",
    "\n",
    "words = []\n",
    "for cause in track(df['Primary Cause'].values):\n",
    "    if pd.notna(cause):\n",
    "        doc = nlp(cause)\n",
    "        for ent in doc.ents:\n",
    "            if ent.label_ == 'CHEMICAL':\n",
    "                words.append(ent.text)\n",
    "\n",
    "Counter(words).most_common(10)"
   ]
  },
  {
   "cell_type": "code",
   "execution_count": 9,
   "metadata": {},
   "outputs": [
    {
     "output_type": "execute_result",
     "data": {
      "text/plain": [
       "313"
      ]
     },
     "metadata": {},
     "execution_count": 9
    }
   ],
   "source": [
    "len(set(words))"
   ]
  },
  {
   "cell_type": "code",
   "execution_count": null,
   "metadata": {},
   "outputs": [],
   "source": []
  }
 ],
 "metadata": {
  "interpreter": {
   "hash": "95ec9ec1504d83f612128e0fb229072f90bbb4cb09d9d5d93b5dd26e0ca2cfd1"
  },
  "kernelspec": {
   "name": "python3",
   "display_name": "Python 3.9.2 64-bit ('base': conda)"
  },
  "language_info": {
   "codemirror_mode": {
    "name": "ipython",
    "version": 3
   },
   "file_extension": ".py",
   "mimetype": "text/x-python",
   "name": "python",
   "nbconvert_exporter": "python",
   "pygments_lexer": "ipython3",
   "version": "3.9.2"
  },
  "orig_nbformat": 4,
  "metadata": {
   "interpreter": {
    "hash": "95ec9ec1504d83f612128e0fb229072f90bbb4cb09d9d5d93b5dd26e0ca2cfd1"
   }
  }
 },
 "nbformat": 4,
 "nbformat_minor": 2
}