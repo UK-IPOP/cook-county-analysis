{
 "cells": [
  {
   "cell_type": "code",
   "execution_count": 1,
   "metadata": {},
   "outputs": [],
   "source": [
    "import pandas as pd"
   ]
  },
  {
   "cell_type": "code",
   "execution_count": 2,
   "metadata": {},
   "outputs": [
    {
     "name": "stderr",
     "output_type": "stream",
     "text": [
      "/opt/homebrew/Caskroom/miniforge/base/lib/python3.9/site-packages/IPython/core/interactiveshell.py:3169: DtypeWarning: Columns (20,25) have mixed types.Specify dtype option on import or set low_memory=False.\n",
      "  has_raised = await self.run_ast_nodes(code_ast.body, cell_name,\n"
     ]
    },
    {
     "data": {
      "text/html": [
       "<div>\n",
       "<style scoped>\n",
       "    .dataframe tbody tr th:only-of-type {\n",
       "        vertical-align: middle;\n",
       "    }\n",
       "\n",
       "    .dataframe tbody tr th {\n",
       "        vertical-align: top;\n",
       "    }\n",
       "\n",
       "    .dataframe thead th {\n",
       "        text-align: right;\n",
       "    }\n",
       "</style>\n",
       "<table border=\"1\" class=\"dataframe\">\n",
       "  <thead>\n",
       "    <tr style=\"text-align: right;\">\n",
       "      <th></th>\n",
       "      <th>Case Number</th>\n",
       "      <th>Date of Incident</th>\n",
       "      <th>Date of Death</th>\n",
       "      <th>Age</th>\n",
       "      <th>Gender</th>\n",
       "      <th>Race</th>\n",
       "      <th>Latino</th>\n",
       "      <th>Manner of Death</th>\n",
       "      <th>Primary Cause</th>\n",
       "      <th>Primary Cause Line A</th>\n",
       "      <th>...</th>\n",
       "      <th>location</th>\n",
       "      <th>Residence City</th>\n",
       "      <th>Residence_Zip</th>\n",
       "      <th>OBJECTID</th>\n",
       "      <th>cleaned_address</th>\n",
       "      <th>full_address</th>\n",
       "      <th>coded_lat</th>\n",
       "      <th>coded_long</th>\n",
       "      <th>coded_score</th>\n",
       "      <th>distance</th>\n",
       "    </tr>\n",
       "  </thead>\n",
       "  <tbody>\n",
       "    <tr>\n",
       "      <th>37537</th>\n",
       "      <td>ME2020-00591</td>\n",
       "      <td>02/01/2020 09:45:00 AM</td>\n",
       "      <td>02/01/2020 10:00:00 AM</td>\n",
       "      <td>27.0</td>\n",
       "      <td>Female</td>\n",
       "      <td>Black</td>\n",
       "      <td>False</td>\n",
       "      <td>HOMICIDE</td>\n",
       "      <td>STRANGULATION</td>\n",
       "      <td>NaN</td>\n",
       "      <td>...</td>\n",
       "      <td>(41.905465688919136, -87.69589708158588)</td>\n",
       "      <td>Chicago</td>\n",
       "      <td>60622.0</td>\n",
       "      <td>107055</td>\n",
       "      <td>2735 W. Evergreen Ave.</td>\n",
       "      <td>2735 W. Evergreen Ave. Chicago 60622</td>\n",
       "      <td>41.905466</td>\n",
       "      <td>-87.695897</td>\n",
       "      <td>100.0</td>\n",
       "      <td>0.000034</td>\n",
       "    </tr>\n",
       "  </tbody>\n",
       "</table>\n",
       "<p>1 rows × 33 columns</p>\n",
       "</div>"
      ],
      "text/plain": [
       "        Case Number        Date of Incident           Date of Death   Age  \\\n",
       "37537  ME2020-00591  02/01/2020 09:45:00 AM  02/01/2020 10:00:00 AM  27.0   \n",
       "\n",
       "       Gender   Race  Latino Manner of Death  Primary Cause  \\\n",
       "37537  Female  Black   False        HOMICIDE  STRANGULATION   \n",
       "\n",
       "      Primary Cause Line A  ...                                  location  \\\n",
       "37537                  NaN  ...  (41.905465688919136, -87.69589708158588)   \n",
       "\n",
       "      Residence City Residence_Zip OBJECTID         cleaned_address  \\\n",
       "37537        Chicago       60622.0   107055  2735 W. Evergreen Ave.   \n",
       "\n",
       "                               full_address  coded_lat  coded_long  \\\n",
       "37537  2735 W. Evergreen Ave. Chicago 60622  41.905466  -87.695897   \n",
       "\n",
       "      coded_score  distance  \n",
       "37537       100.0  0.000034  \n",
       "\n",
       "[1 rows x 33 columns]"
      ]
     },
     "execution_count": 2,
     "metadata": {},
     "output_type": "execute_result"
    }
   ],
   "source": [
    "df = pd.read_csv('../data/version3.csv')\n",
    "df.sample(1)"
   ]
  },
  {
   "cell_type": "code",
   "execution_count": 26,
   "metadata": {},
   "outputs": [
    {
     "data": {
      "text/plain": [
       "[('disease', 12543),\n",
       " ('cardiovascular', 12195),\n",
       " ('and', 7956),\n",
       " ('toxicity', 7734),\n",
       " ('of', 7094),\n",
       " ('gunshot', 5551),\n",
       " ('organic', 5447),\n",
       " ('hypertensive', 5363),\n",
       " ('combined', 4981),\n",
       " ('multiple', 4253)]"
      ]
     },
     "execution_count": 26,
     "metadata": {},
     "output_type": "execute_result"
    }
   ],
   "source": [
    "from collections import Counter\n",
    "import nltk\n",
    "from nltk.corpus import stopwords\n",
    "from nltk.tokenize import word_tokenize\n",
    "\n",
    "stops = stopwords.words('english')\n",
    "words = []\n",
    "for x in df['Primary Cause'].values:\n",
    "    if pd.notna(x):\n",
    "        phrase_words = x.split()\n",
    "        for w in phrase_words:\n",
    "            if w not in stops:\n",
    "                words.append(w.lower())\n",
    "\n",
    "Counter(words).most_common(10)\n"
   ]
  },
  {
   "cell_type": "code",
   "execution_count": 23,
   "metadata": {},
   "outputs": [
    {
     "name": "stderr",
     "output_type": "stream",
     "text": [
      "[nltk_data] Downloading package stopwords to /Users/nick/nltk_data...\n",
      "[nltk_data]   Package stopwords is already up-to-date!\n"
     ]
    },
    {
     "data": {
      "text/plain": [
       "True"
      ]
     },
     "execution_count": 23,
     "metadata": {},
     "output_type": "execute_result"
    }
   ],
   "source": []
  },
  {
   "cell_type": "code",
   "execution_count": null,
   "metadata": {},
   "outputs": [],
   "source": []
  }
 ],
 "metadata": {
  "interpreter": {
   "hash": "95ec9ec1504d83f612128e0fb229072f90bbb4cb09d9d5d93b5dd26e0ca2cfd1"
  },
  "kernelspec": {
   "display_name": "Python 3.9.2 64-bit ('base': conda)",
   "name": "python3"
  },
  "language_info": {
   "codemirror_mode": {
    "name": "ipython",
    "version": 3
   },
   "file_extension": ".py",
   "mimetype": "text/x-python",
   "name": "python",
   "nbconvert_exporter": "python",
   "pygments_lexer": "ipython3",
   "version": "3.9.2"
  },
  "orig_nbformat": 4
 },
 "nbformat": 4,
 "nbformat_minor": 2
}