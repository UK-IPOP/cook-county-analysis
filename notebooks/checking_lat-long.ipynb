{
 "metadata": {
  "language_info": {
   "codemirror_mode": {
    "name": "ipython",
    "version": 3
   },
   "file_extension": ".py",
   "mimetype": "text/x-python",
   "name": "python",
   "nbconvert_exporter": "python",
   "pygments_lexer": "ipython3",
   "version": "3.9.2"
  },
  "orig_nbformat": 2,
  "kernelspec": {
   "name": "python392jvsc74a57bd05d2dc76a5f11d8dab626d3a9b4f263a0b5099ffbf616dc9d4738ef59ea630642",
   "display_name": "Python 3.9.2 64-bit ('geo': conda)"
  },
  "metadata": {
   "interpreter": {
    "hash": "5d2dc76a5f11d8dab626d3a9b4f263a0b5099ffbf616dc9d4738ef59ea630642"
   }
  }
 },
 "nbformat": 4,
 "nbformat_minor": 2,
 "cells": [
  {
   "cell_type": "code",
   "execution_count": 2,
   "metadata": {},
   "outputs": [
    {
     "output_type": "display_data",
     "data": {
      "text/plain": "\u001b[1m[\u001b[0m\n    \u001b[32m'app'\u001b[0m,\n    \u001b[32m'LICENSE'\u001b[0m,\n    \u001b[32m'requirements.txt'\u001b[0m,\n    \u001b[32m'Dockerfile'\u001b[0m,\n    \u001b[32m'pyproject.toml'\u001b[0m,\n    \u001b[32m'README.md'\u001b[0m,\n    \u001b[32m'.gitignore'\u001b[0m,\n    \u001b[32m'docker-compose.yml'\u001b[0m,\n    \u001b[32m'.ipynb_checkpoints'\u001b[0m,\n    \u001b[32m'poetry.lock'\u001b[0m,\n    \u001b[32m'.git'\u001b[0m,\n    \u001b[32m'.vscode'\u001b[0m,\n    \u001b[32m'data'\u001b[0m,\n    \u001b[32m'heroku.yml'\u001b[0m,\n    \u001b[32m'notebooks'\u001b[0m\n\u001b[1m]\u001b[0m\n",
      "text/html": "<pre style=\"white-space:pre;overflow-x:auto;line-height:normal;font-family:Menlo,'DejaVu Sans Mono',consolas,'Courier New',monospace\"><span style=\"font-weight: bold\">[</span>\n    <span style=\"color: #008000; text-decoration-color: #008000\">'app'</span>,\n    <span style=\"color: #008000; text-decoration-color: #008000\">'LICENSE'</span>,\n    <span style=\"color: #008000; text-decoration-color: #008000\">'requirements.txt'</span>,\n    <span style=\"color: #008000; text-decoration-color: #008000\">'Dockerfile'</span>,\n    <span style=\"color: #008000; text-decoration-color: #008000\">'pyproject.toml'</span>,\n    <span style=\"color: #008000; text-decoration-color: #008000\">'README.md'</span>,\n    <span style=\"color: #008000; text-decoration-color: #008000\">'.gitignore'</span>,\n    <span style=\"color: #008000; text-decoration-color: #008000\">'docker-compose.yml'</span>,\n    <span style=\"color: #008000; text-decoration-color: #008000\">'.ipynb_checkpoints'</span>,\n    <span style=\"color: #008000; text-decoration-color: #008000\">'poetry.lock'</span>,\n    <span style=\"color: #008000; text-decoration-color: #008000\">'.git'</span>,\n    <span style=\"color: #008000; text-decoration-color: #008000\">'.vscode'</span>,\n    <span style=\"color: #008000; text-decoration-color: #008000\">'data'</span>,\n    <span style=\"color: #008000; text-decoration-color: #008000\">'heroku.yml'</span>,\n    <span style=\"color: #008000; text-decoration-color: #008000\">'notebooks'</span>\n<span style=\"font-weight: bold\">]</span>\n</pre>\n"
     },
     "metadata": {}
    }
   ],
   "source": [
    "os.chdir('..')\n",
    "os.listdir()"
   ]
  },
  {
   "cell_type": "code",
   "execution_count": 17,
   "metadata": {},
   "outputs": [],
   "source": [
    "import csv\n",
    "import os\n",
    "import requests\n",
    "import pandas as pd  # only through miniforge conda env\n",
    "from rich import pretty\n",
    "from rich.progress import track\n",
    "from geopy.geocoders import ArcGIS\n",
    "from geopy import distance\n",
    "\n",
    "pretty.install()"
   ]
  },
  {
   "source": [
    "df = pd.read_csv('data/CookCountyMEArchives.csv')\n",
    "print(df.columns)\n",
    "df.head()"
   ],
   "cell_type": "code",
   "metadata": {},
   "execution_count": 8,
   "outputs": [
    {
     "output_type": "stream",
     "name": "stdout",
     "text": [
      "Index(['Age', 'Casenumber', 'Cold Related', 'Commissioner District',\n",
      "       'Death Date', 'Gender', 'Gunrelated', 'Heat Related', 'Incident City',\n",
      "       'Incident Date', 'Incident Street', 'Incident Zip', 'Latino',\n",
      "       'Latitude', 'Longitude', 'Manner', 'Opioids', 'Primarycause',\n",
      "       'Primarycause Linea', 'Race', 'Residence City', 'Residence Zip',\n",
      "       'Secondarycause'],\n",
      "      dtype='object')\n",
      "/Users/nick/miniforge3/envs/geo/lib/python3.9/site-packages/IPython/core/interactiveshell.py:3165: DtypeWarning: Columns (21) have mixed types.Specify dtype option on import or set low_memory=False.\n",
      "  has_raised = await self.run_ast_nodes(code_ast.body, cell_name,\n"
     ]
    },
    {
     "output_type": "execute_result",
     "data": {
      "text/html": "<div>\n<style scoped>\n    .dataframe tbody tr th:only-of-type {\n        vertical-align: middle;\n    }\n\n    .dataframe tbody tr th {\n        vertical-align: top;\n    }\n\n    .dataframe thead th {\n        text-align: right;\n    }\n</style>\n<table border=\"1\" class=\"dataframe\">\n  <thead>\n    <tr style=\"text-align: right;\">\n      <th></th>\n      <th>Age</th>\n      <th>Casenumber</th>\n      <th>Cold Related</th>\n      <th>Commissioner District</th>\n      <th>Death Date</th>\n      <th>Gender</th>\n      <th>Gunrelated</th>\n      <th>Heat Related</th>\n      <th>Incident City</th>\n      <th>Incident Date</th>\n      <th>...</th>\n      <th>Latitude</th>\n      <th>Longitude</th>\n      <th>Manner</th>\n      <th>Opioids</th>\n      <th>Primarycause</th>\n      <th>Primarycause Linea</th>\n      <th>Race</th>\n      <th>Residence City</th>\n      <th>Residence Zip</th>\n      <th>Secondarycause</th>\n    </tr>\n  </thead>\n  <tbody>\n    <tr>\n      <th>0</th>\n      <td>38.0</td>\n      <td>ME2021-03896</td>\n      <td>False</td>\n      <td>5.0</td>\n      <td>2021-04-13T03:02:00.000</td>\n      <td>Male</td>\n      <td>NaN</td>\n      <td>False</td>\n      <td>PARK FOREST</td>\n      <td>2021-04-01T15:00:00.000</td>\n      <td>...</td>\n      <td>41.502759</td>\n      <td>-87.687533</td>\n      <td>NaN</td>\n      <td>NaN</td>\n      <td>NaN</td>\n      <td>NaN</td>\n      <td>Black</td>\n      <td>Park Forest</td>\n      <td>60466</td>\n      <td>NaN</td>\n    </tr>\n    <tr>\n      <th>1</th>\n      <td>67.0</td>\n      <td>ME2021-03895</td>\n      <td>False</td>\n      <td>NaN</td>\n      <td>2021-04-13T02:59:00.000</td>\n      <td>Female</td>\n      <td>NaN</td>\n      <td>False</td>\n      <td>DES PLAINES</td>\n      <td>2021-04-13T02:40:00.000</td>\n      <td>...</td>\n      <td>NaN</td>\n      <td>NaN</td>\n      <td>NaN</td>\n      <td>NaN</td>\n      <td>NaN</td>\n      <td>NaN</td>\n      <td>Asian</td>\n      <td>Des Plaines</td>\n      <td>60016</td>\n      <td>NaN</td>\n    </tr>\n    <tr>\n      <th>2</th>\n      <td>70.0</td>\n      <td>ME2021-03894</td>\n      <td>False</td>\n      <td>16.0</td>\n      <td>2021-04-13T02:02:00.000</td>\n      <td>Male</td>\n      <td>NaN</td>\n      <td>False</td>\n      <td>BERWYN</td>\n      <td>2021-02-18T15:00:00.000</td>\n      <td>...</td>\n      <td>41.843009</td>\n      <td>-87.796797</td>\n      <td>NaN</td>\n      <td>NaN</td>\n      <td>NaN</td>\n      <td>NaN</td>\n      <td>White</td>\n      <td>Berwyn</td>\n      <td>60402</td>\n      <td>NaN</td>\n    </tr>\n    <tr>\n      <th>3</th>\n      <td>35.0</td>\n      <td>ME2021-03893</td>\n      <td>False</td>\n      <td>6.0</td>\n      <td>2021-04-13T00:30:00.000</td>\n      <td>Female</td>\n      <td>NaN</td>\n      <td>False</td>\n      <td>LYNWOOD</td>\n      <td>2021-04-13T00:16:00.000</td>\n      <td>...</td>\n      <td>41.534453</td>\n      <td>-87.557231</td>\n      <td>NaN</td>\n      <td>NaN</td>\n      <td>NaN</td>\n      <td>NaN</td>\n      <td>Black</td>\n      <td>Lynwood</td>\n      <td>60411</td>\n      <td>NaN</td>\n    </tr>\n    <tr>\n      <th>4</th>\n      <td>78.0</td>\n      <td>ME2021-03892</td>\n      <td>False</td>\n      <td>NaN</td>\n      <td>2021-04-12T23:10:00.000</td>\n      <td>Male</td>\n      <td>NaN</td>\n      <td>False</td>\n      <td>HARVEY</td>\n      <td>2021-04-06T23:57:00.000</td>\n      <td>...</td>\n      <td>NaN</td>\n      <td>NaN</td>\n      <td>NaN</td>\n      <td>NaN</td>\n      <td>NaN</td>\n      <td>NaN</td>\n      <td>Black</td>\n      <td>Harvey</td>\n      <td>60426</td>\n      <td>NaN</td>\n    </tr>\n  </tbody>\n</table>\n<p>5 rows × 23 columns</p>\n</div>"
     },
     "metadata": {},
     "execution_count": 8
    }
   ]
  },
  {
   "cell_type": "code",
   "execution_count": 25,
   "metadata": {
    "tags": []
   },
   "outputs": [],
   "source": [
    "def geo_query(row):\n",
    "    street = row['Incident Street']\n",
    "    city = row['Incident City']\n",
    "    zip_code = row['Incident Zip']\n",
    "    address = f\"{street} {city} {zip_code}\"\n",
    "    print(address)\n",
    "    url = f\"https://my-geocoder.herokuapp.com/geocode?address={requests.utils.quote(address)}\"\n",
    "    response = requests.get(url)\n",
    "    if response.status_code == 200:\n",
    "        return response.json()\n",
    "    else:\n",
    "        raise ValueError(\"Invalid response\")\n",
    "\n",
    "\n",
    "def self_geocode(address: str) -> tuple[float, float]:\n",
    "\n",
    "    address = f\"{street} {city} {zip_code}\"\n",
    "    coded = geocoder.geocode(address)\n",
    "    return {\n",
    "        \"latitude\": coded.latitude,\n",
    "        \"longitude\": coded.longitude\n",
    "    }\n",
    "\n",
    "def make_address(row) -> str:\n",
    "    street = row['Incident Street']\n",
    "    city = row['Incident City']\n",
    "    zip_code = row['Incident Zip']\n",
    "    return f\"{street} {city} {zip_code}\"\n",
    "\n"
   ]
  },
  {
   "cell_type": "code",
   "execution_count": 27,
   "metadata": {},
   "outputs": [
    {
     "output_type": "display_data",
     "data": {
      "text/plain": "array\u001b[1m(\u001b[0m\u001b[1m[\u001b[0m\u001b[32m'321 SPRINGFIELD ST. PARK FOREST 60466'\u001b[0m,\n       \u001b[32m'772 SANDBORN STREET DES PLAINES 60016'\u001b[0m,\n       \u001b[32m'6924 26TH ST. BERWYN 60402'\u001b[0m, \u001b[32m'19901 PARK AVE, 1 N LYNWOOD 60411'\u001b[0m,\n       \u001b[32m'15600 HONORE AVENUE HARVEY 60426'\u001b[0m\u001b[1m]\u001b[0m, \u001b[33mdtype\u001b[0m=\u001b[35mobject\u001b[0m\u001b[1m)\u001b[0m\n",
      "text/html": "<pre style=\"white-space:pre;overflow-x:auto;line-height:normal;font-family:Menlo,'DejaVu Sans Mono',consolas,'Courier New',monospace\">array<span style=\"font-weight: bold\">([</span><span style=\"color: #008000; text-decoration-color: #008000\">'321 SPRINGFIELD ST. PARK FOREST 60466'</span>,\n       <span style=\"color: #008000; text-decoration-color: #008000\">'772 SANDBORN STREET DES PLAINES 60016'</span>,\n       <span style=\"color: #008000; text-decoration-color: #008000\">'6924 26TH ST. BERWYN 60402'</span>, <span style=\"color: #008000; text-decoration-color: #008000\">'19901 PARK AVE, 1 N LYNWOOD 60411'</span>,\n       <span style=\"color: #008000; text-decoration-color: #008000\">'15600 HONORE AVENUE HARVEY 60426'</span><span style=\"font-weight: bold\">]</span>, <span style=\"color: #808000; text-decoration-color: #808000\">dtype</span>=<span style=\"color: #800080; text-decoration-color: #800080\">object</span><span style=\"font-weight: bold\">)</span>\n</pre>\n"
     },
     "metadata": {}
    }
   ],
   "source": [
    "df['address'] = df.apply(lambda row: make_address(row), axis=1)\n",
    "df.address.values[:5]"
   ]
  },
  {
   "cell_type": "code",
   "execution_count": 33,
   "metadata": {},
   "outputs": [
    {
     "output_type": "stream",
     "name": "stderr",
     "text": [
      "100%|██████████| 52710/52710 [5:34:56<00:00,  2.62it/s]\n"
     ]
    }
   ],
   "source": [
    "from geopy.extra.rate_limiter import RateLimiter\n",
    "from tqdm import tqdm\n",
    "tqdm.pandas()\n",
    "\n",
    "geolocator = ArcGIS()\n",
    "geocode = RateLimiter(geolocator.geocode, min_delay_seconds=0)\n",
    "df['geo_location'] = df['address'].progress_apply(geocode)\n"
   ]
  },
  {
   "cell_type": "code",
   "execution_count": 39,
   "metadata": {},
   "outputs": [],
   "source": [
    "df['new_lat'] = df['geo_location'].apply(lambda x: x.latitude if x else None)\n",
    "df['new_long'] = df['geo_location'].apply(lambda x: x.longitude if x else None)\n"
   ]
  },
  {
   "cell_type": "code",
   "execution_count": 45,
   "metadata": {},
   "outputs": [],
   "source": [
    "def calc_distance(row):\n",
    "    if not pd.isna(row.new_lat) and not pd.isna(row.new_long) and not pd.isna(row.Latitude) and not pd.isna(row.Longitude):\n",
    "        p1 = (row.new_lat, row.new_long)\n",
    "        p2 = (row.Latitude, row.Longitude)\n",
    "        d = distance.distance(p1, p2)\n",
    "        return d.miles\n",
    "    else:\n",
    "        return None\n",
    "\n",
    "\n",
    "df['distance'] = df.apply(lambda row: calc_distance(row), axis=1)"
   ]
  },
  {
   "cell_type": "code",
   "execution_count": 50,
   "metadata": {},
   "outputs": [
    {
     "output_type": "display_data",
     "data": {
      "text/plain": "array\u001b[1m(\u001b[0m\u001b[1m[\u001b[0m\u001b[1;36m3.16807908e-05\u001b[0m,            nan, \u001b[1;36m3.92842776e-05\u001b[0m, \u001b[1;36m2.69696344e-05\u001b[0m,\n                  nan\u001b[1m]\u001b[0m\u001b[1m)\u001b[0m\n",
      "text/html": "<pre style=\"white-space:pre;overflow-x:auto;line-height:normal;font-family:Menlo,'DejaVu Sans Mono',consolas,'Courier New',monospace\">array<span style=\"font-weight: bold\">([</span><span style=\"color: #008080; text-decoration-color: #008080; font-weight: bold\">3.16807908e-05</span>,            nan, <span style=\"color: #008080; text-decoration-color: #008080; font-weight: bold\">3.92842776e-05</span>, <span style=\"color: #008080; text-decoration-color: #008080; font-weight: bold\">2.69696344e-05</span>,\n                  nan<span style=\"font-weight: bold\">])</span>\n</pre>\n"
     },
     "metadata": {}
    }
   ],
   "source": [
    "df.distance.values[:5]\n"
   ]
  },
  {
   "cell_type": "code",
   "execution_count": 61,
   "metadata": {},
   "outputs": [],
   "source": [
    "df.to_csv('data/coded_records.csv', index=False)"
   ]
  },
  {
   "cell_type": "code",
   "execution_count": 57,
   "metadata": {},
   "outputs": [],
   "source": [
    "import pickle\n",
    "\n",
    "with open('data/dataframe.pkl', 'wb') as f:\n",
    "    pickle.dump(df, f)"
   ]
  },
  {
   "cell_type": "code",
   "execution_count": null,
   "metadata": {},
   "outputs": [],
   "source": []
  }
 ]
}