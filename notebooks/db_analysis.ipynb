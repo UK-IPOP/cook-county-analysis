{
 "cells": [
  {
   "cell_type": "code",
   "execution_count": 1,
   "metadata": {},
   "outputs": [],
   "source": [
    "import pandas as pd\n",
    "import json\n",
    "from geopy import distance"
   ]
  },
  {
   "cell_type": "code",
   "execution_count": null,
   "metadata": {},
   "outputs": [],
   "source": [
    "with open('data 'r') as f:\n",
    "    data = json.load(f)\n",
    "\n",
    "df = pd.DataFrame(data)\n",
    "df.columns\n"
   ]
  },
  {
   "cell_type": "code",
   "execution_count": 2,
   "metadata": {},
   "outputs": [
    {
     "data": {
      "text/html": [
       "<div>\n",
       "<style scoped>\n",
       "    .dataframe tbody tr th:only-of-type {\n",
       "        vertical-align: middle;\n",
       "    }\n",
       "\n",
       "    .dataframe tbody tr th {\n",
       "        vertical-align: top;\n",
       "    }\n",
       "\n",
       "    .dataframe thead th {\n",
       "        text-align: right;\n",
       "    }\n",
       "</style>\n",
       "<table border=\"1\" class=\"dataframe\">\n",
       "  <thead>\n",
       "    <tr style=\"text-align: right;\">\n",
       "      <th></th>\n",
       "      <th>Casenumber</th>\n",
       "      <th>address</th>\n",
       "    </tr>\n",
       "  </thead>\n",
       "  <tbody>\n",
       "    <tr>\n",
       "      <th>0</th>\n",
       "      <td>ME2021-03873</td>\n",
       "      <td>15300 West Avenue ORLAND PARK 60462</td>\n",
       "    </tr>\n",
       "    <tr>\n",
       "      <th>1</th>\n",
       "      <td>ME2021-03868</td>\n",
       "      <td>6543 S KAMINSKI CHICAGO 60629</td>\n",
       "    </tr>\n",
       "    <tr>\n",
       "      <th>2</th>\n",
       "      <td>ME2021-03864</td>\n",
       "      <td>15234 Paulina HARVEY 60426</td>\n",
       "    </tr>\n",
       "    <tr>\n",
       "      <th>3</th>\n",
       "      <td>ME2021-03859</td>\n",
       "      <td>832 N. MOZART ST. CHICAGO 60622</td>\n",
       "    </tr>\n",
       "    <tr>\n",
       "      <th>4</th>\n",
       "      <td>ME2021-03858</td>\n",
       "      <td>939 JACKSON CIRCLE ELK GROVE VILLAGE 60007</td>\n",
       "    </tr>\n",
       "  </tbody>\n",
       "</table>\n",
       "</div>"
      ],
      "text/plain": [
       "     Casenumber                                     address\n",
       "0  ME2021-03873         15300 West Avenue ORLAND PARK 60462\n",
       "1  ME2021-03868               6543 S KAMINSKI CHICAGO 60629\n",
       "2  ME2021-03864                  15234 Paulina HARVEY 60426\n",
       "3  ME2021-03859             832 N. MOZART ST. CHICAGO 60622\n",
       "4  ME2021-03858  939 JACKSON CIRCLE ELK GROVE VILLAGE 60007"
      ]
     },
     "execution_count": 2,
     "metadata": {},
     "output_type": "execute_result"
    }
   ],
   "source": [
    "df = pd.read_csv('../data/new_addresses.csv')\n",
    "df.head()"
   ]
  },
  {
   "cell_type": "code",
   "execution_count": 17,
   "metadata": {},
   "outputs": [
    {
     "data": {
      "text/plain": [
       "0         15300 West Avenue ORLAND PARK Illinois 60462\n",
       "1               6543 S KAMINSKI CHICAGO Illinois 60629\n",
       "2                  15234 Paulina HARVEY Illinois 60426\n",
       "3             832 N. MOZART ST. CHICAGO Illinois 60622\n",
       "4    939 JACKSON CIRCLE ELK GROVE VILLAGE Illinois ...\n",
       "Name: address, dtype: object"
      ]
     },
     "execution_count": 17,
     "metadata": {},
     "output_type": "execute_result"
    }
   ],
   "source": [
    "def add_state(x: str) -> str:\n",
    "    words = x.split()\n",
    "    words.insert(-1, 'Illinois')\n",
    "    return ' '.join(words)\n",
    "\n",
    "df['address'] = df.address.apply(lambda x: add_state(x))\n",
    "df.address.head()"
   ]
  },
  {
   "cell_type": "code",
   "execution_count": 5,
   "metadata": {},
   "outputs": [
    {
     "data": {
      "text/plain": [
       "True"
      ]
     },
     "execution_count": 5,
     "metadata": {},
     "output_type": "execute_result"
    }
   ],
   "source": [
    "all((a for a in df.address.values if a.split()[-1].isdigit()))"
   ]
  },
  {
   "cell_type": "code",
   "execution_count": 16,
   "metadata": {},
   "outputs": [
    {
     "data": {
      "text/plain": [
       "['6135', 'N.', 'KEATING', 'AVE', 'CHICAGO', 'Illinois', '60646']"
      ]
     },
     "execution_count": 16,
     "metadata": {},
     "output_type": "execute_result"
    }
   ],
   "source": [
    "w = df.address.values[5].split()\n",
    "w.insert(-1, 'Illinois')\n",
    "w"
   ]
  },
  {
   "cell_type": "code",
   "execution_count": 18,
   "metadata": {},
   "outputs": [],
   "source": [
    "df.to_csv('new_addresses.csv', index=False)"
   ]
  },
  {
   "cell_type": "code",
   "execution_count": 5,
   "metadata": {},
   "outputs": [
    {
     "name": "stdout",
     "output_type": "stream",
     "text": [
      "Index(['Casenumber', 'address', 'long', 'lat', 'rating'], dtype='object')\n"
     ]
    },
    {
     "data": {
      "text/html": [
       "<div>\n",
       "<style scoped>\n",
       "    .dataframe tbody tr th:only-of-type {\n",
       "        vertical-align: middle;\n",
       "    }\n",
       "\n",
       "    .dataframe tbody tr th {\n",
       "        vertical-align: top;\n",
       "    }\n",
       "\n",
       "    .dataframe thead th {\n",
       "        text-align: right;\n",
       "    }\n",
       "</style>\n",
       "<table border=\"1\" class=\"dataframe\">\n",
       "  <thead>\n",
       "    <tr style=\"text-align: right;\">\n",
       "      <th></th>\n",
       "      <th>Casenumber</th>\n",
       "      <th>address</th>\n",
       "      <th>long</th>\n",
       "      <th>lat</th>\n",
       "      <th>rating</th>\n",
       "    </tr>\n",
       "  </thead>\n",
       "  <tbody>\n",
       "    <tr>\n",
       "      <th>15348</th>\n",
       "      <td>ME2021-01412</td>\n",
       "      <td>21ST AND ST. CHARLES MAYWOOD Illinois 60153</td>\n",
       "      <td>-87.759671</td>\n",
       "      <td>41.068281</td>\n",
       "      <td>71.0</td>\n",
       "    </tr>\n",
       "    <tr>\n",
       "      <th>48873</th>\n",
       "      <td>ME2017-02606</td>\n",
       "      <td>11612 South Ridgeland Ave WORTH Illinois 60482</td>\n",
       "      <td>-87.778519</td>\n",
       "      <td>41.679718</td>\n",
       "      <td>0.0</td>\n",
       "    </tr>\n",
       "  </tbody>\n",
       "</table>\n",
       "</div>"
      ],
      "text/plain": [
       "         Casenumber                                         address  \\\n",
       "15348  ME2021-01412     21ST AND ST. CHARLES MAYWOOD Illinois 60153   \n",
       "48873  ME2017-02606  11612 South Ridgeland Ave WORTH Illinois 60482   \n",
       "\n",
       "            long        lat  rating  \n",
       "15348 -87.759671  41.068281    71.0  \n",
       "48873 -87.778519  41.679718     0.0  "
      ]
     },
     "execution_count": 5,
     "metadata": {},
     "output_type": "execute_result"
    }
   ],
   "source": [
    "df1 = pd.read_csv('../data/me_geocoding.csv')\n",
    "df1.drop('id', axis=1, inplace=True)\n",
    "df1.columns = ('Casenumber', 'address', 'long', 'lat', 'rating')\n",
    "print(df1.columns)\n",
    "df1.sample(2)"
   ]
  },
  {
   "cell_type": "code",
   "execution_count": 6,
   "metadata": {},
   "outputs": [
    {
     "name": "stdout",
     "output_type": "stream",
     "text": [
      "Index(['Age', 'Casenumber', 'Cold Related', 'Commissioner District',\n",
      "       'Death Date', 'Gender', 'Gunrelated', 'Heat Related', 'Incident City',\n",
      "       'Incident Date', 'Incident Street', 'Incident Zip', 'Latino',\n",
      "       'Latitude', 'Longitude', 'Manner', 'Opioids', 'Primarycause',\n",
      "       'Primarycause Linea', 'Race', 'Residence City', 'Residence Zip',\n",
      "       'Secondarycause'],\n",
      "      dtype='object')\n",
      "/Users/nick/miniforge3/envs/geo/lib/python3.9/site-packages/IPython/core/interactiveshell.py:3165: DtypeWarning: Columns (21) have mixed types.Specify dtype option on import or set low_memory=False.\n",
      "  has_raised = await self.run_ast_nodes(code_ast.body, cell_name,\n"
     ]
    },
    {
     "data": {
      "text/html": [
       "<div>\n",
       "<style scoped>\n",
       "    .dataframe tbody tr th:only-of-type {\n",
       "        vertical-align: middle;\n",
       "    }\n",
       "\n",
       "    .dataframe tbody tr th {\n",
       "        vertical-align: top;\n",
       "    }\n",
       "\n",
       "    .dataframe thead th {\n",
       "        text-align: right;\n",
       "    }\n",
       "</style>\n",
       "<table border=\"1\" class=\"dataframe\">\n",
       "  <thead>\n",
       "    <tr style=\"text-align: right;\">\n",
       "      <th></th>\n",
       "      <th>Age</th>\n",
       "      <th>Casenumber</th>\n",
       "      <th>Cold Related</th>\n",
       "      <th>Commissioner District</th>\n",
       "      <th>Death Date</th>\n",
       "      <th>Gender</th>\n",
       "      <th>Gunrelated</th>\n",
       "      <th>Heat Related</th>\n",
       "      <th>Incident City</th>\n",
       "      <th>Incident Date</th>\n",
       "      <th>...</th>\n",
       "      <th>Latitude</th>\n",
       "      <th>Longitude</th>\n",
       "      <th>Manner</th>\n",
       "      <th>Opioids</th>\n",
       "      <th>Primarycause</th>\n",
       "      <th>Primarycause Linea</th>\n",
       "      <th>Race</th>\n",
       "      <th>Residence City</th>\n",
       "      <th>Residence Zip</th>\n",
       "      <th>Secondarycause</th>\n",
       "    </tr>\n",
       "  </thead>\n",
       "  <tbody>\n",
       "    <tr>\n",
       "      <th>50057</th>\n",
       "      <td>56.0</td>\n",
       "      <td>ME2020-05462</td>\n",
       "      <td>False</td>\n",
       "      <td>7.0</td>\n",
       "      <td>2020-05-13T15:15:00.000</td>\n",
       "      <td>Male</td>\n",
       "      <td>False</td>\n",
       "      <td>False</td>\n",
       "      <td>CHICAGO</td>\n",
       "      <td>2020-05-13T15:00:00.000</td>\n",
       "      <td>...</td>\n",
       "      <td>41.80605</td>\n",
       "      <td>-87.663757</td>\n",
       "      <td>NATURAL</td>\n",
       "      <td>False</td>\n",
       "      <td>DIABETIC KETOACIDOSIS</td>\n",
       "      <td>DIABETES MELLITUS</td>\n",
       "      <td>White</td>\n",
       "      <td>Chicago</td>\n",
       "      <td>60609.0</td>\n",
       "      <td>HYPERTENSION</td>\n",
       "    </tr>\n",
       "    <tr>\n",
       "      <th>26068</th>\n",
       "      <td>61.0</td>\n",
       "      <td>ME2020-04915</td>\n",
       "      <td>False</td>\n",
       "      <td>NaN</td>\n",
       "      <td>2020-05-08T03:04:00.000</td>\n",
       "      <td>Male</td>\n",
       "      <td>False</td>\n",
       "      <td>False</td>\n",
       "      <td>DES PLAINES</td>\n",
       "      <td>2020-04-20T12:00:00.000</td>\n",
       "      <td>...</td>\n",
       "      <td>NaN</td>\n",
       "      <td>NaN</td>\n",
       "      <td>NATURAL</td>\n",
       "      <td>False</td>\n",
       "      <td>PNEUMONIA</td>\n",
       "      <td>NOVEL CORONA (COVID-19) VIRUS INFECTION</td>\n",
       "      <td>White</td>\n",
       "      <td>Des Plaines</td>\n",
       "      <td>60016</td>\n",
       "      <td>AORTIC STENOSIS, HYPOTHYROIDISM</td>\n",
       "    </tr>\n",
       "  </tbody>\n",
       "</table>\n",
       "<p>2 rows × 23 columns</p>\n",
       "</div>"
      ],
      "text/plain": [
       "        Age    Casenumber  Cold Related  Commissioner District  \\\n",
       "50057  56.0  ME2020-05462         False                    7.0   \n",
       "26068  61.0  ME2020-04915         False                    NaN   \n",
       "\n",
       "                    Death Date Gender Gunrelated  Heat Related Incident City  \\\n",
       "50057  2020-05-13T15:15:00.000   Male      False         False       CHICAGO   \n",
       "26068  2020-05-08T03:04:00.000   Male      False         False   DES PLAINES   \n",
       "\n",
       "                 Incident Date  ...  Latitude  Longitude   Manner  Opioids  \\\n",
       "50057  2020-05-13T15:00:00.000  ...  41.80605 -87.663757  NATURAL    False   \n",
       "26068  2020-04-20T12:00:00.000  ...       NaN        NaN  NATURAL    False   \n",
       "\n",
       "                Primarycause                       Primarycause Linea   Race  \\\n",
       "50057  DIABETIC KETOACIDOSIS                        DIABETES MELLITUS  White   \n",
       "26068              PNEUMONIA  NOVEL CORONA (COVID-19) VIRUS INFECTION  White   \n",
       "\n",
       "      Residence City Residence Zip                   Secondarycause  \n",
       "50057        Chicago       60609.0                     HYPERTENSION  \n",
       "26068    Des Plaines         60016  AORTIC STENOSIS, HYPOTHYROIDISM  \n",
       "\n",
       "[2 rows x 23 columns]"
      ]
     },
     "execution_count": 6,
     "metadata": {},
     "output_type": "execute_result"
    }
   ],
   "source": [
    "df2 = pd.read_csv('../data/CookCountyMEArchives.csv')\n",
    "print(df2.columns)\n",
    "df2.sample(2)"
   ]
  },
  {
   "cell_type": "code",
   "execution_count": 22,
   "metadata": {},
   "outputs": [],
   "source": [
    "import numpy as np\n",
    "\n",
    "def calc_feet(x: float):\n",
    "    return x * 5_280\n",
    "\n",
    "def calc_distance(row):\n",
    "    if pd.isna(row.lat) or pd.isna(row.long) or pd.isna(row.Latitude) or pd.isna(row.Longitude):\n",
    "        return np.nan  # return nan if any nulls\n",
    "    else:\n",
    "        m = distance.distance((row.lat, row.long), (row.Latitude, row.Longitude))\n",
    "        feet = calc_feet(m.miles)\n",
    "        return feet\n"
   ]
  },
  {
   "cell_type": "code",
   "execution_count": 23,
   "metadata": {},
   "outputs": [],
   "source": [
    "df3 = df1.set_index('Casenumber').join(df2.set_index('Casenumber'), on='Casenumber')\n",
    "df3['distance'] = df3.apply(lambda row: calc_distance(row), axis=1)"
   ]
  },
  {
   "cell_type": "code",
   "execution_count": 30,
   "metadata": {},
   "outputs": [
    {
     "data": {
      "text/plain": [
       "50018"
      ]
     },
     "execution_count": 30,
     "metadata": {},
     "output_type": "execute_result"
    }
   ],
   "source": [
    "len(df1[pd.notna(df1.long)])"
   ]
  },
  {
   "cell_type": "code",
   "execution_count": 31,
   "metadata": {},
   "outputs": [
    {
     "data": {
      "text/plain": [
       "count      44639.00\n",
       "mean       27434.87\n",
       "std       124475.93\n",
       "min            3.32\n",
       "25%           73.53\n",
       "50%          188.27\n",
       "75%         7839.15\n",
       "max      1753597.17\n",
       "Name: distance, dtype: float64"
      ]
     },
     "execution_count": 31,
     "metadata": {},
     "output_type": "execute_result"
    }
   ],
   "source": [
    "df3['distance'].describe().round(2)"
   ]
  },
  {
   "cell_type": "code",
   "execution_count": 32,
   "metadata": {},
   "outputs": [
    {
     "data": {
      "text/plain": [
       "0.241"
      ]
     },
     "execution_count": 32,
     "metadata": {},
     "output_type": "execute_result"
    }
   ],
   "source": [
    "df3.distance.corr(df3.rating).round(3)"
   ]
  },
  {
   "cell_type": "code",
   "execution_count": null,
   "metadata": {},
   "outputs": [],
   "source": []
  }
 ],
 "metadata": {
  "kernelspec": {
   "display_name": "Python 3.9.2 64-bit ('geo': conda)",
   "name": "python392jvsc74a57bd05d2dc76a5f11d8dab626d3a9b4f263a0b5099ffbf616dc9d4738ef59ea630642"
  },
  "language_info": {
   "codemirror_mode": {
    "name": "ipython",
    "version": 3
   },
   "file_extension": ".py",
   "mimetype": "text/x-python",
   "name": "python",
   "nbconvert_exporter": "python",
   "pygments_lexer": "ipython3",
   "version": "3.9.2"
  },
  "metadata": {
   "interpreter": {
    "hash": "5d2dc76a5f11d8dab626d3a9b4f263a0b5099ffbf616dc9d4738ef59ea630642"
   }
  },
  "orig_nbformat": 2
 },
 "nbformat": 4,
 "nbformat_minor": 2
}