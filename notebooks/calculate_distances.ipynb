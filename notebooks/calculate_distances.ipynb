{
 "cells": [
  {
   "cell_type": "code",
   "execution_count": 4,
   "metadata": {},
   "outputs": [],
   "source": [
    "import geopy\n",
    "from geopy.distance import distance\n",
    "import pandas as pd\n",
    "from rich.progress import track"
   ]
  },
  {
   "cell_type": "code",
   "execution_count": 5,
   "metadata": {},
   "outputs": [
    {
     "name": "stderr",
     "output_type": "stream",
     "text": [
      "/opt/homebrew/Caskroom/miniforge/base/lib/python3.9/site-packages/IPython/core/interactiveshell.py:3169: DtypeWarning: Columns (20,25) have mixed types.Specify dtype option on import or set low_memory=False.\n",
      "  has_raised = await self.run_ast_nodes(code_ast.body, cell_name,\n"
     ]
    }
   ],
   "source": [
    "pharmacies = pd.read_csv('../data/geocoded_pharmacies.csv')\n",
    "records = pd.read_csv('../data/version3.csv')"
   ]
  },
  {
   "cell_type": "code",
   "execution_count": 9,
   "metadata": {},
   "outputs": [
    {
     "name": "stdout",
     "output_type": "stream",
     "text": [
      "(7748, 33)\n"
     ]
    },
    {
     "data": {
      "text/html": [
       "<div>\n",
       "<style scoped>\n",
       "    .dataframe tbody tr th:only-of-type {\n",
       "        vertical-align: middle;\n",
       "    }\n",
       "\n",
       "    .dataframe tbody tr th {\n",
       "        vertical-align: top;\n",
       "    }\n",
       "\n",
       "    .dataframe thead th {\n",
       "        text-align: right;\n",
       "    }\n",
       "</style>\n",
       "<table border=\"1\" class=\"dataframe\">\n",
       "  <thead>\n",
       "    <tr style=\"text-align: right;\">\n",
       "      <th></th>\n",
       "      <th>Case Number</th>\n",
       "      <th>Date of Incident</th>\n",
       "      <th>Date of Death</th>\n",
       "      <th>Age</th>\n",
       "      <th>Gender</th>\n",
       "      <th>Race</th>\n",
       "      <th>Latino</th>\n",
       "      <th>Manner of Death</th>\n",
       "      <th>Primary Cause</th>\n",
       "      <th>Primary Cause Line A</th>\n",
       "      <th>...</th>\n",
       "      <th>location</th>\n",
       "      <th>Residence City</th>\n",
       "      <th>Residence_Zip</th>\n",
       "      <th>OBJECTID</th>\n",
       "      <th>cleaned_address</th>\n",
       "      <th>full_address</th>\n",
       "      <th>coded_lat</th>\n",
       "      <th>coded_long</th>\n",
       "      <th>coded_score</th>\n",
       "      <th>distance</th>\n",
       "    </tr>\n",
       "  </thead>\n",
       "  <tbody>\n",
       "    <tr>\n",
       "      <th>23926</th>\n",
       "      <td>ME2017-00517</td>\n",
       "      <td>01/30/2017 01:21:00 PM</td>\n",
       "      <td>01/30/2017 01:53:00 PM</td>\n",
       "      <td>56.0</td>\n",
       "      <td>Female</td>\n",
       "      <td>Black</td>\n",
       "      <td>False</td>\n",
       "      <td>ACCIDENT</td>\n",
       "      <td>COMBINED DRUG (4-ANPP, ACRYL FENTANYL, COCAINE...</td>\n",
       "      <td>NaN</td>\n",
       "      <td>...</td>\n",
       "      <td>(41.70578918080517, -87.60804091023283)</td>\n",
       "      <td>Chicago</td>\n",
       "      <td>60628</td>\n",
       "      <td>69198</td>\n",
       "      <td>622 E. 104Th Street</td>\n",
       "      <td>622 E. 104Th Street Chicago 60628</td>\n",
       "      <td>41.705789</td>\n",
       "      <td>-87.608041</td>\n",
       "      <td>100.0</td>\n",
       "      <td>0.000023</td>\n",
       "    </tr>\n",
       "  </tbody>\n",
       "</table>\n",
       "<p>1 rows × 33 columns</p>\n",
       "</div>"
      ],
      "text/plain": [
       "        Case Number        Date of Incident           Date of Death   Age  \\\n",
       "23926  ME2017-00517  01/30/2017 01:21:00 PM  01/30/2017 01:53:00 PM  56.0   \n",
       "\n",
       "       Gender   Race  Latino Manner of Death  \\\n",
       "23926  Female  Black   False        ACCIDENT   \n",
       "\n",
       "                                           Primary Cause Primary Cause Line A  \\\n",
       "23926  COMBINED DRUG (4-ANPP, ACRYL FENTANYL, COCAINE...                  NaN   \n",
       "\n",
       "       ...                                 location Residence City  \\\n",
       "23926  ...  (41.70578918080517, -87.60804091023283)        Chicago   \n",
       "\n",
       "      Residence_Zip OBJECTID      cleaned_address  \\\n",
       "23926         60628    69198  622 E. 104Th Street   \n",
       "\n",
       "                            full_address  coded_lat  coded_long coded_score  \\\n",
       "23926  622 E. 104Th Street Chicago 60628  41.705789  -87.608041       100.0   \n",
       "\n",
       "       distance  \n",
       "23926  0.000023  \n",
       "\n",
       "[1 rows x 33 columns]"
      ]
     },
     "execution_count": 9,
     "metadata": {},
     "output_type": "execute_result"
    }
   ],
   "source": [
    "# instead of filtering on this field, we should filter on \n",
    "# a field from Pronob's dataset\n",
    "filt_records = records[records['Opioid Related'] == True]\n",
    "print(filt_records.shape)\n",
    "filt_records.sample(1)"
   ]
  },
  {
   "cell_type": "code",
   "execution_count": 10,
   "metadata": {},
   "outputs": [],
   "source": [
    "pharm_lats = pharmacies.coded_lat.values\n",
    "pharm_longs = pharmacies.coded_long.values\n",
    "pharm_points = [(x, y) for x, y in zip(pharm_lats, pharm_longs) if pd.notna(x) and pd.notna(y)]\n",
    "\n",
    "record_lats = filt_records.coded_lat.values\n",
    "record_longs = filt_records.coded_long.values\n",
    "record_points = [(x, y) for x, y in zip(record_lats, record_longs) if pd.notna(x) and pd.notna(y)]"
   ]
  },
  {
   "cell_type": "code",
   "execution_count": 11,
   "metadata": {},
   "outputs": [],
   "source": [
    "distances = []\n",
    "for p1 in track(record_points, total=len(record_points)):\n",
    "    record_distances = []\n",
    "    for p2 in pharm_points:\n",
    "        d = distance(p1, p2).km\n",
    "        record_distances.append(d)\n",
    "    distances.append(min(record_distances))"
   ]
  },
  {
   "cell_type": "code",
   "execution_count": 12,
   "metadata": {},
   "outputs": [
    {
     "data": {
      "text/plain": [
       "5.52858288455065"
      ]
     },
     "execution_count": 12,
     "metadata": {},
     "output_type": "execute_result"
    }
   ],
   "source": [
    "sum(distances) / len(distances)"
   ]
  },
  {
   "cell_type": "code",
   "execution_count": null,
   "metadata": {},
   "outputs": [],
   "source": []
  }
 ],
 "metadata": {
  "interpreter": {
   "hash": "95ec9ec1504d83f612128e0fb229072f90bbb4cb09d9d5d93b5dd26e0ca2cfd1"
  },
  "kernelspec": {
   "display_name": "Python 3.9.2 64-bit",
   "name": "python3"
  },
  "language_info": {
   "codemirror_mode": {
    "name": "ipython",
    "version": 3
   },
   "file_extension": ".py",
   "mimetype": "text/x-python",
   "name": "python",
   "nbconvert_exporter": "python",
   "pygments_lexer": "ipython3",
   "version": "3.9.2"
  },
  "orig_nbformat": 4
 },
 "nbformat": 4,
 "nbformat_minor": 2
}