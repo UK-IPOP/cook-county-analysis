{
 "cells": [
  {
   "cell_type": "code",
   "execution_count": 6,
   "metadata": {},
   "outputs": [],
   "source": [
    "import requests\n",
    "import pandas as pd\n",
    "import geopy\n",
    "from geopy.geocoders import ArcGIS"
   ]
  },
  {
   "cell_type": "code",
   "execution_count": 2,
   "metadata": {},
   "outputs": [
    {
     "data": {
      "text/html": [
       "<div>\n",
       "<style scoped>\n",
       "    .dataframe tbody tr th:only-of-type {\n",
       "        vertical-align: middle;\n",
       "    }\n",
       "\n",
       "    .dataframe tbody tr th {\n",
       "        vertical-align: top;\n",
       "    }\n",
       "\n",
       "    .dataframe thead th {\n",
       "        text-align: right;\n",
       "    }\n",
       "</style>\n",
       "<table border=\"1\" class=\"dataframe\">\n",
       "  <thead>\n",
       "    <tr style=\"text-align: right;\">\n",
       "      <th></th>\n",
       "      <th>PharmacyName</th>\n",
       "      <th>PharmacyAddress</th>\n",
       "      <th>City</th>\n",
       "      <th>State</th>\n",
       "      <th>Zip</th>\n",
       "      <th>County</th>\n",
       "    </tr>\n",
       "  </thead>\n",
       "  <tbody>\n",
       "    <tr>\n",
       "      <th>0</th>\n",
       "      <td>200 PHARMACY</td>\n",
       "      <td>9004 S Stony Island</td>\n",
       "      <td>CHICAGO</td>\n",
       "      <td>IL</td>\n",
       "      <td>60617</td>\n",
       "      <td>Cook County</td>\n",
       "    </tr>\n",
       "    <tr>\n",
       "      <th>1</th>\n",
       "      <td>666 DRUG CO</td>\n",
       "      <td>680 N LAKE SHORE DR</td>\n",
       "      <td>CHICAGO</td>\n",
       "      <td>IL</td>\n",
       "      <td>60611</td>\n",
       "      <td>Cook County</td>\n",
       "    </tr>\n",
       "    <tr>\n",
       "      <th>2</th>\n",
       "      <td>IVAN T MATTHEI PHARMACY</td>\n",
       "      <td>111 N WABASH ROOM 712</td>\n",
       "      <td>CHICAGO</td>\n",
       "      <td>IL</td>\n",
       "      <td>60602</td>\n",
       "      <td>Cook County</td>\n",
       "    </tr>\n",
       "    <tr>\n",
       "      <th>3</th>\n",
       "      <td>BRADYS PHARMACY</td>\n",
       "      <td>3235 W 111TH ST</td>\n",
       "      <td>CHICAGO</td>\n",
       "      <td>IL</td>\n",
       "      <td>60655</td>\n",
       "      <td>Cook County</td>\n",
       "    </tr>\n",
       "    <tr>\n",
       "      <th>4</th>\n",
       "      <td>WALGREENS</td>\n",
       "      <td>6798 N LINCOLN</td>\n",
       "      <td>LINCOLNWOOD</td>\n",
       "      <td>IL</td>\n",
       "      <td>60646</td>\n",
       "      <td>Cook County</td>\n",
       "    </tr>\n",
       "  </tbody>\n",
       "</table>\n",
       "</div>"
      ],
      "text/plain": [
       "              PharmacyName        PharmacyAddress         City State    Zip  \\\n",
       "0             200 PHARMACY    9004 S Stony Island      CHICAGO    IL  60617   \n",
       "1              666 DRUG CO    680 N LAKE SHORE DR      CHICAGO    IL  60611   \n",
       "2  IVAN T MATTHEI PHARMACY  111 N WABASH ROOM 712      CHICAGO    IL  60602   \n",
       "3          BRADYS PHARMACY        3235 W 111TH ST      CHICAGO    IL  60655   \n",
       "4                WALGREENS         6798 N LINCOLN  LINCOLNWOOD    IL  60646   \n",
       "\n",
       "        County  \n",
       "0  Cook County  \n",
       "1  Cook County  \n",
       "2  Cook County  \n",
       "3  Cook County  \n",
       "4  Cook County  "
      ]
     },
     "execution_count": 2,
     "metadata": {},
     "output_type": "execute_result"
    }
   ],
   "source": [
    "df = pd.read_csv('../data/CookCounty_Pharmacies.csv')\n",
    "df.head()"
   ]
  },
  {
   "cell_type": "code",
   "execution_count": 8,
   "metadata": {},
   "outputs": [],
   "source": [
    "geolocator = ArcGIS()\n",
    "\n",
    "for i, row in df.loc[:3].iterrows():\n",
    "    address_string = f\"{row.PharmacyAddress} {row.City} {row.State} {row.Zip}\"\n",
    "    payload = {'address': address_string}\n",
    "    response = requests.get(\n",
    "        \"https://my-geocoder.herokuapp.com/geocode\", \n",
    "        params=payload\n",
    "    )\n",
    "    geo_result = geolocator.geocode(address_string)\n",
    "    print(response.json())\n",
    "    print(geo_result.latitude, geo_result.longitude)\n"
   ]
  },
  {
   "cell_type": "code",
   "execution_count": null,
   "metadata": {},
   "outputs": [],
   "source": []
  }
 ],
 "metadata": {
  "interpreter": {
   "hash": "95ec9ec1504d83f612128e0fb229072f90bbb4cb09d9d5d93b5dd26e0ca2cfd1"
  },
  "kernelspec": {
   "display_name": "Python 3.9.2 64-bit ('base': conda)",
   "name": "python3"
  },
  "language_info": {
   "name": "python",
   "version": ""
  },
  "orig_nbformat": 4
 },
 "nbformat": 4,
 "nbformat_minor": 2
}