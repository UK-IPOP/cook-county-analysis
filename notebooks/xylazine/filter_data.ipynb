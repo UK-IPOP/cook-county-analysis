{
 "cells": [
  {
   "cell_type": "code",
   "execution_count": 2,
   "metadata": {},
   "outputs": [],
   "source": [
    "import pandas as pd"
   ]
  },
  {
   "cell_type": "code",
   "execution_count": 3,
   "metadata": {},
   "outputs": [
    {
     "data": {
      "text/html": [
       "<div>\n",
       "<style scoped>\n",
       "    .dataframe tbody tr th:only-of-type {\n",
       "        vertical-align: middle;\n",
       "    }\n",
       "\n",
       "    .dataframe tbody tr th {\n",
       "        vertical-align: top;\n",
       "    }\n",
       "\n",
       "    .dataframe thead th {\n",
       "        text-align: right;\n",
       "    }\n",
       "</style>\n",
       "<table border=\"1\" class=\"dataframe\">\n",
       "  <thead>\n",
       "    <tr style=\"text-align: right;\">\n",
       "      <th></th>\n",
       "      <th>casenumber</th>\n",
       "      <th>incident_date</th>\n",
       "      <th>death_date</th>\n",
       "      <th>age</th>\n",
       "      <th>gender</th>\n",
       "      <th>race</th>\n",
       "      <th>latino</th>\n",
       "      <th>cold_related</th>\n",
       "      <th>heat_related</th>\n",
       "      <th>commissioner_district</th>\n",
       "      <th>...</th>\n",
       "      <th>toxic_primary</th>\n",
       "      <th>toxic_secondary</th>\n",
       "      <th>tramadol_primary</th>\n",
       "      <th>tramadol_secondary</th>\n",
       "      <th>u-47700_primary</th>\n",
       "      <th>u-49900_primary</th>\n",
       "      <th>valeryl_primary</th>\n",
       "      <th>xylazine_primary</th>\n",
       "      <th>xylazine_secondary</th>\n",
       "      <th>nitazene</th>\n",
       "    </tr>\n",
       "  </thead>\n",
       "  <tbody>\n",
       "    <tr>\n",
       "      <th>0</th>\n",
       "      <td>ME2022-06565</td>\n",
       "      <td>2022-07-12T02:38:00.000</td>\n",
       "      <td>2022-07-12</td>\n",
       "      <td>74.0</td>\n",
       "      <td>Male</td>\n",
       "      <td>White</td>\n",
       "      <td>0</td>\n",
       "      <td>0</td>\n",
       "      <td>0</td>\n",
       "      <td>4.0</td>\n",
       "      <td>...</td>\n",
       "      <td>NaN</td>\n",
       "      <td>NaN</td>\n",
       "      <td>NaN</td>\n",
       "      <td>NaN</td>\n",
       "      <td>NaN</td>\n",
       "      <td>NaN</td>\n",
       "      <td>NaN</td>\n",
       "      <td>NaN</td>\n",
       "      <td>NaN</td>\n",
       "      <td>0</td>\n",
       "    </tr>\n",
       "    <tr>\n",
       "      <th>1</th>\n",
       "      <td>ME2022-06564</td>\n",
       "      <td>2022-07-11T23:46:00.000</td>\n",
       "      <td>2022-07-12</td>\n",
       "      <td>NaN</td>\n",
       "      <td>Male</td>\n",
       "      <td>Black</td>\n",
       "      <td>0</td>\n",
       "      <td>0</td>\n",
       "      <td>0</td>\n",
       "      <td>2.0</td>\n",
       "      <td>...</td>\n",
       "      <td>NaN</td>\n",
       "      <td>NaN</td>\n",
       "      <td>NaN</td>\n",
       "      <td>NaN</td>\n",
       "      <td>NaN</td>\n",
       "      <td>NaN</td>\n",
       "      <td>NaN</td>\n",
       "      <td>NaN</td>\n",
       "      <td>NaN</td>\n",
       "      <td>0</td>\n",
       "    </tr>\n",
       "    <tr>\n",
       "      <th>2</th>\n",
       "      <td>ME2022-06563</td>\n",
       "      <td>2022-07-02T00:00:00.000</td>\n",
       "      <td>2022-07-11</td>\n",
       "      <td>28.0</td>\n",
       "      <td>Male</td>\n",
       "      <td>Black</td>\n",
       "      <td>0</td>\n",
       "      <td>0</td>\n",
       "      <td>0</td>\n",
       "      <td>3.0</td>\n",
       "      <td>...</td>\n",
       "      <td>NaN</td>\n",
       "      <td>NaN</td>\n",
       "      <td>NaN</td>\n",
       "      <td>NaN</td>\n",
       "      <td>NaN</td>\n",
       "      <td>NaN</td>\n",
       "      <td>NaN</td>\n",
       "      <td>NaN</td>\n",
       "      <td>NaN</td>\n",
       "      <td>0</td>\n",
       "    </tr>\n",
       "    <tr>\n",
       "      <th>3</th>\n",
       "      <td>ME2022-06562</td>\n",
       "      <td>2022-07-11T20:48:00.000</td>\n",
       "      <td>2022-07-11</td>\n",
       "      <td>62.0</td>\n",
       "      <td>Female</td>\n",
       "      <td>White</td>\n",
       "      <td>0</td>\n",
       "      <td>0</td>\n",
       "      <td>0</td>\n",
       "      <td>3.0</td>\n",
       "      <td>...</td>\n",
       "      <td>NaN</td>\n",
       "      <td>NaN</td>\n",
       "      <td>NaN</td>\n",
       "      <td>NaN</td>\n",
       "      <td>NaN</td>\n",
       "      <td>NaN</td>\n",
       "      <td>NaN</td>\n",
       "      <td>NaN</td>\n",
       "      <td>NaN</td>\n",
       "      <td>0</td>\n",
       "    </tr>\n",
       "    <tr>\n",
       "      <th>4</th>\n",
       "      <td>ME2022-06561</td>\n",
       "      <td>2022-07-11T19:50:00.000</td>\n",
       "      <td>2022-07-11</td>\n",
       "      <td>62.0</td>\n",
       "      <td>Male</td>\n",
       "      <td>White</td>\n",
       "      <td>0</td>\n",
       "      <td>0</td>\n",
       "      <td>0</td>\n",
       "      <td>13.0</td>\n",
       "      <td>...</td>\n",
       "      <td>NaN</td>\n",
       "      <td>NaN</td>\n",
       "      <td>NaN</td>\n",
       "      <td>NaN</td>\n",
       "      <td>NaN</td>\n",
       "      <td>NaN</td>\n",
       "      <td>NaN</td>\n",
       "      <td>NaN</td>\n",
       "      <td>NaN</td>\n",
       "      <td>0</td>\n",
       "    </tr>\n",
       "  </tbody>\n",
       "</table>\n",
       "<p>5 rows × 239 columns</p>\n",
       "</div>"
      ],
      "text/plain": [
       "     casenumber            incident_date  death_date   age  gender   race  \\\n",
       "0  ME2022-06565  2022-07-12T02:38:00.000  2022-07-12  74.0    Male  White   \n",
       "1  ME2022-06564  2022-07-11T23:46:00.000  2022-07-12   NaN    Male  Black   \n",
       "2  ME2022-06563  2022-07-02T00:00:00.000  2022-07-11  28.0    Male  Black   \n",
       "3  ME2022-06562  2022-07-11T20:48:00.000  2022-07-11  62.0  Female  White   \n",
       "4  ME2022-06561  2022-07-11T19:50:00.000  2022-07-11  62.0    Male  White   \n",
       "\n",
       "   latino  cold_related  heat_related  commissioner_district  ...  \\\n",
       "0       0             0             0                    4.0  ...   \n",
       "1       0             0             0                    2.0  ...   \n",
       "2       0             0             0                    3.0  ...   \n",
       "3       0             0             0                    3.0  ...   \n",
       "4       0             0             0                   13.0  ...   \n",
       "\n",
       "  toxic_primary toxic_secondary  tramadol_primary  tramadol_secondary  \\\n",
       "0           NaN             NaN               NaN                 NaN   \n",
       "1           NaN             NaN               NaN                 NaN   \n",
       "2           NaN             NaN               NaN                 NaN   \n",
       "3           NaN             NaN               NaN                 NaN   \n",
       "4           NaN             NaN               NaN                 NaN   \n",
       "\n",
       "   u-47700_primary  u-49900_primary  valeryl_primary xylazine_primary  \\\n",
       "0              NaN              NaN              NaN              NaN   \n",
       "1              NaN              NaN              NaN              NaN   \n",
       "2              NaN              NaN              NaN              NaN   \n",
       "3              NaN              NaN              NaN              NaN   \n",
       "4              NaN              NaN              NaN              NaN   \n",
       "\n",
       "  xylazine_secondary  nitazene  \n",
       "0                NaN         0  \n",
       "1                NaN         0  \n",
       "2                NaN         0  \n",
       "3                NaN         0  \n",
       "4                NaN         0  \n",
       "\n",
       "[5 rows x 239 columns]"
      ]
     },
     "execution_count": 3,
     "metadata": {},
     "output_type": "execute_result"
    }
   ],
   "source": [
    "df = pd.read_csv(\"../data/output/analytical.csv\", low_memory=False)\n",
    "df.head()"
   ]
  },
  {
   "cell_type": "code",
   "execution_count": 4,
   "metadata": {},
   "outputs": [
    {
     "name": "stdout",
     "output_type": "stream",
     "text": [
      "284 records removed\n"
     ]
    }
   ],
   "source": [
    "df['death_date'] = pd.to_datetime(df['death_date'])\n",
    "total_records = df.shape[0]\n",
    "df = df[df['death_date'] < pd.to_datetime('07-01-2022')]\n",
    "print(f\"{total_records - df.shape[0]} records removed\")"
   ]
  },
  {
   "cell_type": "code",
   "execution_count": 4,
   "metadata": {},
   "outputs": [],
   "source": [
    "control1 = df[(df['fentanyl_primary'] == 1) | (df['fentanyl_secondary'] == 1)].copy()\n",
    "case = control1[(control1['xylazine_primary'] == 1) | (control1['xylazine_secondary'] == 1)].copy()\n",
    "control2 = df[\n",
    "    ((df['eth_alc_primary'] == 1) | (df['eth_alc_secondary'] == 1))\n",
    "    & ((df['opiate_primary'] != 1) | (df['opiate_secondary'] != 1))\n",
    "].copy()"
   ]
  },
  {
   "cell_type": "code",
   "execution_count": 6,
   "metadata": {},
   "outputs": [],
   "source": [
    "def label(row) -> str:\n",
    "    if row['fentanyl_primary'] == 1 or row['fentanyl_secondary'] == 1:\n",
    "        # fentanyl related\n",
    "        if row['xylazine_primary'] == 1 or row['xylazine_secondary'] == 1:\n",
    "            # xylazine case\n",
    "            return 'xylazine'\n",
    "        else:\n",
    "            # fentanyl control\n",
    "            return 'fentanyl'\n",
    "    elif (row['eth_alc_primary'] == 1 or row['eth_alc_secondary'] == 1) and (row['opiate_primary'] != 1 or row['opiate_secondary'] != 1):\n",
    "        # alcohol control\n",
    "        return 'alcohol'\n",
    "    else:\n",
    "        return 'other'\n"
   ]
  },
  {
   "cell_type": "code",
   "execution_count": 11,
   "metadata": {},
   "outputs": [
    {
     "data": {
      "text/plain": [
       "group\n",
       "alcohol     1693\n",
       "fentanyl    6661\n",
       "xylazine     265\n",
       "dtype: int64"
      ]
     },
     "execution_count": 11,
     "metadata": {},
     "output_type": "execute_result"
    }
   ],
   "source": [
    "df['group'] = df.apply(lambda row:\n",
    "    label(row),\n",
    "    axis=1\n",
    ")\n",
    "no_other = df[df['group'] != 'other'].copy()\n",
    "no_other.groupby('group').size()"
   ]
  },
  {
   "cell_type": "code",
   "execution_count": 12,
   "metadata": {},
   "outputs": [
    {
     "data": {
      "text/plain": [
       "(8619, 240)"
      ]
     },
     "execution_count": 12,
     "metadata": {},
     "output_type": "execute_result"
    }
   ],
   "source": [
    "no_other.shape"
   ]
  },
  {
   "cell_type": "code",
   "execution_count": 13,
   "metadata": {},
   "outputs": [],
   "source": [
    "no_other.to_csv(\"combined.csv\", index=False)"
   ]
  },
  {
   "cell_type": "code",
   "execution_count": null,
   "metadata": {},
   "outputs": [],
   "source": []
  }
 ],
 "metadata": {
  "kernelspec": {
   "display_name": "Python 3.9.13 ('base')",
   "language": "python",
   "name": "python3"
  },
  "language_info": {
   "codemirror_mode": {
    "name": "ipython",
    "version": 3
   },
   "file_extension": ".py",
   "mimetype": "text/x-python",
   "name": "python",
   "nbconvert_exporter": "python",
   "pygments_lexer": "ipython3",
   "version": "3.9.13"
  },
  "orig_nbformat": 4,
  "vscode": {
   "interpreter": {
    "hash": "e7cb1b9ae4d417fedf7f40a8eec98f7cfbd359e096bd857395a915f4609834ce"
   }
  }
 },
 "nbformat": 4,
 "nbformat_minor": 2
}
