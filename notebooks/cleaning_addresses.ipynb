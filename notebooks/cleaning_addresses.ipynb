{
 "cells": [
  {
   "cell_type": "code",
   "execution_count": 3,
   "metadata": {},
   "outputs": [],
   "source": [
    "import pandas as pd\n",
    "import re\n",
    "from typing import Union\n",
    "from rich.progress import track\n",
    "import requests\n",
    "from geopy.geocoders import ArcGIS\n"
   ]
  },
  {
   "cell_type": "code",
   "execution_count": 4,
   "metadata": {},
   "outputs": [
    {
     "name": "stdout",
     "output_type": "stream",
     "text": [
      "(54215, 27)\n"
     ]
    },
    {
     "data": {
      "text/html": [
       "<div>\n",
       "<style scoped>\n",
       "    .dataframe tbody tr th:only-of-type {\n",
       "        vertical-align: middle;\n",
       "    }\n",
       "\n",
       "    .dataframe tbody tr th {\n",
       "        vertical-align: top;\n",
       "    }\n",
       "\n",
       "    .dataframe thead th {\n",
       "        text-align: right;\n",
       "    }\n",
       "</style>\n",
       "<table border=\"1\" class=\"dataframe\">\n",
       "  <thead>\n",
       "    <tr style=\"text-align: right;\">\n",
       "      <th></th>\n",
       "      <th>Case Number</th>\n",
       "      <th>Date of Incident</th>\n",
       "      <th>Date of Death</th>\n",
       "      <th>Age</th>\n",
       "      <th>Gender</th>\n",
       "      <th>Race</th>\n",
       "      <th>Latino</th>\n",
       "      <th>Manner of Death</th>\n",
       "      <th>Primary Cause</th>\n",
       "      <th>Primary Cause Line A</th>\n",
       "      <th>...</th>\n",
       "      <th>Commissioner District</th>\n",
       "      <th>Incident Address</th>\n",
       "      <th>Incident City</th>\n",
       "      <th>Incident Zip Code</th>\n",
       "      <th>longitude</th>\n",
       "      <th>latitude</th>\n",
       "      <th>location</th>\n",
       "      <th>Residence City</th>\n",
       "      <th>Residence_Zip</th>\n",
       "      <th>OBJECTID</th>\n",
       "    </tr>\n",
       "  </thead>\n",
       "  <tbody>\n",
       "    <tr>\n",
       "      <th>47311</th>\n",
       "      <td>ME2020-11845</td>\n",
       "      <td>10/29/2020 06:13:00 PM</td>\n",
       "      <td>10/29/2020 06:41:00 PM</td>\n",
       "      <td>39.0</td>\n",
       "      <td>Male</td>\n",
       "      <td>Black</td>\n",
       "      <td>False</td>\n",
       "      <td>HOMICIDE</td>\n",
       "      <td>MULTIPLE GUNSHOT WOUNDS</td>\n",
       "      <td>NaN</td>\n",
       "      <td>...</td>\n",
       "      <td>1.0</td>\n",
       "      <td>3637 W. GRAND AVENUE</td>\n",
       "      <td>CHICAGO</td>\n",
       "      <td>60651</td>\n",
       "      <td>-87.717719</td>\n",
       "      <td>41.902657</td>\n",
       "      <td>(41.90265655750123, -87.71771879044832)</td>\n",
       "      <td>Chicago</td>\n",
       "      <td>60624</td>\n",
       "      <td>118313</td>\n",
       "    </tr>\n",
       "    <tr>\n",
       "      <th>38435</th>\n",
       "      <td>ME2020-05621</td>\n",
       "      <td>05/02/2020 08:56:00 PM</td>\n",
       "      <td>05/15/2020 04:43:00 AM</td>\n",
       "      <td>62.0</td>\n",
       "      <td>Female</td>\n",
       "      <td>White</td>\n",
       "      <td>False</td>\n",
       "      <td>NATURAL</td>\n",
       "      <td>PNEUMONIA</td>\n",
       "      <td>NOVEL CORONA (COVID-19) VIRAL INFECTION</td>\n",
       "      <td>...</td>\n",
       "      <td>17.0</td>\n",
       "      <td>9300 W. BALLARD RD</td>\n",
       "      <td>DES PLAINES</td>\n",
       "      <td>60016</td>\n",
       "      <td>-87.857217</td>\n",
       "      <td>42.043664</td>\n",
       "      <td>(42.04366441259753, -87.85721683887542)</td>\n",
       "      <td>Des Plaines</td>\n",
       "      <td>60016</td>\n",
       "      <td>112090</td>\n",
       "    </tr>\n",
       "  </tbody>\n",
       "</table>\n",
       "<p>2 rows × 27 columns</p>\n",
       "</div>"
      ],
      "text/plain": [
       "        Case Number        Date of Incident           Date of Death   Age  \\\n",
       "47311  ME2020-11845  10/29/2020 06:13:00 PM  10/29/2020 06:41:00 PM  39.0   \n",
       "38435  ME2020-05621  05/02/2020 08:56:00 PM  05/15/2020 04:43:00 AM  62.0   \n",
       "\n",
       "       Gender   Race  Latino Manner of Death            Primary Cause  \\\n",
       "47311    Male  Black   False        HOMICIDE  MULTIPLE GUNSHOT WOUNDS   \n",
       "38435  Female  White   False         NATURAL                PNEUMONIA   \n",
       "\n",
       "                          Primary Cause Line A  ... Commissioner District  \\\n",
       "47311                                      NaN  ...                   1.0   \n",
       "38435  NOVEL CORONA (COVID-19) VIRAL INFECTION  ...                  17.0   \n",
       "\n",
       "           Incident Address Incident City Incident Zip Code  longitude  \\\n",
       "47311  3637 W. GRAND AVENUE       CHICAGO             60651 -87.717719   \n",
       "38435    9300 W. BALLARD RD   DES PLAINES             60016 -87.857217   \n",
       "\n",
       "        latitude                                 location  Residence City  \\\n",
       "47311  41.902657  (41.90265655750123, -87.71771879044832)         Chicago   \n",
       "38435  42.043664  (42.04366441259753, -87.85721683887542)     Des Plaines   \n",
       "\n",
       "      Residence_Zip OBJECTID  \n",
       "47311         60624   118313  \n",
       "38435         60016   112090  \n",
       "\n",
       "[2 rows x 27 columns]"
      ]
     },
     "execution_count": 4,
     "metadata": {},
     "output_type": "execute_result"
    }
   ],
   "source": [
    "df = pd.read_csv('../data/Medical_Examiner_Case_Archive.csv')\n",
    "print(df.shape)\n",
    "df.sample(2)"
   ]
  },
  {
   "cell_type": "code",
   "execution_count": 5,
   "metadata": {},
   "outputs": [
    {
     "name": "stdout",
     "output_type": "stream",
     "text": [
      "(6747, 27)\n"
     ]
    },
    {
     "data": {
      "text/html": [
       "<div>\n",
       "<style scoped>\n",
       "    .dataframe tbody tr th:only-of-type {\n",
       "        vertical-align: middle;\n",
       "    }\n",
       "\n",
       "    .dataframe tbody tr th {\n",
       "        vertical-align: top;\n",
       "    }\n",
       "\n",
       "    .dataframe thead th {\n",
       "        text-align: right;\n",
       "    }\n",
       "</style>\n",
       "<table border=\"1\" class=\"dataframe\">\n",
       "  <thead>\n",
       "    <tr style=\"text-align: right;\">\n",
       "      <th></th>\n",
       "      <th>Case Number</th>\n",
       "      <th>Date of Incident</th>\n",
       "      <th>Date of Death</th>\n",
       "      <th>Age</th>\n",
       "      <th>Gender</th>\n",
       "      <th>Race</th>\n",
       "      <th>Latino</th>\n",
       "      <th>Manner of Death</th>\n",
       "      <th>Primary Cause</th>\n",
       "      <th>Primary Cause Line A</th>\n",
       "      <th>...</th>\n",
       "      <th>Commissioner District</th>\n",
       "      <th>Incident Address</th>\n",
       "      <th>Incident City</th>\n",
       "      <th>Incident Zip Code</th>\n",
       "      <th>longitude</th>\n",
       "      <th>latitude</th>\n",
       "      <th>location</th>\n",
       "      <th>Residence City</th>\n",
       "      <th>Residence_Zip</th>\n",
       "      <th>OBJECTID</th>\n",
       "    </tr>\n",
       "  </thead>\n",
       "  <tbody>\n",
       "    <tr>\n",
       "      <th>8580</th>\n",
       "      <td>ME2017-04737</td>\n",
       "      <td>10/14/2017 07:57:00 PM</td>\n",
       "      <td>10/17/2017 01:36:00 PM</td>\n",
       "      <td>15.0</td>\n",
       "      <td>Female</td>\n",
       "      <td>White</td>\n",
       "      <td>False</td>\n",
       "      <td>SUICIDE</td>\n",
       "      <td>COMPLICATIONS OF HANGING</td>\n",
       "      <td>NaN</td>\n",
       "      <td>...</td>\n",
       "      <td>NaN</td>\n",
       "      <td>300 NORTH HOWARD</td>\n",
       "      <td>ELMHURST</td>\n",
       "      <td>60126</td>\n",
       "      <td>NaN</td>\n",
       "      <td>NaN</td>\n",
       "      <td>NaN</td>\n",
       "      <td>Elmhurst</td>\n",
       "      <td>60126</td>\n",
       "      <td>52569</td>\n",
       "    </tr>\n",
       "    <tr>\n",
       "      <th>180</th>\n",
       "      <td>ME2015-04229</td>\n",
       "      <td>12/09/2009 09:00:00 AM</td>\n",
       "      <td>10/01/2015 08:35:00 PM</td>\n",
       "      <td>20.0</td>\n",
       "      <td>Male</td>\n",
       "      <td>White</td>\n",
       "      <td>True</td>\n",
       "      <td>HOMICIDE</td>\n",
       "      <td>COMPLICATIONS OF GUNSHOT WOUND OF HEAD</td>\n",
       "      <td>NaN</td>\n",
       "      <td>...</td>\n",
       "      <td>NaN</td>\n",
       "      <td>3400 BLOCK OF ARMITAGE</td>\n",
       "      <td>CHICAGO</td>\n",
       "      <td>60626</td>\n",
       "      <td>NaN</td>\n",
       "      <td>NaN</td>\n",
       "      <td>NaN</td>\n",
       "      <td>Chicago</td>\n",
       "      <td>60626</td>\n",
       "      <td>68953</td>\n",
       "    </tr>\n",
       "  </tbody>\n",
       "</table>\n",
       "<p>2 rows × 27 columns</p>\n",
       "</div>"
      ],
      "text/plain": [
       "       Case Number        Date of Incident           Date of Death   Age  \\\n",
       "8580  ME2017-04737  10/14/2017 07:57:00 PM  10/17/2017 01:36:00 PM  15.0   \n",
       "180   ME2015-04229  12/09/2009 09:00:00 AM  10/01/2015 08:35:00 PM  20.0   \n",
       "\n",
       "      Gender   Race  Latino Manner of Death  \\\n",
       "8580  Female  White   False         SUICIDE   \n",
       "180     Male  White    True        HOMICIDE   \n",
       "\n",
       "                               Primary Cause Primary Cause Line A  ...  \\\n",
       "8580                COMPLICATIONS OF HANGING                  NaN  ...   \n",
       "180   COMPLICATIONS OF GUNSHOT WOUND OF HEAD                  NaN  ...   \n",
       "\n",
       "     Commissioner District        Incident Address Incident City  \\\n",
       "8580                   NaN        300 NORTH HOWARD      ELMHURST   \n",
       "180                    NaN  3400 BLOCK OF ARMITAGE       CHICAGO   \n",
       "\n",
       "     Incident Zip Code longitude  latitude  location  Residence City  \\\n",
       "8580             60126       NaN       NaN       NaN        Elmhurst   \n",
       "180              60626       NaN       NaN       NaN         Chicago   \n",
       "\n",
       "     Residence_Zip OBJECTID  \n",
       "8580         60126    52569  \n",
       "180          60626    68953  \n",
       "\n",
       "[2 rows x 27 columns]"
      ]
     },
     "execution_count": 5,
     "metadata": {},
     "output_type": "execute_result"
    }
   ],
   "source": [
    "df2 = df[df['latitude'].isna()]\n",
    "print(df2.shape)\n",
    "df2.sample(2)"
   ]
  },
  {
   "cell_type": "code",
   "execution_count": 6,
   "metadata": {},
   "outputs": [
    {
     "name": "stdout",
     "output_type": "stream",
     "text": [
      "(6020, 27)\n"
     ]
    },
    {
     "data": {
      "text/plain": [
       "Unknown                            92\n",
       "UNKNOWN                            90\n",
       "UNKNOWN LOCATION                   11\n",
       "10000 W O'Hare Ave                 10\n",
       "unknown                            10\n",
       "                                   ..\n",
       "101 EASTGATE DR                     1\n",
       "Interstate 90 Mile Post 78..25      1\n",
       "1ST & HARRISON AVENUES              1\n",
       "Sunrise NH, 1601 Green Bay Road     1\n",
       "14948 S FRANCISCO                   1\n",
       "Name: Incident Address, Length: 5661, dtype: int64"
      ]
     },
     "execution_count": 6,
     "metadata": {},
     "output_type": "execute_result"
    }
   ],
   "source": [
    "df3 = df2[df2['Incident Address'].notna()]\n",
    "print(df3.shape)\n",
    "df3['Incident Address'].value_counts()"
   ]
  },
  {
   "cell_type": "code",
   "execution_count": 7,
   "metadata": {},
   "outputs": [
    {
     "data": {
      "text/plain": [
       "Index(['Case Number', 'Date of Incident', 'Date of Death', 'Age', 'Gender',\n",
       "       'Race', 'Latino', 'Manner of Death', 'Primary Cause',\n",
       "       'Primary Cause Line A', 'Primary Cause Line B', 'Primary Cause Line C',\n",
       "       'Secondary Cause', 'Gun Related', 'Opioid Related', 'Cold Related',\n",
       "       'Heat Related', 'Commissioner District', 'Incident Address',\n",
       "       'Incident City', 'Incident Zip Code', 'longitude', 'latitude',\n",
       "       'location', 'Residence City', 'Residence_Zip', 'OBJECTID'],\n",
       "      dtype='object')"
      ]
     },
     "execution_count": 7,
     "metadata": {},
     "output_type": "execute_result"
    }
   ],
   "source": [
    "df3.columns"
   ]
  },
  {
   "cell_type": "code",
   "execution_count": 8,
   "metadata": {},
   "outputs": [
    {
     "data": {
      "text/plain": [
       "True"
      ]
     },
     "execution_count": 8,
     "metadata": {},
     "output_type": "execute_result"
    }
   ],
   "source": [
    "'unk' in 'UNKNOWN location'.lower()"
   ]
  },
  {
   "cell_type": "code",
   "execution_count": 9,
   "metadata": {},
   "outputs": [
    {
     "data": {
      "text/plain": [
       "'cool thin'"
      ]
     },
     "execution_count": 9,
     "metadata": {},
     "output_type": "execute_result"
    }
   ],
   "source": [
    "re.sub(r\"apt.*|\\#.*|.*nh,\", \"\", \"wowzer NH, cool thin # 12\".lower()).strip()"
   ]
  },
  {
   "cell_type": "code",
   "execution_count": 10,
   "metadata": {},
   "outputs": [],
   "source": [
    "car_words = ('auto', 'motor')\n",
    "\n",
    "def deal_with_commas(x: str) -> str:\n",
    "    if ',' not in x:\n",
    "        return x.strip().title()\n",
    "    parts = x.split(',')\n",
    "    result = ' '.join([z for z in parts if any(y for y in z if y.isnumeric())])\n",
    "    return result.strip().title()\n",
    "\n",
    "\n",
    "def remove_apartment_info(x: str) -> str:\n",
    "    result = re.sub(r\"apt.*|\\#.*|.*nh,\", \"\", x)\n",
    "    return deal_with_commas(result)\n",
    "\n",
    "\n",
    "def clean_address(row: pd.Series) -> Union[int, str]:\n",
    "    cause = row.get('Primary Cause Line A')\n",
    "    a = row.get('Incident Address')\n",
    "    # removes if motor vehicle cause\n",
    "    if pd.notna(cause):\n",
    "        if any(word in cause.lower() for word in car_words):\n",
    "            return pd.NA\n",
    "    # handles 'unknown' and variations\n",
    "    if pd.isna(a) or 'unk' in a.lower():\n",
    "        return pd.NA\n",
    "    return remove_apartment_info(a.lower())\n"
   ]
  },
  {
   "cell_type": "code",
   "execution_count": 11,
   "metadata": {},
   "outputs": [
    {
     "name": "stdout",
     "output_type": "stream",
     "text": [
      "(4947, 28)\n",
      "<ipython-input-11-099625447124>:1: SettingWithCopyWarning: \n",
      "A value is trying to be set on a copy of a slice from a DataFrame.\n",
      "Try using .loc[row_indexer,col_indexer] = value instead\n",
      "\n",
      "See the caveats in the documentation: https://pandas.pydata.org/pandas-docs/stable/user_guide/indexing.html#returning-a-view-versus-a-copy\n",
      "  df3['cleaned_address'] = df3.apply(lambda row: clean_address(row), axis=1)\n"
     ]
    },
    {
     "data": {
      "text/html": [
       "<div>\n",
       "<style scoped>\n",
       "    .dataframe tbody tr th:only-of-type {\n",
       "        vertical-align: middle;\n",
       "    }\n",
       "\n",
       "    .dataframe tbody tr th {\n",
       "        vertical-align: top;\n",
       "    }\n",
       "\n",
       "    .dataframe thead th {\n",
       "        text-align: right;\n",
       "    }\n",
       "</style>\n",
       "<table border=\"1\" class=\"dataframe\">\n",
       "  <thead>\n",
       "    <tr style=\"text-align: right;\">\n",
       "      <th></th>\n",
       "      <th>Incident Address</th>\n",
       "      <th>cleaned_address</th>\n",
       "    </tr>\n",
       "  </thead>\n",
       "  <tbody>\n",
       "    <tr>\n",
       "      <th>36174</th>\n",
       "      <td>2773 Skokie Valley Rd</td>\n",
       "      <td>2773 Skokie Valley Rd</td>\n",
       "    </tr>\n",
       "    <tr>\n",
       "      <th>2241</th>\n",
       "      <td>Interstate 294 Mile at  Marker 19.75</td>\n",
       "      <td>Interstate 294 Mile At  Marker 19.75</td>\n",
       "    </tr>\n",
       "  </tbody>\n",
       "</table>\n",
       "</div>"
      ],
      "text/plain": [
       "                           Incident Address  \\\n",
       "36174                 2773 Skokie Valley Rd   \n",
       "2241   Interstate 294 Mile at  Marker 19.75   \n",
       "\n",
       "                            cleaned_address  \n",
       "36174                 2773 Skokie Valley Rd  \n",
       "2241   Interstate 294 Mile At  Marker 19.75  "
      ]
     },
     "execution_count": 11,
     "metadata": {},
     "output_type": "execute_result"
    }
   ],
   "source": [
    "df3['cleaned_address'] = df3.apply(lambda row: clean_address(row), axis=1)\n",
    "df4 = df3[df3.cleaned_address.notna()]\n",
    "print(df4.shape)\n",
    "df4[['Incident Address','cleaned_address']].sample(2)"
   ]
  },
  {
   "cell_type": "code",
   "execution_count": 12,
   "metadata": {},
   "outputs": [
    {
     "name": "stdout",
     "output_type": "stream",
     "text": [
      "(54215, 28)\n"
     ]
    },
    {
     "data": {
      "text/html": [
       "<div>\n",
       "<style scoped>\n",
       "    .dataframe tbody tr th:only-of-type {\n",
       "        vertical-align: middle;\n",
       "    }\n",
       "\n",
       "    .dataframe tbody tr th {\n",
       "        vertical-align: top;\n",
       "    }\n",
       "\n",
       "    .dataframe thead th {\n",
       "        text-align: right;\n",
       "    }\n",
       "</style>\n",
       "<table border=\"1\" class=\"dataframe\">\n",
       "  <thead>\n",
       "    <tr style=\"text-align: right;\">\n",
       "      <th></th>\n",
       "      <th>Case Number</th>\n",
       "      <th>Date of Incident</th>\n",
       "      <th>Date of Death</th>\n",
       "      <th>Age</th>\n",
       "      <th>Gender</th>\n",
       "      <th>Race</th>\n",
       "      <th>Latino</th>\n",
       "      <th>Manner of Death</th>\n",
       "      <th>Primary Cause</th>\n",
       "      <th>Primary Cause Line A</th>\n",
       "      <th>...</th>\n",
       "      <th>Incident Address</th>\n",
       "      <th>Incident City</th>\n",
       "      <th>Incident Zip Code</th>\n",
       "      <th>longitude</th>\n",
       "      <th>latitude</th>\n",
       "      <th>location</th>\n",
       "      <th>Residence City</th>\n",
       "      <th>Residence_Zip</th>\n",
       "      <th>OBJECTID</th>\n",
       "      <th>cleaned_address</th>\n",
       "    </tr>\n",
       "  </thead>\n",
       "  <tbody>\n",
       "    <tr>\n",
       "      <th>0</th>\n",
       "      <td>ME2014-01224</td>\n",
       "      <td>10/26/2014 07:36:00 PM</td>\n",
       "      <td>10/26/2014 11:16:00 AM</td>\n",
       "      <td>71.0</td>\n",
       "      <td>Male</td>\n",
       "      <td>Black</td>\n",
       "      <td>False</td>\n",
       "      <td>NATURAL</td>\n",
       "      <td>CORONARY ATHEROSCLEROSIS</td>\n",
       "      <td>NaN</td>\n",
       "      <td>...</td>\n",
       "      <td>UNK</td>\n",
       "      <td>NaN</td>\n",
       "      <td>NaN</td>\n",
       "      <td>NaN</td>\n",
       "      <td>NaN</td>\n",
       "      <td>NaN</td>\n",
       "      <td>NaN</td>\n",
       "      <td>NaN</td>\n",
       "      <td>48793</td>\n",
       "      <td>NaN</td>\n",
       "    </tr>\n",
       "    <tr>\n",
       "      <th>1</th>\n",
       "      <td>ME2015-03052</td>\n",
       "      <td>07/02/2015 12:00:00 PM</td>\n",
       "      <td>07/18/2015 05:15:00 PM</td>\n",
       "      <td>46.0</td>\n",
       "      <td>Male</td>\n",
       "      <td>White</td>\n",
       "      <td>False</td>\n",
       "      <td>NATURAL</td>\n",
       "      <td>COMPLICATIONS OF LIVER CIRRHOSIS</td>\n",
       "      <td>HEPATITIS C INFECTION</td>\n",
       "      <td>...</td>\n",
       "      <td>NaN</td>\n",
       "      <td>NaN</td>\n",
       "      <td>NaN</td>\n",
       "      <td>NaN</td>\n",
       "      <td>NaN</td>\n",
       "      <td>NaN</td>\n",
       "      <td>NaN</td>\n",
       "      <td>NaN</td>\n",
       "      <td>48852</td>\n",
       "      <td>NaN</td>\n",
       "    </tr>\n",
       "    <tr>\n",
       "      <th>2</th>\n",
       "      <td>ME2015-04003</td>\n",
       "      <td>NaN</td>\n",
       "      <td>NaN</td>\n",
       "      <td>NaN</td>\n",
       "      <td>NaN</td>\n",
       "      <td>NaN</td>\n",
       "      <td>False</td>\n",
       "      <td>NaN</td>\n",
       "      <td>NONHUMAN REMAINS</td>\n",
       "      <td>NaN</td>\n",
       "      <td>...</td>\n",
       "      <td>NaN</td>\n",
       "      <td>NaN</td>\n",
       "      <td>NaN</td>\n",
       "      <td>NaN</td>\n",
       "      <td>NaN</td>\n",
       "      <td>NaN</td>\n",
       "      <td>NaN</td>\n",
       "      <td>NaN</td>\n",
       "      <td>48903</td>\n",
       "      <td>NaN</td>\n",
       "    </tr>\n",
       "    <tr>\n",
       "      <th>3</th>\n",
       "      <td>ME2015-03208</td>\n",
       "      <td>NaN</td>\n",
       "      <td>NaN</td>\n",
       "      <td>NaN</td>\n",
       "      <td>NaN</td>\n",
       "      <td>NaN</td>\n",
       "      <td>False</td>\n",
       "      <td>NaN</td>\n",
       "      <td>NON HUMAN REMAINS, NO DEATH CERTIFICATE ISSUED</td>\n",
       "      <td>NaN</td>\n",
       "      <td>...</td>\n",
       "      <td>NaN</td>\n",
       "      <td>NaN</td>\n",
       "      <td>NaN</td>\n",
       "      <td>NaN</td>\n",
       "      <td>NaN</td>\n",
       "      <td>NaN</td>\n",
       "      <td>NaN</td>\n",
       "      <td>NaN</td>\n",
       "      <td>48889</td>\n",
       "      <td>NaN</td>\n",
       "    </tr>\n",
       "    <tr>\n",
       "      <th>4</th>\n",
       "      <td>ME2017-03711</td>\n",
       "      <td>08/10/2017 12:00:00 AM</td>\n",
       "      <td>08/10/2017 12:13:00 PM</td>\n",
       "      <td>71.0</td>\n",
       "      <td>Female</td>\n",
       "      <td>Other</td>\n",
       "      <td>False</td>\n",
       "      <td>NATURAL</td>\n",
       "      <td>ORGANIC CARDIOVASCULAR DISEASE</td>\n",
       "      <td>NaN</td>\n",
       "      <td>...</td>\n",
       "      <td>1049 NAPLETON AVENUE</td>\n",
       "      <td>NaN</td>\n",
       "      <td>NaN</td>\n",
       "      <td>NaN</td>\n",
       "      <td>NaN</td>\n",
       "      <td>NaN</td>\n",
       "      <td>NaN</td>\n",
       "      <td>NaN</td>\n",
       "      <td>48921</td>\n",
       "      <td>1049 Napleton Avenue</td>\n",
       "    </tr>\n",
       "  </tbody>\n",
       "</table>\n",
       "<p>5 rows × 28 columns</p>\n",
       "</div>"
      ],
      "text/plain": [
       "    Case Number        Date of Incident           Date of Death   Age  Gender  \\\n",
       "0  ME2014-01224  10/26/2014 07:36:00 PM  10/26/2014 11:16:00 AM  71.0    Male   \n",
       "1  ME2015-03052  07/02/2015 12:00:00 PM  07/18/2015 05:15:00 PM  46.0    Male   \n",
       "2  ME2015-04003                     NaN                     NaN   NaN     NaN   \n",
       "3  ME2015-03208                     NaN                     NaN   NaN     NaN   \n",
       "4  ME2017-03711  08/10/2017 12:00:00 AM  08/10/2017 12:13:00 PM  71.0  Female   \n",
       "\n",
       "    Race  Latino Manner of Death  \\\n",
       "0  Black   False         NATURAL   \n",
       "1  White   False         NATURAL   \n",
       "2    NaN   False             NaN   \n",
       "3    NaN   False             NaN   \n",
       "4  Other   False         NATURAL   \n",
       "\n",
       "                                    Primary Cause   Primary Cause Line A  ...  \\\n",
       "0                        CORONARY ATHEROSCLEROSIS                    NaN  ...   \n",
       "1                COMPLICATIONS OF LIVER CIRRHOSIS  HEPATITIS C INFECTION  ...   \n",
       "2                                NONHUMAN REMAINS                    NaN  ...   \n",
       "3  NON HUMAN REMAINS, NO DEATH CERTIFICATE ISSUED                    NaN  ...   \n",
       "4                  ORGANIC CARDIOVASCULAR DISEASE                    NaN  ...   \n",
       "\n",
       "       Incident Address Incident City Incident Zip Code longitude latitude  \\\n",
       "0                   UNK           NaN               NaN       NaN      NaN   \n",
       "1                   NaN           NaN               NaN       NaN      NaN   \n",
       "2                   NaN           NaN               NaN       NaN      NaN   \n",
       "3                   NaN           NaN               NaN       NaN      NaN   \n",
       "4  1049 NAPLETON AVENUE           NaN               NaN       NaN      NaN   \n",
       "\n",
       "   location  Residence City  Residence_Zip OBJECTID       cleaned_address  \n",
       "0       NaN             NaN            NaN    48793                   NaN  \n",
       "1       NaN             NaN            NaN    48852                   NaN  \n",
       "2       NaN             NaN            NaN    48903                   NaN  \n",
       "3       NaN             NaN            NaN    48889                   NaN  \n",
       "4       NaN             NaN            NaN    48921  1049 Napleton Avenue  \n",
       "\n",
       "[5 rows x 28 columns]"
      ]
     },
     "execution_count": 12,
     "metadata": {},
     "output_type": "execute_result"
    }
   ],
   "source": [
    "final_df = df.join(df4.cleaned_address)\n",
    "print(final_df.shape)\n",
    "final_df.head()"
   ]
  },
  {
   "cell_type": "code",
   "execution_count": 13,
   "metadata": {},
   "outputs": [
    {
     "data": {
      "text/plain": [
       "(54215, 28)"
      ]
     },
     "execution_count": 13,
     "metadata": {},
     "output_type": "execute_result"
    }
   ],
   "source": [
    "final_df.shape"
   ]
  },
  {
   "cell_type": "code",
   "execution_count": 14,
   "metadata": {},
   "outputs": [
    {
     "data": {
      "text/plain": [
       "53488"
      ]
     },
     "execution_count": 14,
     "metadata": {},
     "output_type": "execute_result"
    }
   ],
   "source": [
    "len([x for x in final_df['Incident Address'] if pd.notna(x)])"
   ]
  },
  {
   "cell_type": "code",
   "execution_count": 15,
   "metadata": {},
   "outputs": [
    {
     "data": {
      "text/plain": [
       "4947"
      ]
     },
     "execution_count": 15,
     "metadata": {},
     "output_type": "execute_result"
    }
   ],
   "source": [
    "len([x for x in final_df['cleaned_address'] if pd.notna(x)])"
   ]
  },
  {
   "cell_type": "code",
   "execution_count": 16,
   "metadata": {},
   "outputs": [
    {
     "data": {
      "text/plain": [
       "727"
      ]
     },
     "execution_count": 16,
     "metadata": {},
     "output_type": "execute_result"
    }
   ],
   "source": [
    "final_df.shape[0] - len([x for x in final_df['Incident Address'] if pd.notna(x)])"
   ]
  },
  {
   "cell_type": "code",
   "execution_count": 17,
   "metadata": {},
   "outputs": [
    {
     "data": {
      "text/plain": [
       "0.9865904270035968"
      ]
     },
     "execution_count": 17,
     "metadata": {},
     "output_type": "execute_result"
    }
   ],
   "source": [
    "len([x for x in final_df['Incident Address'] if pd.notna(x)]) / final_df.shape[0]"
   ]
  },
  {
   "cell_type": "code",
   "execution_count": 20,
   "metadata": {},
   "outputs": [
    {
     "data": {
      "text/plain": [
       "Index(['Case Number', 'Date of Incident', 'Date of Death', 'Age', 'Gender',\n",
       "       'Race', 'Latino', 'Manner of Death', 'Primary Cause',\n",
       "       'Primary Cause Line A', 'Primary Cause Line B', 'Primary Cause Line C',\n",
       "       'Secondary Cause', 'Gun Related', 'Opioid Related', 'Cold Related',\n",
       "       'Heat Related', 'Commissioner District', 'Incident Address',\n",
       "       'Incident City', 'Incident Zip Code', 'longitude', 'latitude',\n",
       "       'location', 'Residence City', 'Residence_Zip', 'OBJECTID',\n",
       "       'cleaned_address'],\n",
       "      dtype='object')"
      ]
     },
     "execution_count": 20,
     "metadata": {},
     "output_type": "execute_result"
    }
   ],
   "source": [
    "final_df.columns"
   ]
  },
  {
   "cell_type": "code",
   "execution_count": 21,
   "metadata": {},
   "outputs": [],
   "source": [
    "final_df.to_csv('../data/cleaned_addresses_full.csv', index=False)"
   ]
  },
  {
   "cell_type": "markdown",
   "metadata": {},
   "source": [
    "Wowzer this is interesting!"
   ]
  },
  {
   "cell_type": "code",
   "execution_count": 22,
   "metadata": {},
   "outputs": [],
   "source": [
    "def make_address(row) -> str:\n",
    "    street = '' if pd.isna(row['cleaned_address']) else row['cleaned_address'].strip()\n",
    "    city = '' if pd.isna(row['Incident City']) else row['Incident City'].title().strip()\n",
    "    zip_code = '' if pd.isna(row['Incident Zip Code']) else row['Incident Zip Code'].strip()\n",
    "    address = f\"{street} {city} {zip_code}\"\n",
    "    return address\n",
    "\n",
    "\n",
    "def geo_query(row):\n",
    "    address = make_address(row)\n",
    "    url = f\"https://my-geocoder.herokuapp.com/geocode?address={requests.utils.quote(address)}\"\n",
    "    response = requests.get(url)\n",
    "    if response.status_code == 200:\n",
    "        return response.json()\n",
    "    else:\n",
    "        raise ValueError(\"Invalid response\")\n",
    "\n",
    "\n",
    "def self_geocode(row) -> tuple[float, float]:\n",
    "    address = make_address(row)\n",
    "    geocoder = ArcGIS()\n",
    "    coded = geocoder.geocode(address)\n",
    "    if coded:\n",
    "        return {\n",
    "            \"latitude\": coded.latitude,\n",
    "            \"longitude\": coded.longitude,\n",
    "            \"score\": coded.raw.get('score')\n",
    "        }\n",
    "    else:\n",
    "        return None\n"
   ]
  },
  {
   "cell_type": "code",
   "execution_count": 25,
   "metadata": {},
   "outputs": [
    {
     "name": "stderr",
     "output_type": "stream",
     "text": [
      "<ipython-input-25-5758ae334f4a>:5: SettingWithCopyWarning: \n",
      "A value is trying to be set on a copy of a slice from a DataFrame.\n",
      "Try using .loc[row_indexer,col_indexer] = value instead\n",
      "\n",
      "See the caveats in the documentation: https://pandas.pydata.org/pandas-docs/stable/user_guide/indexing.html#returning-a-view-versus-a-copy\n",
      "  df4['full_address'] = df4.apply(lambda row: make_address(row), axis=1)\n",
      "100%|██████████| 4947/4947 [58:13<00:00,  1.42it/s]94.84154735347839\n",
      "\n",
      "<ipython-input-25-5758ae334f4a>:10: SettingWithCopyWarning: \n",
      "A value is trying to be set on a copy of a slice from a DataFrame.\n",
      "Try using .loc[row_indexer,col_indexer] = value instead\n",
      "\n",
      "See the caveats in the documentation: https://pandas.pydata.org/pandas-docs/stable/user_guide/indexing.html#returning-a-view-versus-a-copy\n",
      "  df4['geo_location'] = df4['full_address'].progress_apply(geocode)\n",
      "<ipython-input-25-5758ae334f4a>:12: SettingWithCopyWarning: \n",
      "A value is trying to be set on a copy of a slice from a DataFrame.\n",
      "Try using .loc[row_indexer,col_indexer] = value instead\n",
      "\n",
      "See the caveats in the documentation: https://pandas.pydata.org/pandas-docs/stable/user_guide/indexing.html#returning-a-view-versus-a-copy\n",
      "  df4['new_lat'] = df4['geo_location'].apply(lambda x: x.latitude if pd.notna(x) else None)\n",
      "<ipython-input-25-5758ae334f4a>:13: SettingWithCopyWarning: \n",
      "A value is trying to be set on a copy of a slice from a DataFrame.\n",
      "Try using .loc[row_indexer,col_indexer] = value instead\n",
      "\n",
      "See the caveats in the documentation: https://pandas.pydata.org/pandas-docs/stable/user_guide/indexing.html#returning-a-view-versus-a-copy\n",
      "  df4['new_long'] = df4['geo_location'].apply(lambda x: x.longitude if pd.notna(x) else None)\n",
      "<ipython-input-25-5758ae334f4a>:14: SettingWithCopyWarning: \n",
      "A value is trying to be set on a copy of a slice from a DataFrame.\n",
      "Try using .loc[row_indexer,col_indexer] = value instead\n",
      "\n",
      "See the caveats in the documentation: https://pandas.pydata.org/pandas-docs/stable/user_guide/indexing.html#returning-a-view-versus-a-copy\n",
      "  df4['score'] = df4['geo_location'].apply(lambda x: x.raw.get('score') if pd.notna(x) else None)\n"
     ]
    }
   ],
   "source": [
    "from geopy.extra.rate_limiter import RateLimiter\n",
    "from tqdm import tqdm\n",
    "tqdm.pandas()\n",
    "\n",
    "df4['full_address'] = df4.apply(lambda row: make_address(row), axis=1)\n",
    "\n",
    "\n",
    "geolocator = ArcGIS()\n",
    "geocode = RateLimiter(geolocator.geocode, min_delay_seconds=0)\n",
    "df4['geo_location'] = df4['full_address'].progress_apply(geocode)\n",
    "\n",
    "df4['new_lat'] = df4['geo_location'].apply(lambda x: x.latitude if pd.notna(x) else None)\n",
    "df4['new_long'] = df4['geo_location'].apply(lambda x: x.longitude if pd.notna(x) else None)\n",
    "df4['score'] = df4['geo_location'].apply(lambda x: x.raw.get('score') if pd.notna(x) else None)\n",
    "\n",
    "print(df4.score.mean())"
   ]
  },
  {
   "cell_type": "code",
   "execution_count": 26,
   "metadata": {},
   "outputs": [
    {
     "name": "stdout",
     "output_type": "stream",
     "text": [
      "Index(['Case Number', 'Date of Incident', 'Date of Death', 'Age', 'Gender',\n",
      "       'Race', 'Latino', 'Manner of Death', 'Primary Cause',\n",
      "       'Primary Cause Line A', 'Primary Cause Line B', 'Primary Cause Line C',\n",
      "       'Secondary Cause', 'Gun Related', 'Opioid Related', 'Cold Related',\n",
      "       'Heat Related', 'Commissioner District', 'Incident Address',\n",
      "       'Incident City', 'Incident Zip Code', 'longitude', 'latitude',\n",
      "       'location', 'Residence City', 'Residence_Zip', 'OBJECTID',\n",
      "       'cleaned_address', 'full_address', 'geo_location', 'new_lat',\n",
      "       'new_long', 'score'],\n",
      "      dtype='object')\n",
      "(4947, 33)\n"
     ]
    },
    {
     "data": {
      "text/html": [
       "<div>\n",
       "<style scoped>\n",
       "    .dataframe tbody tr th:only-of-type {\n",
       "        vertical-align: middle;\n",
       "    }\n",
       "\n",
       "    .dataframe tbody tr th {\n",
       "        vertical-align: top;\n",
       "    }\n",
       "\n",
       "    .dataframe thead th {\n",
       "        text-align: right;\n",
       "    }\n",
       "</style>\n",
       "<table border=\"1\" class=\"dataframe\">\n",
       "  <thead>\n",
       "    <tr style=\"text-align: right;\">\n",
       "      <th></th>\n",
       "      <th>Case Number</th>\n",
       "      <th>Date of Incident</th>\n",
       "      <th>Date of Death</th>\n",
       "      <th>Age</th>\n",
       "      <th>Gender</th>\n",
       "      <th>Race</th>\n",
       "      <th>Latino</th>\n",
       "      <th>Manner of Death</th>\n",
       "      <th>Primary Cause</th>\n",
       "      <th>Primary Cause Line A</th>\n",
       "      <th>...</th>\n",
       "      <th>location</th>\n",
       "      <th>Residence City</th>\n",
       "      <th>Residence_Zip</th>\n",
       "      <th>OBJECTID</th>\n",
       "      <th>cleaned_address</th>\n",
       "      <th>full_address</th>\n",
       "      <th>geo_location</th>\n",
       "      <th>new_lat</th>\n",
       "      <th>new_long</th>\n",
       "      <th>score</th>\n",
       "    </tr>\n",
       "  </thead>\n",
       "  <tbody>\n",
       "    <tr>\n",
       "      <th>43071</th>\n",
       "      <td>ME2020-05665</td>\n",
       "      <td>05/15/2020 01:05:00 PM</td>\n",
       "      <td>05/15/2020 01:19:00 PM</td>\n",
       "      <td>70.0</td>\n",
       "      <td>Male</td>\n",
       "      <td>Black</td>\n",
       "      <td>False</td>\n",
       "      <td>NATURAL</td>\n",
       "      <td>ORGANIC CARDIOVASCULAR DISEASE</td>\n",
       "      <td>NaN</td>\n",
       "      <td>...</td>\n",
       "      <td>NaN</td>\n",
       "      <td>Chicago</td>\n",
       "      <td>60621</td>\n",
       "      <td>112115</td>\n",
       "      <td>6830 S Carrey</td>\n",
       "      <td>6830 S Carrey Chicago 60636</td>\n",
       "      <td>(60636, Chicago, Illinois, (41.76773000000003,...</td>\n",
       "      <td>41.76773</td>\n",
       "      <td>-87.663870</td>\n",
       "      <td>80.87</td>\n",
       "    </tr>\n",
       "    <tr>\n",
       "      <th>34966</th>\n",
       "      <td>ME2020-05437</td>\n",
       "      <td>05/07/2020 02:48:00 PM</td>\n",
       "      <td>05/08/2020 11:04:00 PM</td>\n",
       "      <td>60.0</td>\n",
       "      <td>Male</td>\n",
       "      <td>White</td>\n",
       "      <td>True</td>\n",
       "      <td>NATURAL</td>\n",
       "      <td>PNEUMONIA</td>\n",
       "      <td>NOVEL CORONA (COVID-19) VIRAL INFECTION</td>\n",
       "      <td>...</td>\n",
       "      <td>NaN</td>\n",
       "      <td>Chicago</td>\n",
       "      <td>60641</td>\n",
       "      <td>111902</td>\n",
       "      <td>4036 West Burley Ave</td>\n",
       "      <td>4036 West Burley Ave Chicago 60641</td>\n",
       "      <td>(60641, Chicago, Illinois, (41.939910000000054...</td>\n",
       "      <td>41.93991</td>\n",
       "      <td>-87.733965</td>\n",
       "      <td>77.00</td>\n",
       "    </tr>\n",
       "  </tbody>\n",
       "</table>\n",
       "<p>2 rows × 33 columns</p>\n",
       "</div>"
      ],
      "text/plain": [
       "        Case Number        Date of Incident           Date of Death   Age  \\\n",
       "43071  ME2020-05665  05/15/2020 01:05:00 PM  05/15/2020 01:19:00 PM  70.0   \n",
       "34966  ME2020-05437  05/07/2020 02:48:00 PM  05/08/2020 11:04:00 PM  60.0   \n",
       "\n",
       "      Gender   Race  Latino Manner of Death                   Primary Cause  \\\n",
       "43071   Male  Black   False         NATURAL  ORGANIC CARDIOVASCULAR DISEASE   \n",
       "34966   Male  White    True         NATURAL                       PNEUMONIA   \n",
       "\n",
       "                          Primary Cause Line A  ... location Residence City  \\\n",
       "43071                                      NaN  ...      NaN        Chicago   \n",
       "34966  NOVEL CORONA (COVID-19) VIRAL INFECTION  ...      NaN        Chicago   \n",
       "\n",
       "      Residence_Zip OBJECTID       cleaned_address  \\\n",
       "43071         60621   112115         6830 S Carrey   \n",
       "34966         60641   111902  4036 West Burley Ave   \n",
       "\n",
       "                             full_address  \\\n",
       "43071         6830 S Carrey Chicago 60636   \n",
       "34966  4036 West Burley Ave Chicago 60641   \n",
       "\n",
       "                                            geo_location   new_lat   new_long  \\\n",
       "43071  (60636, Chicago, Illinois, (41.76773000000003,...  41.76773 -87.663870   \n",
       "34966  (60641, Chicago, Illinois, (41.939910000000054...  41.93991 -87.733965   \n",
       "\n",
       "       score  \n",
       "43071  80.87  \n",
       "34966  77.00  \n",
       "\n",
       "[2 rows x 33 columns]"
      ]
     },
     "execution_count": 26,
     "metadata": {},
     "output_type": "execute_result"
    }
   ],
   "source": [
    "#df4.drop('geo_location', axis=1, inplace=True)\n",
    "print(df4.columns)\n",
    "print(df4.shape)\n",
    "df4.sample(2)"
   ]
  },
  {
   "cell_type": "code",
   "execution_count": 27,
   "metadata": {},
   "outputs": [],
   "source": [
    "df4.to_csv('../data/recovered.csv', index=False)"
   ]
  },
  {
   "cell_type": "code",
   "execution_count": null,
   "metadata": {},
   "outputs": [],
   "source": []
  },
  {
   "cell_type": "code",
   "execution_count": 28,
   "metadata": {},
   "outputs": [
    {
     "name": "stdout",
     "output_type": "stream",
     "text": [
      "(54215, 30)\n"
     ]
    },
    {
     "data": {
      "text/html": [
       "<div>\n",
       "<style scoped>\n",
       "    .dataframe tbody tr th:only-of-type {\n",
       "        vertical-align: middle;\n",
       "    }\n",
       "\n",
       "    .dataframe tbody tr th {\n",
       "        vertical-align: top;\n",
       "    }\n",
       "\n",
       "    .dataframe thead th {\n",
       "        text-align: right;\n",
       "    }\n",
       "</style>\n",
       "<table border=\"1\" class=\"dataframe\">\n",
       "  <thead>\n",
       "    <tr style=\"text-align: right;\">\n",
       "      <th></th>\n",
       "      <th>Case Number</th>\n",
       "      <th>Date of Incident</th>\n",
       "      <th>Date of Death</th>\n",
       "      <th>Age</th>\n",
       "      <th>Gender</th>\n",
       "      <th>Race</th>\n",
       "      <th>Latino</th>\n",
       "      <th>Manner of Death</th>\n",
       "      <th>Primary Cause</th>\n",
       "      <th>Primary Cause Line A</th>\n",
       "      <th>...</th>\n",
       "      <th>Incident Zip Code</th>\n",
       "      <th>longitude</th>\n",
       "      <th>latitude</th>\n",
       "      <th>Residence City</th>\n",
       "      <th>Residence_Zip</th>\n",
       "      <th>OBJECTID</th>\n",
       "      <th>new_lat</th>\n",
       "      <th>new_long</th>\n",
       "      <th>score</th>\n",
       "      <th>cleaned_address</th>\n",
       "    </tr>\n",
       "  </thead>\n",
       "  <tbody>\n",
       "    <tr>\n",
       "      <th>47160</th>\n",
       "      <td>ME2020-15364</td>\n",
       "      <td>11/13/2020 12:00:00 AM</td>\n",
       "      <td>12/22/2020 07:00:00 AM</td>\n",
       "      <td>74.0</td>\n",
       "      <td>Male</td>\n",
       "      <td>Black</td>\n",
       "      <td>False</td>\n",
       "      <td>NATURAL</td>\n",
       "      <td>PNEUMONIA</td>\n",
       "      <td>NOVEL CORONA (COVID-19) VIRAL INFECTION</td>\n",
       "      <td>...</td>\n",
       "      <td>60620</td>\n",
       "      <td>-87.646566</td>\n",
       "      <td>41.742436</td>\n",
       "      <td>Chicago</td>\n",
       "      <td>60620</td>\n",
       "      <td>121821</td>\n",
       "      <td>NaN</td>\n",
       "      <td>NaN</td>\n",
       "      <td>NaN</td>\n",
       "      <td>8328 S. Peoria St.</td>\n",
       "    </tr>\n",
       "    <tr>\n",
       "      <th>6499</th>\n",
       "      <td>ME2019-00484</td>\n",
       "      <td>01/30/2019 10:19:00 AM</td>\n",
       "      <td>01/30/2019 10:39:00 AM</td>\n",
       "      <td>23.0</td>\n",
       "      <td>Female</td>\n",
       "      <td>White</td>\n",
       "      <td>False</td>\n",
       "      <td>SUICIDE</td>\n",
       "      <td>ACETAMINOPHEN, CLONAZEPAM, ALPRAZOLAM, HYDROCO...</td>\n",
       "      <td>NaN</td>\n",
       "      <td>...</td>\n",
       "      <td>60480</td>\n",
       "      <td>-87.859832</td>\n",
       "      <td>41.736874</td>\n",
       "      <td>Willow Springs</td>\n",
       "      <td>60480</td>\n",
       "      <td>60018</td>\n",
       "      <td>NaN</td>\n",
       "      <td>NaN</td>\n",
       "      <td>NaN</td>\n",
       "      <td>320 Forest Avenue</td>\n",
       "    </tr>\n",
       "  </tbody>\n",
       "</table>\n",
       "<p>2 rows × 30 columns</p>\n",
       "</div>"
      ],
      "text/plain": [
       "        Case Number        Date of Incident           Date of Death   Age  \\\n",
       "47160  ME2020-15364  11/13/2020 12:00:00 AM  12/22/2020 07:00:00 AM  74.0   \n",
       "6499   ME2019-00484  01/30/2019 10:19:00 AM  01/30/2019 10:39:00 AM  23.0   \n",
       "\n",
       "       Gender   Race  Latino Manner of Death  \\\n",
       "47160    Male  Black   False         NATURAL   \n",
       "6499   Female  White   False         SUICIDE   \n",
       "\n",
       "                                           Primary Cause  \\\n",
       "47160                                          PNEUMONIA   \n",
       "6499   ACETAMINOPHEN, CLONAZEPAM, ALPRAZOLAM, HYDROCO...   \n",
       "\n",
       "                          Primary Cause Line A  ... Incident Zip Code  \\\n",
       "47160  NOVEL CORONA (COVID-19) VIRAL INFECTION  ...             60620   \n",
       "6499                                       NaN  ...             60480   \n",
       "\n",
       "       longitude   latitude  Residence City Residence_Zip  OBJECTID  new_lat  \\\n",
       "47160 -87.646566  41.742436         Chicago         60620    121821      NaN   \n",
       "6499  -87.859832  41.736874  Willow Springs         60480     60018      NaN   \n",
       "\n",
       "       new_long score     cleaned_address  \n",
       "47160       NaN   NaN  8328 S. Peoria St.  \n",
       "6499        NaN   NaN   320 Forest Avenue  \n",
       "\n",
       "[2 rows x 30 columns]"
      ]
     },
     "execution_count": 28,
     "metadata": {},
     "output_type": "execute_result"
    }
   ],
   "source": [
    "final_df = df.join(df4.new_lat)\n",
    "final_df = final_df.join(df4.new_long)\n",
    "final_df = final_df.join(df4.score)\n",
    "final_df['cleaned_address'] = final_df.apply(lambda row: clean_address(row), axis=1)\n",
    "final_df.drop('location', axis=1, inplace=True)\n",
    "print(final_df.shape)\n",
    "final_df.sample(2)"
   ]
  },
  {
   "cell_type": "code",
   "execution_count": null,
   "metadata": {},
   "outputs": [],
   "source": []
  },
  {
   "cell_type": "code",
   "execution_count": 29,
   "metadata": {},
   "outputs": [
    {
     "data": {
      "text/plain": [
       "(49284, 30)"
      ]
     },
     "execution_count": 29,
     "metadata": {},
     "output_type": "execute_result"
    }
   ],
   "source": [
    "from geopy.extra.rate_limiter import RateLimiter\n",
    "from tqdm import tqdm\n",
    "tqdm.pandas()\n",
    "\n",
    "geolocator = ArcGIS()\n",
    "geocode = RateLimiter(geolocator.geocode, min_delay_seconds=0)\n",
    "larger_df = final_df[pd.isna(final_df.new_lat)]\n",
    "larger_df.shape"
   ]
  },
  {
   "cell_type": "code",
   "execution_count": 30,
   "metadata": {},
   "outputs": [
    {
     "name": "stderr",
     "output_type": "stream",
     "text": [
      "<ipython-input-30-1a5fc16292ff>:1: SettingWithCopyWarning: \n",
      "A value is trying to be set on a copy of a slice from a DataFrame.\n",
      "Try using .loc[row_indexer,col_indexer] = value instead\n",
      "\n",
      "See the caveats in the documentation: https://pandas.pydata.org/pandas-docs/stable/user_guide/indexing.html#returning-a-view-versus-a-copy\n",
      "  larger_df['full_address'] = larger_df.apply(lambda row: make_address(row), axis=1)\n",
      "100%|██████████| 49284/49284 [9:10:00<00:00,  1.49it/s]\n",
      "<ipython-input-30-1a5fc16292ff>:2: SettingWithCopyWarning: \n",
      "A value is trying to be set on a copy of a slice from a DataFrame.\n",
      "Try using .loc[row_indexer,col_indexer] = value instead\n",
      "\n",
      "See the caveats in the documentation: https://pandas.pydata.org/pandas-docs/stable/user_guide/indexing.html#returning-a-view-versus-a-copy\n",
      "  larger_df['geo_location'] = larger_df['full_address'].progress_apply(geocode)\n"
     ]
    }
   ],
   "source": [
    "larger_df['full_address'] = larger_df.apply(lambda row: make_address(row), axis=1)\n",
    "larger_df['geo_location'] = larger_df['full_address'].progress_apply(geocode)"
   ]
  },
  {
   "cell_type": "code",
   "execution_count": 31,
   "metadata": {},
   "outputs": [
    {
     "name": "stderr",
     "output_type": "stream",
     "text": [
      "<ipython-input-31-24e358c15adc>:1: SettingWithCopyWarning: \n",
      "A value is trying to be set on a copy of a slice from a DataFrame.\n",
      "Try using .loc[row_indexer,col_indexer] = value instead\n",
      "\n",
      "See the caveats in the documentation: https://pandas.pydata.org/pandas-docs/stable/user_guide/indexing.html#returning-a-view-versus-a-copy\n",
      "  larger_df['revised_lat'] = larger_df['geo_location'].apply(lambda x: x.latitude if pd.notna(x) else None)\n",
      "<ipython-input-31-24e358c15adc>:2: SettingWithCopyWarning: \n",
      "A value is trying to be set on a copy of a slice from a DataFrame.\n",
      "Try using .loc[row_indexer,col_indexer] = value instead\n",
      "\n",
      "See the caveats in the documentation: https://pandas.pydata.org/pandas-docs/stable/user_guide/indexing.html#returning-a-view-versus-a-copy\n",
      "  larger_df['revised_long'] = larger_df['geo_location'].apply(lambda x: x.longitude if pd.notna(x) else None)\n",
      "98.57303776411841\n",
      "<ipython-input-31-24e358c15adc>:3: SettingWithCopyWarning: \n",
      "A value is trying to be set on a copy of a slice from a DataFrame.\n",
      "Try using .loc[row_indexer,col_indexer] = value instead\n",
      "\n",
      "See the caveats in the documentation: https://pandas.pydata.org/pandas-docs/stable/user_guide/indexing.html#returning-a-view-versus-a-copy\n",
      "  larger_df['revised_score'] = larger_df['geo_location'].apply(lambda x: x.raw.get('score') if pd.notna(x) else None)\n"
     ]
    }
   ],
   "source": [
    "larger_df['revised_lat'] = larger_df['geo_location'].apply(lambda x: x.latitude if pd.notna(x) else None)\n",
    "larger_df['revised_long'] = larger_df['geo_location'].apply(lambda x: x.longitude if pd.notna(x) else None)\n",
    "larger_df['revised_score'] = larger_df['geo_location'].apply(lambda x: x.raw.get('score') if pd.notna(x) else None)\n",
    "\n",
    "print(larger_df.revised_score.mean())"
   ]
  },
  {
   "cell_type": "code",
   "execution_count": 32,
   "metadata": {},
   "outputs": [
    {
     "name": "stdout",
     "output_type": "stream",
     "text": [
      "Index(['Case Number', 'Date of Incident', 'Date of Death', 'Age', 'Gender',\n",
      "       'Race', 'Latino', 'Manner of Death', 'Primary Cause',\n",
      "       'Primary Cause Line A', 'Primary Cause Line B', 'Primary Cause Line C',\n",
      "       'Secondary Cause', 'Gun Related', 'Opioid Related', 'Cold Related',\n",
      "       'Heat Related', 'Commissioner District', 'Incident Address',\n",
      "       'Incident City', 'Incident Zip Code', 'longitude', 'latitude',\n",
      "       'Residence City', 'Residence_Zip', 'OBJECTID', 'new_lat', 'new_long',\n",
      "       'score', 'cleaned_address', 'full_address', 'revised_lat',\n",
      "       'revised_long', 'revised_score'],\n",
      "      dtype='object')\n",
      "(49284, 34)\n",
      "/opt/homebrew/Caskroom/miniforge/base/lib/python3.9/site-packages/pandas/core/frame.py:4308: SettingWithCopyWarning: \n",
      "A value is trying to be set on a copy of a slice from a DataFrame\n",
      "\n",
      "See the caveats in the documentation: https://pandas.pydata.org/pandas-docs/stable/user_guide/indexing.html#returning-a-view-versus-a-copy\n",
      "  return super().drop(\n"
     ]
    },
    {
     "data": {
      "text/html": [
       "<div>\n",
       "<style scoped>\n",
       "    .dataframe tbody tr th:only-of-type {\n",
       "        vertical-align: middle;\n",
       "    }\n",
       "\n",
       "    .dataframe tbody tr th {\n",
       "        vertical-align: top;\n",
       "    }\n",
       "\n",
       "    .dataframe thead th {\n",
       "        text-align: right;\n",
       "    }\n",
       "</style>\n",
       "<table border=\"1\" class=\"dataframe\">\n",
       "  <thead>\n",
       "    <tr style=\"text-align: right;\">\n",
       "      <th></th>\n",
       "      <th>Case Number</th>\n",
       "      <th>Date of Incident</th>\n",
       "      <th>Date of Death</th>\n",
       "      <th>Age</th>\n",
       "      <th>Gender</th>\n",
       "      <th>Race</th>\n",
       "      <th>Latino</th>\n",
       "      <th>Manner of Death</th>\n",
       "      <th>Primary Cause</th>\n",
       "      <th>Primary Cause Line A</th>\n",
       "      <th>...</th>\n",
       "      <th>Residence_Zip</th>\n",
       "      <th>OBJECTID</th>\n",
       "      <th>new_lat</th>\n",
       "      <th>new_long</th>\n",
       "      <th>score</th>\n",
       "      <th>cleaned_address</th>\n",
       "      <th>full_address</th>\n",
       "      <th>revised_lat</th>\n",
       "      <th>revised_long</th>\n",
       "      <th>revised_score</th>\n",
       "    </tr>\n",
       "  </thead>\n",
       "  <tbody>\n",
       "    <tr>\n",
       "      <th>46772</th>\n",
       "      <td>ME2021-03967</td>\n",
       "      <td>04/03/2021 03:00:00 PM</td>\n",
       "      <td>04/14/2021 09:01:00 PM</td>\n",
       "      <td>71.0</td>\n",
       "      <td>Male</td>\n",
       "      <td>White</td>\n",
       "      <td>False</td>\n",
       "      <td>NATURAL</td>\n",
       "      <td>PNEUMONIA</td>\n",
       "      <td>NOVEL CORONA (COVID-19) VIRAL INFECTION</td>\n",
       "      <td>...</td>\n",
       "      <td>60631</td>\n",
       "      <td>126477</td>\n",
       "      <td>NaN</td>\n",
       "      <td>NaN</td>\n",
       "      <td>NaN</td>\n",
       "      <td>6811 W Raven St.  Unit 1S</td>\n",
       "      <td>6811 W Raven St.  Unit 1S Chicago 60631</td>\n",
       "      <td>41.992660</td>\n",
       "      <td>-87.797978</td>\n",
       "      <td>100.00</td>\n",
       "    </tr>\n",
       "    <tr>\n",
       "      <th>7430</th>\n",
       "      <td>ME2014-01981</td>\n",
       "      <td>12/19/2014 05:20:00 PM</td>\n",
       "      <td>12/19/2014 05:51:00 PM</td>\n",
       "      <td>30.0</td>\n",
       "      <td>Male</td>\n",
       "      <td>White</td>\n",
       "      <td>False</td>\n",
       "      <td>ACCIDENT</td>\n",
       "      <td>ACUTE HEROIN TOXICITY</td>\n",
       "      <td>NaN</td>\n",
       "      <td>...</td>\n",
       "      <td>60927</td>\n",
       "      <td>60578</td>\n",
       "      <td>NaN</td>\n",
       "      <td>NaN</td>\n",
       "      <td>NaN</td>\n",
       "      <td>24 East Roosevelt</td>\n",
       "      <td>24 East Roosevelt Chicago 60605</td>\n",
       "      <td>41.867546</td>\n",
       "      <td>-87.626738</td>\n",
       "      <td>98.53</td>\n",
       "    </tr>\n",
       "  </tbody>\n",
       "</table>\n",
       "<p>2 rows × 34 columns</p>\n",
       "</div>"
      ],
      "text/plain": [
       "        Case Number        Date of Incident           Date of Death   Age  \\\n",
       "46772  ME2021-03967  04/03/2021 03:00:00 PM  04/14/2021 09:01:00 PM  71.0   \n",
       "7430   ME2014-01981  12/19/2014 05:20:00 PM  12/19/2014 05:51:00 PM  30.0   \n",
       "\n",
       "      Gender   Race  Latino Manner of Death          Primary Cause  \\\n",
       "46772   Male  White   False         NATURAL              PNEUMONIA   \n",
       "7430    Male  White   False        ACCIDENT  ACUTE HEROIN TOXICITY   \n",
       "\n",
       "                          Primary Cause Line A  ... Residence_Zip OBJECTID  \\\n",
       "46772  NOVEL CORONA (COVID-19) VIRAL INFECTION  ...         60631   126477   \n",
       "7430                                       NaN  ...         60927    60578   \n",
       "\n",
       "      new_lat new_long score            cleaned_address  \\\n",
       "46772     NaN      NaN   NaN  6811 W Raven St.  Unit 1S   \n",
       "7430      NaN      NaN   NaN          24 East Roosevelt   \n",
       "\n",
       "                                  full_address  revised_lat revised_long  \\\n",
       "46772  6811 W Raven St.  Unit 1S Chicago 60631    41.992660   -87.797978   \n",
       "7430           24 East Roosevelt Chicago 60605    41.867546   -87.626738   \n",
       "\n",
       "      revised_score  \n",
       "46772        100.00  \n",
       "7430          98.53  \n",
       "\n",
       "[2 rows x 34 columns]"
      ]
     },
     "execution_count": 32,
     "metadata": {},
     "output_type": "execute_result"
    }
   ],
   "source": [
    "larger_df.drop('geo_location', axis=1, inplace=True)\n",
    "print(larger_df.columns)\n",
    "print(larger_df.shape)\n",
    "larger_df.sample(2)"
   ]
  },
  {
   "cell_type": "code",
   "execution_count": 33,
   "metadata": {},
   "outputs": [
    {
     "name": "stdout",
     "output_type": "stream",
     "text": [
      "(54215, 32)\n"
     ]
    },
    {
     "data": {
      "text/html": [
       "<div>\n",
       "<style scoped>\n",
       "    .dataframe tbody tr th:only-of-type {\n",
       "        vertical-align: middle;\n",
       "    }\n",
       "\n",
       "    .dataframe tbody tr th {\n",
       "        vertical-align: top;\n",
       "    }\n",
       "\n",
       "    .dataframe thead th {\n",
       "        text-align: right;\n",
       "    }\n",
       "</style>\n",
       "<table border=\"1\" class=\"dataframe\">\n",
       "  <thead>\n",
       "    <tr style=\"text-align: right;\">\n",
       "      <th></th>\n",
       "      <th>Case Number</th>\n",
       "      <th>Date of Incident</th>\n",
       "      <th>Date of Death</th>\n",
       "      <th>Age</th>\n",
       "      <th>Gender</th>\n",
       "      <th>Race</th>\n",
       "      <th>Latino</th>\n",
       "      <th>Manner of Death</th>\n",
       "      <th>Primary Cause</th>\n",
       "      <th>Primary Cause Line A</th>\n",
       "      <th>...</th>\n",
       "      <th>latitude</th>\n",
       "      <th>Residence City</th>\n",
       "      <th>Residence_Zip</th>\n",
       "      <th>OBJECTID</th>\n",
       "      <th>new_lat</th>\n",
       "      <th>new_long</th>\n",
       "      <th>score</th>\n",
       "      <th>revised_lat</th>\n",
       "      <th>revised_long</th>\n",
       "      <th>revised_score</th>\n",
       "    </tr>\n",
       "  </thead>\n",
       "  <tbody>\n",
       "    <tr>\n",
       "      <th>52706</th>\n",
       "      <td>ME2020-12280</td>\n",
       "      <td>10/31/2020 12:00:00 PM</td>\n",
       "      <td>11/08/2020 11:55:00 AM</td>\n",
       "      <td>80.0</td>\n",
       "      <td>Male</td>\n",
       "      <td>White</td>\n",
       "      <td>True</td>\n",
       "      <td>NATURAL</td>\n",
       "      <td>PNEUMONIA</td>\n",
       "      <td>NOVEL CORONA (COVID-19) VIRAL INFECTION</td>\n",
       "      <td>...</td>\n",
       "      <td>41.762533</td>\n",
       "      <td>Chicago</td>\n",
       "      <td>60629</td>\n",
       "      <td>118743</td>\n",
       "      <td>NaN</td>\n",
       "      <td>NaN</td>\n",
       "      <td>NaN</td>\n",
       "      <td>41.762533</td>\n",
       "      <td>-87.718957</td>\n",
       "      <td>98.53</td>\n",
       "    </tr>\n",
       "    <tr>\n",
       "      <th>17429</th>\n",
       "      <td>ME2018-02175</td>\n",
       "      <td>05/06/2018 10:39:00 PM</td>\n",
       "      <td>05/06/2018 11:03:00 PM</td>\n",
       "      <td>31.0</td>\n",
       "      <td>Male</td>\n",
       "      <td>Black</td>\n",
       "      <td>False</td>\n",
       "      <td>ACCIDENT</td>\n",
       "      <td>COMBINED DRUG TOXICITY (FENTANYL AND PHENCYCLI...</td>\n",
       "      <td>NaN</td>\n",
       "      <td>...</td>\n",
       "      <td>41.871679</td>\n",
       "      <td>Chicago</td>\n",
       "      <td>60623</td>\n",
       "      <td>68267</td>\n",
       "      <td>NaN</td>\n",
       "      <td>NaN</td>\n",
       "      <td>NaN</td>\n",
       "      <td>41.871507</td>\n",
       "      <td>-87.718379</td>\n",
       "      <td>98.53</td>\n",
       "    </tr>\n",
       "  </tbody>\n",
       "</table>\n",
       "<p>2 rows × 32 columns</p>\n",
       "</div>"
      ],
      "text/plain": [
       "        Case Number        Date of Incident           Date of Death   Age  \\\n",
       "52706  ME2020-12280  10/31/2020 12:00:00 PM  11/08/2020 11:55:00 AM  80.0   \n",
       "17429  ME2018-02175  05/06/2018 10:39:00 PM  05/06/2018 11:03:00 PM  31.0   \n",
       "\n",
       "      Gender   Race  Latino Manner of Death  \\\n",
       "52706   Male  White    True         NATURAL   \n",
       "17429   Male  Black   False        ACCIDENT   \n",
       "\n",
       "                                           Primary Cause  \\\n",
       "52706                                          PNEUMONIA   \n",
       "17429  COMBINED DRUG TOXICITY (FENTANYL AND PHENCYCLI...   \n",
       "\n",
       "                          Primary Cause Line A  ...   latitude Residence City  \\\n",
       "52706  NOVEL CORONA (COVID-19) VIRAL INFECTION  ...  41.762533        Chicago   \n",
       "17429                                      NaN  ...  41.871679        Chicago   \n",
       "\n",
       "      Residence_Zip OBJECTID new_lat  new_long  score  revised_lat  \\\n",
       "52706         60629   118743     NaN       NaN    NaN    41.762533   \n",
       "17429         60623    68267     NaN       NaN    NaN    41.871507   \n",
       "\n",
       "      revised_long revised_score  \n",
       "52706   -87.718957         98.53  \n",
       "17429   -87.718379         98.53  \n",
       "\n",
       "[2 rows x 32 columns]"
      ]
     },
     "execution_count": 33,
     "metadata": {},
     "output_type": "execute_result"
    }
   ],
   "source": [
    "last_df = df.join(df4.new_lat)\n",
    "last_df = last_df.join(df4.new_long)\n",
    "last_df = last_df.join(df4.score)\n",
    "last_df = last_df.join(larger_df.revised_lat)\n",
    "last_df = last_df.join(larger_df.revised_long)\n",
    "last_df = last_df.join(larger_df.revised_score)\n",
    "last_df.drop('location', axis=1, inplace=True)\n",
    "print(last_df.shape)\n",
    "last_df.sample(2)"
   ]
  },
  {
   "cell_type": "code",
   "execution_count": null,
   "metadata": {},
   "outputs": [],
   "source": []
  },
  {
   "cell_type": "code",
   "execution_count": 34,
   "metadata": {},
   "outputs": [],
   "source": [
    "last_df.to_csv('../data/final.csv', index=False)"
   ]
  },
  {
   "cell_type": "code",
   "execution_count": null,
   "metadata": {},
   "outputs": [],
   "source": []
  },
  {
   "cell_type": "markdown",
   "metadata": {},
   "source": [
    "## Create comp_lat/long columns"
   ]
  },
  {
   "cell_type": "code",
   "execution_count": 41,
   "metadata": {},
   "outputs": [],
   "source": [
    "last_df['comp_lat'] = last_df.apply(lambda row: row.new_lat if pd.notna(row.new_lat) else row.revised_lat, axis=1)\n",
    "last_df['comp_long'] = last_df.apply(lambda row: row.new_long if pd.notna(row.new_long) else row.revised_long, axis=1)\n"
   ]
  },
  {
   "cell_type": "code",
   "execution_count": 42,
   "metadata": {},
   "outputs": [
    {
     "data": {
      "text/html": [
       "<div>\n",
       "<style scoped>\n",
       "    .dataframe tbody tr th:only-of-type {\n",
       "        vertical-align: middle;\n",
       "    }\n",
       "\n",
       "    .dataframe tbody tr th {\n",
       "        vertical-align: top;\n",
       "    }\n",
       "\n",
       "    .dataframe thead th {\n",
       "        text-align: right;\n",
       "    }\n",
       "</style>\n",
       "<table border=\"1\" class=\"dataframe\">\n",
       "  <thead>\n",
       "    <tr style=\"text-align: right;\">\n",
       "      <th></th>\n",
       "      <th>Case Number</th>\n",
       "      <th>Date of Incident</th>\n",
       "      <th>Date of Death</th>\n",
       "      <th>Age</th>\n",
       "      <th>Gender</th>\n",
       "      <th>Race</th>\n",
       "      <th>Latino</th>\n",
       "      <th>Manner of Death</th>\n",
       "      <th>Primary Cause</th>\n",
       "      <th>Primary Cause Line A</th>\n",
       "      <th>...</th>\n",
       "      <th>OBJECTID</th>\n",
       "      <th>new_lat</th>\n",
       "      <th>new_long</th>\n",
       "      <th>score</th>\n",
       "      <th>revised_lat</th>\n",
       "      <th>revised_long</th>\n",
       "      <th>revised_score</th>\n",
       "      <th>comp_lat</th>\n",
       "      <th>comp_long</th>\n",
       "      <th>distance</th>\n",
       "    </tr>\n",
       "  </thead>\n",
       "  <tbody>\n",
       "    <tr>\n",
       "      <th>38094</th>\n",
       "      <td>ME2019-05948</td>\n",
       "      <td>12/14/2019 07:00:00 PM</td>\n",
       "      <td>12/14/2019 07:17:00 PM</td>\n",
       "      <td>98.0</td>\n",
       "      <td>Female</td>\n",
       "      <td>Black</td>\n",
       "      <td>False</td>\n",
       "      <td>NATURAL</td>\n",
       "      <td>ORGANIC  CARDIOVASCULAR DISEASE</td>\n",
       "      <td>NaN</td>\n",
       "      <td>...</td>\n",
       "      <td>106121</td>\n",
       "      <td>NaN</td>\n",
       "      <td>NaN</td>\n",
       "      <td>NaN</td>\n",
       "      <td>41.740723</td>\n",
       "      <td>-87.613325</td>\n",
       "      <td>98.53</td>\n",
       "      <td>41.740723</td>\n",
       "      <td>-87.613325</td>\n",
       "      <td>None</td>\n",
       "    </tr>\n",
       "    <tr>\n",
       "      <th>5500</th>\n",
       "      <td>ME2017-03992</td>\n",
       "      <td>08/22/2017 12:33:00 AM</td>\n",
       "      <td>08/26/2017 03:02:00 PM</td>\n",
       "      <td>17.0</td>\n",
       "      <td>Male</td>\n",
       "      <td>White</td>\n",
       "      <td>False</td>\n",
       "      <td>HOMICIDE</td>\n",
       "      <td>COMPLICATIONS OF GUNSHOT WOUND OF HEAD</td>\n",
       "      <td>NaN</td>\n",
       "      <td>...</td>\n",
       "      <td>57144</td>\n",
       "      <td>42.353584</td>\n",
       "      <td>-88.035459</td>\n",
       "      <td>98.51</td>\n",
       "      <td>NaN</td>\n",
       "      <td>NaN</td>\n",
       "      <td>NaN</td>\n",
       "      <td>42.353584</td>\n",
       "      <td>-88.035459</td>\n",
       "      <td>None</td>\n",
       "    </tr>\n",
       "  </tbody>\n",
       "</table>\n",
       "<p>2 rows × 35 columns</p>\n",
       "</div>"
      ],
      "text/plain": [
       "        Case Number        Date of Incident           Date of Death   Age  \\\n",
       "38094  ME2019-05948  12/14/2019 07:00:00 PM  12/14/2019 07:17:00 PM  98.0   \n",
       "5500   ME2017-03992  08/22/2017 12:33:00 AM  08/26/2017 03:02:00 PM  17.0   \n",
       "\n",
       "       Gender   Race  Latino Manner of Death  \\\n",
       "38094  Female  Black   False         NATURAL   \n",
       "5500     Male  White   False        HOMICIDE   \n",
       "\n",
       "                                Primary Cause Primary Cause Line A  ...  \\\n",
       "38094         ORGANIC  CARDIOVASCULAR DISEASE                  NaN  ...   \n",
       "5500   COMPLICATIONS OF GUNSHOT WOUND OF HEAD                  NaN  ...   \n",
       "\n",
       "      OBJECTID    new_lat   new_long  score revised_lat  revised_long  \\\n",
       "38094   106121        NaN        NaN    NaN   41.740723    -87.613325   \n",
       "5500     57144  42.353584 -88.035459  98.51         NaN           NaN   \n",
       "\n",
       "       revised_score   comp_lat  comp_long distance  \n",
       "38094          98.53  41.740723 -87.613325     None  \n",
       "5500             NaN  42.353584 -88.035459     None  \n",
       "\n",
       "[2 rows x 35 columns]"
      ]
     },
     "execution_count": 42,
     "metadata": {},
     "output_type": "execute_result"
    }
   ],
   "source": [
    "last_df.sample(2)"
   ]
  },
  {
   "cell_type": "markdown",
   "metadata": {},
   "source": [
    "## Calculate geopy distance from original lat/long"
   ]
  },
  {
   "cell_type": "code",
   "execution_count": 43,
   "metadata": {},
   "outputs": [],
   "source": [
    "from geopy import distance\n",
    "\n",
    "def calc_distance(row):\n",
    "    if pd.isna(row.latitude) or pd.isna(row.longitude) or pd.isna(row.comp_lat) or pd.isna(row.comp_long):\n",
    "        return None\n",
    "    d = distance.distance(\n",
    "        (row.latitude, row.longitude),\n",
    "        (row.comp_lat, row.comp_long)\n",
    "    ).km\n",
    "    return d\n",
    "    "
   ]
  },
  {
   "cell_type": "code",
   "execution_count": 44,
   "metadata": {},
   "outputs": [],
   "source": [
    "last_df['distance'] = last_df.apply(lambda row: calc_distance(row), axis=1)"
   ]
  },
  {
   "cell_type": "code",
   "execution_count": 47,
   "metadata": {},
   "outputs": [
    {
     "data": {
      "text/plain": [
       "count    47428.00\n",
       "mean        22.73\n",
       "std        416.62\n",
       "min          0.00\n",
       "25%          0.00\n",
       "50%          0.00\n",
       "75%          0.03\n",
       "max      17473.05\n",
       "Name: distance, dtype: float64"
      ]
     },
     "execution_count": 47,
     "metadata": {},
     "output_type": "execute_result"
    }
   ],
   "source": [
    "last_df.distance.describe().round(2)"
   ]
  },
  {
   "cell_type": "code",
   "execution_count": 49,
   "metadata": {},
   "outputs": [
    {
     "data": {
      "text/plain": [
       "94.84154735347839"
      ]
     },
     "execution_count": 49,
     "metadata": {},
     "output_type": "execute_result"
    }
   ],
   "source": [
    "last_df.score.mean()"
   ]
  },
  {
   "cell_type": "code",
   "execution_count": 48,
   "metadata": {},
   "outputs": [],
   "source": [
    "last_df.to_csv('../data/last.csv', index=False)"
   ]
  },
  {
   "cell_type": "code",
   "execution_count": null,
   "metadata": {},
   "outputs": [],
   "source": []
  },
  {
   "cell_type": "code",
   "execution_count": 54,
   "metadata": {},
   "outputs": [
    {
     "data": {
      "text/plain": [
       "1461"
      ]
     },
     "execution_count": 54,
     "metadata": {},
     "output_type": "execute_result"
    }
   ],
   "source": [
    "df.shape[0] - df[(pd.notna(df['Incident City'])) & (pd.notna(df['Incident Zip Code']))].shape[0]"
   ]
  },
  {
   "cell_type": "code",
   "execution_count": 56,
   "metadata": {},
   "outputs": [
    {
     "data": {
      "text/plain": [
       "727"
      ]
     },
     "execution_count": 56,
     "metadata": {},
     "output_type": "execute_result"
    }
   ],
   "source": [
    "df.shape[0] - df[pd.notna(df['Incident Address'])].shape[0]"
   ]
  },
  {
   "cell_type": "code",
   "execution_count": 75,
   "metadata": {
    "tags": []
   },
   "outputs": [],
   "source": [
    "city_match = 0\n",
    "zip_match = 0\n",
    "for i, row in df.iterrows():\n",
    "    if pd.isna(row['Incident City']) or pd.isna(row['Residence City']):\n",
    "        continue\n",
    "    if pd.isna(row['Incident Zip Code']) or pd.isna(row['Residence_Zip']):\n",
    "        continue\n",
    "    if row['Incident City'].lower() == row['Residence City'].lower():\n",
    "        city_match += 1\n",
    "    if row['Incident Zip Code'] == row['Residence_Zip']:\n",
    "        zip_match += 1"
   ]
  },
  {
   "cell_type": "code",
   "execution_count": 76,
   "metadata": {},
   "outputs": [
    {
     "data": {
      "text/plain": [
       "44005"
      ]
     },
     "execution_count": 76,
     "metadata": {},
     "output_type": "execute_result"
    }
   ],
   "source": [
    "city_match"
   ]
  },
  {
   "cell_type": "code",
   "execution_count": 77,
   "metadata": {},
   "outputs": [
    {
     "data": {
      "text/plain": [
       "37807"
      ]
     },
     "execution_count": 77,
     "metadata": {},
     "output_type": "execute_result"
    }
   ],
   "source": [
    "zip_match"
   ]
  },
  {
   "cell_type": "code",
   "execution_count": 79,
   "metadata": {},
   "outputs": [
    {
     "data": {
      "text/plain": [
       "0.811675735497556"
      ]
     },
     "execution_count": 79,
     "metadata": {},
     "output_type": "execute_result"
    }
   ],
   "source": [
    "44005 / df.shape[0]"
   ]
  },
  {
   "cell_type": "code",
   "execution_count": null,
   "metadata": {},
   "outputs": [],
   "source": []
  }
 ],
 "metadata": {
  "kernelspec": {
   "display_name": "Python 3.9.2 64-bit ('base': conda)",
   "language": "python",
   "name": "python392jvsc74a57bd095ec9ec1504d83f612128e0fb229072f90bbb4cb09d9d5d93b5dd26e0ca2cfd1"
  },
  "language_info": {
   "codemirror_mode": {
    "name": "ipython",
    "version": 3
   },
   "file_extension": ".py",
   "mimetype": "text/x-python",
   "name": "python",
   "nbconvert_exporter": "python",
   "pygments_lexer": "ipython3",
   "version": "3.9.2"
  },
  "metadata": {
   "interpreter": {
    "hash": "95ec9ec1504d83f612128e0fb229072f90bbb4cb09d9d5d93b5dd26e0ca2cfd1"
   }
  }
 },
 "nbformat": 4,
 "nbformat_minor": 4
}
