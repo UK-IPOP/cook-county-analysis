{
 "cells": [
  {
   "cell_type": "code",
   "execution_count": 1,
   "metadata": {},
   "outputs": [],
   "source": [
    "import pandas as pd"
   ]
  },
  {
   "cell_type": "code",
   "execution_count": 3,
   "metadata": {},
   "outputs": [
    {
     "name": "stdout",
     "output_type": "stream",
     "text": [
      "(63, 5)\n"
     ]
    },
    {
     "data": {
      "text/html": [
       "<div>\n",
       "<style scoped>\n",
       "    .dataframe tbody tr th:only-of-type {\n",
       "        vertical-align: middle;\n",
       "    }\n",
       "\n",
       "    .dataframe tbody tr th {\n",
       "        vertical-align: top;\n",
       "    }\n",
       "\n",
       "    .dataframe thead th {\n",
       "        text-align: right;\n",
       "    }\n",
       "</style>\n",
       "<table border=\"1\" class=\"dataframe\">\n",
       "  <thead>\n",
       "    <tr style=\"text-align: right;\">\n",
       "      <th></th>\n",
       "      <th>name</th>\n",
       "      <th>address</th>\n",
       "      <th>geocoded_latitude</th>\n",
       "      <th>geocoded_longitude</th>\n",
       "      <th>geocoded_score</th>\n",
       "    </tr>\n",
       "  </thead>\n",
       "  <tbody>\n",
       "    <tr>\n",
       "      <th>0</th>\n",
       "      <td>Center for Care and Discovery (CCD) - Hyde Park</td>\n",
       "      <td>5700 S Maryland Ave, Chicago, Illinois, 60637</td>\n",
       "      <td>41.791224</td>\n",
       "      <td>-87.604609</td>\n",
       "      <td>NaN</td>\n",
       "    </tr>\n",
       "    <tr>\n",
       "      <th>1</th>\n",
       "      <td>Mitchell Hospital - Hyde Park</td>\n",
       "      <td>5815 S Maryland Ave, Chicago, Illinois, 60637</td>\n",
       "      <td>41.789027</td>\n",
       "      <td>-87.604573</td>\n",
       "      <td>NaN</td>\n",
       "    </tr>\n",
       "    <tr>\n",
       "      <th>2</th>\n",
       "      <td>Adult Emergency Room - Hyde Park</td>\n",
       "      <td>5656 S Maryland Ave, Chicago, Illinois, 60637</td>\n",
       "      <td>41.791541</td>\n",
       "      <td>-87.605283</td>\n",
       "      <td>NaN</td>\n",
       "    </tr>\n",
       "    <tr>\n",
       "      <th>3</th>\n",
       "      <td>Family Birth Center - Hyde Park</td>\n",
       "      <td>5721 S Maryland Ave, Chicago, Illinois, 60637</td>\n",
       "      <td>41.790537</td>\n",
       "      <td>-87.604573</td>\n",
       "      <td>NaN</td>\n",
       "    </tr>\n",
       "    <tr>\n",
       "      <th>4</th>\n",
       "      <td>Comer Children's at AdventHealth - Hinsdale</td>\n",
       "      <td>120 N Oak St, Hinsdale, Illinois, 60521</td>\n",
       "      <td>41.805609</td>\n",
       "      <td>-87.921249</td>\n",
       "      <td>NaN</td>\n",
       "    </tr>\n",
       "    <tr>\n",
       "      <th>...</th>\n",
       "      <td>...</td>\n",
       "      <td>...</td>\n",
       "      <td>...</td>\n",
       "      <td>...</td>\n",
       "      <td>...</td>\n",
       "    </tr>\n",
       "    <tr>\n",
       "      <th>58</th>\n",
       "      <td>Professional Building</td>\n",
       "      <td>1950 W Polk St, Chicago, Illinois, 60612</td>\n",
       "      <td>41.871534</td>\n",
       "      <td>-87.675330</td>\n",
       "      <td>NaN</td>\n",
       "    </tr>\n",
       "    <tr>\n",
       "      <th>59</th>\n",
       "      <td>Robbins Health Center</td>\n",
       "      <td>13450 S Kedzie Ave, Robbins, Illinois, 60472</td>\n",
       "      <td>41.648676</td>\n",
       "      <td>-87.699623</td>\n",
       "      <td>NaN</td>\n",
       "    </tr>\n",
       "    <tr>\n",
       "      <th>60</th>\n",
       "      <td>Ruth M. Rothstein CORE Center</td>\n",
       "      <td>2020 W Harrison St, Chicago, Illinois, 60612</td>\n",
       "      <td>41.874557</td>\n",
       "      <td>-87.677123</td>\n",
       "      <td>NaN</td>\n",
       "    </tr>\n",
       "    <tr>\n",
       "      <th>61</th>\n",
       "      <td>Specialty Care Center</td>\n",
       "      <td>1901 W Harrison St, Chicago, Illinois, 60612</td>\n",
       "      <td>41.873452</td>\n",
       "      <td>-87.674149</td>\n",
       "      <td>NaN</td>\n",
       "    </tr>\n",
       "    <tr>\n",
       "      <th>62</th>\n",
       "      <td>Cermak Health Services of Cook County</td>\n",
       "      <td>2800 S California Ave, Chicago, Illinois, 60608</td>\n",
       "      <td>41.723974</td>\n",
       "      <td>-87.692431</td>\n",
       "      <td>NaN</td>\n",
       "    </tr>\n",
       "  </tbody>\n",
       "</table>\n",
       "<p>63 rows × 5 columns</p>\n",
       "</div>"
      ],
      "text/plain": [
       "                                               name  \\\n",
       "0   Center for Care and Discovery (CCD) - Hyde Park   \n",
       "1                     Mitchell Hospital - Hyde Park   \n",
       "2                  Adult Emergency Room - Hyde Park   \n",
       "3                   Family Birth Center - Hyde Park   \n",
       "4       Comer Children's at AdventHealth - Hinsdale   \n",
       "..                                              ...   \n",
       "58                            Professional Building   \n",
       "59                            Robbins Health Center   \n",
       "60                    Ruth M. Rothstein CORE Center   \n",
       "61                            Specialty Care Center   \n",
       "62            Cermak Health Services of Cook County   \n",
       "\n",
       "                                            address  geocoded_latitude  \\\n",
       "0     5700 S Maryland Ave, Chicago, Illinois, 60637          41.791224   \n",
       "1     5815 S Maryland Ave, Chicago, Illinois, 60637          41.789027   \n",
       "2     5656 S Maryland Ave, Chicago, Illinois, 60637          41.791541   \n",
       "3     5721 S Maryland Ave, Chicago, Illinois, 60637          41.790537   \n",
       "4           120 N Oak St, Hinsdale, Illinois, 60521          41.805609   \n",
       "..                                              ...                ...   \n",
       "58         1950 W Polk St, Chicago, Illinois, 60612          41.871534   \n",
       "59     13450 S Kedzie Ave, Robbins, Illinois, 60472          41.648676   \n",
       "60     2020 W Harrison St, Chicago, Illinois, 60612          41.874557   \n",
       "61     1901 W Harrison St, Chicago, Illinois, 60612          41.873452   \n",
       "62  2800 S California Ave, Chicago, Illinois, 60608          41.723974   \n",
       "\n",
       "    geocoded_longitude  geocoded_score  \n",
       "0           -87.604609             NaN  \n",
       "1           -87.604573             NaN  \n",
       "2           -87.605283             NaN  \n",
       "3           -87.604573             NaN  \n",
       "4           -87.921249             NaN  \n",
       "..                 ...             ...  \n",
       "58          -87.675330             NaN  \n",
       "59          -87.699623             NaN  \n",
       "60          -87.677123             NaN  \n",
       "61          -87.674149             NaN  \n",
       "62          -87.692431             NaN  \n",
       "\n",
       "[63 rows x 5 columns]"
      ]
     },
     "execution_count": 3,
     "metadata": {},
     "output_type": "execute_result"
    }
   ],
   "source": [
    "centers = pd.read_json(\"../../data/secure/geocoded_medical_centers.jsonl\", lines=True, orient=\"records\")\n",
    "print(centers.shape)\n",
    "centers"
   ]
  },
  {
   "cell_type": "code",
   "execution_count": 26,
   "metadata": {},
   "outputs": [
    {
     "name": "stdout",
     "output_type": "stream",
     "text": [
      "(70226, 293)\n"
     ]
    },
    {
     "data": {
      "text/html": [
       "<div>\n",
       "<style scoped>\n",
       "    .dataframe tbody tr th:only-of-type {\n",
       "        vertical-align: middle;\n",
       "    }\n",
       "\n",
       "    .dataframe tbody tr th {\n",
       "        vertical-align: top;\n",
       "    }\n",
       "\n",
       "    .dataframe thead th {\n",
       "        text-align: right;\n",
       "    }\n",
       "</style>\n",
       "<table border=\"1\" class=\"dataframe\">\n",
       "  <thead>\n",
       "    <tr style=\"text-align: right;\">\n",
       "      <th></th>\n",
       "      <th>4-fibf_1</th>\n",
       "      <th>AFFGEOID</th>\n",
       "      <th>ALAND_left</th>\n",
       "      <th>ALAND_right</th>\n",
       "      <th>AWATER_left</th>\n",
       "      <th>AWATER_right</th>\n",
       "      <th>COUNTYFP_left</th>\n",
       "      <th>COUNTYFP_right</th>\n",
       "      <th>COUSUBFP</th>\n",
       "      <th>COUSUBNS</th>\n",
       "      <th>...</th>\n",
       "      <th>death_time</th>\n",
       "      <th>death_year</th>\n",
       "      <th>death_month</th>\n",
       "      <th>death_day</th>\n",
       "      <th>death_week</th>\n",
       "      <th>death_day_of_week</th>\n",
       "      <th>hotel</th>\n",
       "      <th>hot</th>\n",
       "      <th>cold</th>\n",
       "      <th>repeated_lat_long</th>\n",
       "    </tr>\n",
       "  </thead>\n",
       "  <tbody>\n",
       "    <tr>\n",
       "      <th>0</th>\n",
       "      <td>NaN</td>\n",
       "      <td>NaN</td>\n",
       "      <td>NaN</td>\n",
       "      <td>NaN</td>\n",
       "      <td>NaN</td>\n",
       "      <td>NaN</td>\n",
       "      <td>NaN</td>\n",
       "      <td>NaN</td>\n",
       "      <td>NaN</td>\n",
       "      <td>NaN</td>\n",
       "      <td>...</td>\n",
       "      <td>22:52:00</td>\n",
       "      <td>2020.0</td>\n",
       "      <td>5.0</td>\n",
       "      <td>15.0</td>\n",
       "      <td>20.0</td>\n",
       "      <td>Friday</td>\n",
       "      <td>0</td>\n",
       "      <td>1</td>\n",
       "      <td>1</td>\n",
       "      <td>0</td>\n",
       "    </tr>\n",
       "    <tr>\n",
       "      <th>1</th>\n",
       "      <td>NaN</td>\n",
       "      <td>0600000US1703114000</td>\n",
       "      <td>582989656.0</td>\n",
       "      <td>331289.0</td>\n",
       "      <td>17565657.0</td>\n",
       "      <td>1429583.0</td>\n",
       "      <td>31.0</td>\n",
       "      <td>31.0</td>\n",
       "      <td>14000.0</td>\n",
       "      <td>428803.0</td>\n",
       "      <td>...</td>\n",
       "      <td>13:50:00</td>\n",
       "      <td>2014.0</td>\n",
       "      <td>9.0</td>\n",
       "      <td>21.0</td>\n",
       "      <td>38.0</td>\n",
       "      <td>Sunday</td>\n",
       "      <td>0</td>\n",
       "      <td>1</td>\n",
       "      <td>1</td>\n",
       "      <td>0</td>\n",
       "    </tr>\n",
       "    <tr>\n",
       "      <th>2</th>\n",
       "      <td>NaN</td>\n",
       "      <td>0600000US1703106561</td>\n",
       "      <td>120177532.0</td>\n",
       "      <td>2307523.0</td>\n",
       "      <td>628793.0</td>\n",
       "      <td>0.0</td>\n",
       "      <td>31.0</td>\n",
       "      <td>31.0</td>\n",
       "      <td>6561.0</td>\n",
       "      <td>428682.0</td>\n",
       "      <td>...</td>\n",
       "      <td>16:55:00</td>\n",
       "      <td>2014.0</td>\n",
       "      <td>9.0</td>\n",
       "      <td>22.0</td>\n",
       "      <td>39.0</td>\n",
       "      <td>Monday</td>\n",
       "      <td>0</td>\n",
       "      <td>1</td>\n",
       "      <td>1</td>\n",
       "      <td>0</td>\n",
       "    </tr>\n",
       "    <tr>\n",
       "      <th>3</th>\n",
       "      <td>NaN</td>\n",
       "      <td>0600000US1703145447</td>\n",
       "      <td>94160608.0</td>\n",
       "      <td>21881464.0</td>\n",
       "      <td>1461622.0</td>\n",
       "      <td>882493.0</td>\n",
       "      <td>31.0</td>\n",
       "      <td>31.0</td>\n",
       "      <td>45447.0</td>\n",
       "      <td>429298.0</td>\n",
       "      <td>...</td>\n",
       "      <td>17:10:00</td>\n",
       "      <td>2014.0</td>\n",
       "      <td>9.0</td>\n",
       "      <td>27.0</td>\n",
       "      <td>39.0</td>\n",
       "      <td>Saturday</td>\n",
       "      <td>0</td>\n",
       "      <td>1</td>\n",
       "      <td>1</td>\n",
       "      <td>0</td>\n",
       "    </tr>\n",
       "    <tr>\n",
       "      <th>4</th>\n",
       "      <td>NaN</td>\n",
       "      <td>0600000US1703114000</td>\n",
       "      <td>582989656.0</td>\n",
       "      <td>215116.0</td>\n",
       "      <td>17565657.0</td>\n",
       "      <td>0.0</td>\n",
       "      <td>31.0</td>\n",
       "      <td>31.0</td>\n",
       "      <td>14000.0</td>\n",
       "      <td>428803.0</td>\n",
       "      <td>...</td>\n",
       "      <td>14:15:00</td>\n",
       "      <td>2014.0</td>\n",
       "      <td>10.0</td>\n",
       "      <td>2.0</td>\n",
       "      <td>40.0</td>\n",
       "      <td>Thursday</td>\n",
       "      <td>0</td>\n",
       "      <td>1</td>\n",
       "      <td>1</td>\n",
       "      <td>0</td>\n",
       "    </tr>\n",
       "  </tbody>\n",
       "</table>\n",
       "<p>5 rows × 293 columns</p>\n",
       "</div>"
      ],
      "text/plain": [
       "   4-fibf_1             AFFGEOID   ALAND_left  ALAND_right  AWATER_left  \\\n",
       "0       NaN                  NaN          NaN          NaN          NaN   \n",
       "1       NaN  0600000US1703114000  582989656.0     331289.0   17565657.0   \n",
       "2       NaN  0600000US1703106561  120177532.0    2307523.0     628793.0   \n",
       "3       NaN  0600000US1703145447   94160608.0   21881464.0    1461622.0   \n",
       "4       NaN  0600000US1703114000  582989656.0     215116.0   17565657.0   \n",
       "\n",
       "   AWATER_right  COUNTYFP_left  COUNTYFP_right  COUSUBFP  COUSUBNS  ...  \\\n",
       "0           NaN            NaN             NaN       NaN       NaN  ...   \n",
       "1     1429583.0           31.0            31.0   14000.0  428803.0  ...   \n",
       "2           0.0           31.0            31.0    6561.0  428682.0  ...   \n",
       "3      882493.0           31.0            31.0   45447.0  429298.0  ...   \n",
       "4           0.0           31.0            31.0   14000.0  428803.0  ...   \n",
       "\n",
       "   death_time death_year  death_month  death_day  death_week  \\\n",
       "0    22:52:00     2020.0          5.0       15.0        20.0   \n",
       "1    13:50:00     2014.0          9.0       21.0        38.0   \n",
       "2    16:55:00     2014.0          9.0       22.0        39.0   \n",
       "3    17:10:00     2014.0          9.0       27.0        39.0   \n",
       "4    14:15:00     2014.0         10.0        2.0        40.0   \n",
       "\n",
       "   death_day_of_week  hotel hot cold repeated_lat_long  \n",
       "0             Friday      0   1    1                 0  \n",
       "1             Sunday      0   1    1                 0  \n",
       "2             Monday      0   1    1                 0  \n",
       "3           Saturday      0   1    1                 0  \n",
       "4           Thursday      0   1    1                 0  \n",
       "\n",
       "[5 rows x 293 columns]"
      ]
     },
     "execution_count": 26,
     "metadata": {},
     "output_type": "execute_result"
    }
   ],
   "source": [
    "df = pd.read_csv(\"../../data/records_with_spatial_data.csv\", low_memory=False)\n",
    "print(df.shape)\n",
    "df.head()"
   ]
  },
  {
   "cell_type": "code",
   "execution_count": 5,
   "metadata": {},
   "outputs": [
    {
     "data": {
      "text/plain": [
       "array([[ 41.79122401, -87.60460902],\n",
       "       [ 41.78902698, -87.60457298],\n",
       "       [ 41.79154101, -87.60528301],\n",
       "       [ 41.79053698, -87.60457298],\n",
       "       [ 41.80560899, -87.92124899]])"
      ]
     },
     "execution_count": 5,
     "metadata": {},
     "output_type": "execute_result"
    }
   ],
   "source": [
    "center_points = centers.loc[:, ['geocoded_latitude', 'geocoded_longitude']].astype(float).to_numpy()\n",
    "center_points[:5]"
   ]
  },
  {
   "cell_type": "code",
   "execution_count": 6,
   "metadata": {},
   "outputs": [
    {
     "data": {
      "text/plain": [
       "array([[ 41.97857073, -87.88024966],\n",
       "       [ 41.88947682, -87.61545112],\n",
       "       [ 41.50733584, -87.62322044],\n",
       "       [ 41.77362004, -87.84976597],\n",
       "       [ 41.75286378, -87.6432531 ]])"
      ]
     },
     "execution_count": 6,
     "metadata": {},
     "output_type": "execute_result"
    }
   ],
   "source": [
    "df_points = df.loc[:, ['composite_latitude', 'composite_longitude']].astype(float).to_numpy()\n",
    "df_points[:5]"
   ]
  },
  {
   "cell_type": "code",
   "execution_count": 7,
   "metadata": {},
   "outputs": [
    {
     "data": {
      "text/plain": [
       "True"
      ]
     },
     "execution_count": 7,
     "metadata": {},
     "output_type": "execute_result"
    }
   ],
   "source": [
    "all(len(p) == 2 for p in center_points)\n",
    "all(len(p) == 2 for p in df_points)"
   ]
  },
  {
   "cell_type": "code",
   "execution_count": 20,
   "metadata": {},
   "outputs": [
    {
     "data": {
      "text/plain": [
       "-87.88024965766617"
      ]
     },
     "execution_count": 20,
     "metadata": {},
     "output_type": "execute_result"
    }
   ],
   "source": [
    "df_points[0][1].round(15)"
   ]
  },
  {
   "cell_type": "code",
   "execution_count": 25,
   "metadata": {},
   "outputs": [
    {
     "name": "stdout",
     "output_type": "stream",
     "text": [
      "Round 14: 0 matches\n",
      "Round 13: 0 matches\n",
      "Round 12: 0 matches\n",
      "Round 11: 0 matches\n",
      "Round 10: 0 matches\n",
      "Round 9: 0 matches\n",
      "Round 8: 0 matches\n",
      "Round 7: 0 matches\n",
      "Round 6: 0 matches\n",
      "Round 5: 0 matches\n",
      "Round 4: 7 matches\n",
      "Round 3: 85 matches\n",
      "Round 2: 2717 matches\n",
      "Round 1: 193522 matches\n",
      "Round 0: 3757567 matches\n"
     ]
    }
   ],
   "source": [
    "# check if any center points in df points\n",
    "for rounder in range(14, -1, -1):\n",
    "    round_matches = 0\n",
    "    for cp in center_points:\n",
    "        cp0 = cp[0].round(rounder)\n",
    "        cp1 = cp[1].round(rounder)\n",
    "        for dp in df_points:\n",
    "            if cp0 == dp[0].round(rounder) and cp1 == dp[1].round(rounder):\n",
    "                round_matches += 1\n",
    "    print(f\"Round {rounder}: {round_matches} matches\")\n",
    "\n"
   ]
  },
  {
   "cell_type": "code",
   "execution_count": null,
   "metadata": {},
   "outputs": [],
   "source": []
  },
  {
   "cell_type": "markdown",
   "metadata": {},
   "source": [
    "Initial lat/long had 8 decimals...\n",
    "\n",
    "We had ZERO matches when comparing at 8, 7, 6, and 5 decimal places (rounded).\n",
    "\n",
    "We get 7 matches when rounding to 4 decimals places.\n",
    "\n",
    "7 out of number of records X number of med centers\n",
    "\n",
    "We get a lot when rounding to 3 decimals..."
   ]
  },
  {
   "cell_type": "code",
   "execution_count": null,
   "metadata": {},
   "outputs": [],
   "source": [
    "# could geocode the death addresses and see if they match any of the medical centers\n",
    "# using same lat/long precision methods as above\n",
    "# we should find some matches (more than above)\n",
    "\n",
    "# use fat_url from geocode module form opendata-pipeline work"
   ]
  },
  {
   "cell_type": "code",
   "execution_count": null,
   "metadata": {},
   "outputs": [],
   "source": [
    "# modularize this to a fun script that prints or plots thresholds :) "
   ]
  },
  {
   "cell_type": "code",
   "execution_count": null,
   "metadata": {},
   "outputs": [],
   "source": []
  }
 ],
 "metadata": {
  "kernelspec": {
   "display_name": "Python 3.10.6 ('geo')",
   "language": "python",
   "name": "python3"
  },
  "language_info": {
   "codemirror_mode": {
    "name": "ipython",
    "version": 3
   },
   "file_extension": ".py",
   "mimetype": "text/x-python",
   "name": "python",
   "nbconvert_exporter": "python",
   "pygments_lexer": "ipython3",
   "version": "3.10.6"
  },
  "orig_nbformat": 4,
  "vscode": {
   "interpreter": {
    "hash": "9d3d162f69c105942d02394338356620119b9d54691325ed6629c4c4ccbb27e1"
   }
  }
 },
 "nbformat": 4,
 "nbformat_minor": 2
}
