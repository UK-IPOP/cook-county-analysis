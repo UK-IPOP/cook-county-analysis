{
 "cells": [
  {
   "cell_type": "code",
   "execution_count": 1,
   "metadata": {},
   "outputs": [],
   "source": [
    "import pandas as pd\n",
    "from rich import print\n",
    "\n",
    "# must uninstall\n",
    "\n",
    "#pip uninstall astropy\n",
    "#conda uninstall pointpats"
   ]
  },
  {
   "cell_type": "code",
   "execution_count": 2,
   "metadata": {},
   "outputs": [
    {
     "data": {
      "text/html": [
       "<pre style=\"white-space:pre;overflow-x:auto;line-height:normal;font-family:Menlo,'DejaVu Sans Mono',consolas,'Courier New',monospace\"><span style=\"font-weight: bold\">(</span><span style=\"color: #008080; text-decoration-color: #008080; font-weight: bold\">70226</span>, <span style=\"color: #008080; text-decoration-color: #008080; font-weight: bold\">8</span><span style=\"font-weight: bold\">)</span>\n",
       "</pre>\n"
      ],
      "text/plain": [
       "\u001b[1m(\u001b[0m\u001b[1;36m70226\u001b[0m, \u001b[1;36m8\u001b[0m\u001b[1m)\u001b[0m\n"
      ]
     },
     "metadata": {},
     "output_type": "display_data"
    },
    {
     "data": {
      "text/html": [
       "<pre style=\"white-space:pre;overflow-x:auto;line-height:normal;font-family:Menlo,'DejaVu Sans Mono',consolas,'Courier New',monospace\"><span style=\"font-weight: bold\">(</span><span style=\"color: #008080; text-decoration-color: #008080; font-weight: bold\">68112</span>, <span style=\"color: #008080; text-decoration-color: #008080; font-weight: bold\">8</span><span style=\"font-weight: bold\">)</span>\n",
       "</pre>\n"
      ],
      "text/plain": [
       "\u001b[1m(\u001b[0m\u001b[1;36m68112\u001b[0m, \u001b[1;36m8\u001b[0m\u001b[1m)\u001b[0m\n"
      ]
     },
     "metadata": {},
     "output_type": "display_data"
    },
    {
     "data": {
      "text/html": [
       "<pre style=\"white-space:pre;overflow-x:auto;line-height:normal;font-family:Menlo,'DejaVu Sans Mono',consolas,'Courier New',monospace\"><span style=\"font-weight: bold\">(</span><span style=\"color: #008080; text-decoration-color: #008080; font-weight: bold\">68112</span>, <span style=\"color: #008080; text-decoration-color: #008080; font-weight: bold\">8</span><span style=\"font-weight: bold\">)</span>\n",
       "</pre>\n"
      ],
      "text/plain": [
       "\u001b[1m(\u001b[0m\u001b[1;36m68112\u001b[0m, \u001b[1;36m8\u001b[0m\u001b[1m)\u001b[0m\n"
      ]
     },
     "metadata": {},
     "output_type": "display_data"
    }
   ],
   "source": [
    "df = pd.read_csv(\"../../data/records_with_spatial_data.csv\", usecols=[\"casenumber\", \"death_year\", \"composite_latitude\", \"composite_longitude\", \"xylazine_1\", \"xylazine_2\", \"fentanyl_1\", \"fentanyl_2\"])\n",
    "print(df.shape)\n",
    "df = df.dropna(subset=[\"composite_latitude\", \"composite_longitude\"])\n",
    "print(df.shape)\n",
    "# df = df[df[\"death_year\"].isin([2014, 2015, 2016, 2017, 2018])]\n",
    "print(df.shape)"
   ]
  },
  {
   "cell_type": "code",
   "execution_count": 3,
   "metadata": {},
   "outputs": [
    {
     "data": {
      "text/html": [
       "<pre style=\"white-space:pre;overflow-x:auto;line-height:normal;font-family:Menlo,'DejaVu Sans Mono',consolas,'Courier New',monospace\"><span style=\"font-weight: bold\">(</span><span style=\"color: #008080; text-decoration-color: #008080; font-weight: bold\">68112</span>, <span style=\"color: #008080; text-decoration-color: #008080; font-weight: bold\">9</span><span style=\"font-weight: bold\">)</span>\n",
       "</pre>\n"
      ],
      "text/plain": [
       "\u001b[1m(\u001b[0m\u001b[1;36m68112\u001b[0m, \u001b[1;36m9\u001b[0m\u001b[1m)\u001b[0m\n"
      ]
     },
     "metadata": {},
     "output_type": "display_data"
    },
    {
     "data": {
      "text/html": [
       "<pre style=\"white-space:pre;overflow-x:auto;line-height:normal;font-family:Menlo,'DejaVu Sans Mono',consolas,'Courier New',monospace\"><span style=\"font-weight: bold\">(</span><span style=\"color: #008080; text-decoration-color: #008080; font-weight: bold\">7366</span>, <span style=\"color: #008080; text-decoration-color: #008080; font-weight: bold\">9</span><span style=\"font-weight: bold\">)</span>\n",
       "</pre>\n"
      ],
      "text/plain": [
       "\u001b[1m(\u001b[0m\u001b[1;36m7366\u001b[0m, \u001b[1;36m9\u001b[0m\u001b[1m)\u001b[0m\n"
      ]
     },
     "metadata": {},
     "output_type": "display_data"
    },
    {
     "data": {
      "text/html": [
       "<div>\n",
       "<style scoped>\n",
       "    .dataframe tbody tr th:only-of-type {\n",
       "        vertical-align: middle;\n",
       "    }\n",
       "\n",
       "    .dataframe tbody tr th {\n",
       "        vertical-align: top;\n",
       "    }\n",
       "\n",
       "    .dataframe thead th {\n",
       "        text-align: right;\n",
       "    }\n",
       "</style>\n",
       "<table border=\"1\" class=\"dataframe\">\n",
       "  <thead>\n",
       "    <tr style=\"text-align: right;\">\n",
       "      <th></th>\n",
       "      <th>casenumber</th>\n",
       "      <th>composite_latitude</th>\n",
       "      <th>composite_longitude</th>\n",
       "      <th>fentanyl_1</th>\n",
       "      <th>fentanyl_2</th>\n",
       "      <th>xylazine_1</th>\n",
       "      <th>xylazine_2</th>\n",
       "      <th>death_year</th>\n",
       "      <th>case_control</th>\n",
       "    </tr>\n",
       "  </thead>\n",
       "  <tbody>\n",
       "    <tr>\n",
       "      <th>114</th>\n",
       "      <td>ME2015-03553</td>\n",
       "      <td>41.849826</td>\n",
       "      <td>-87.705543</td>\n",
       "      <td>1.0</td>\n",
       "      <td>NaN</td>\n",
       "      <td>NaN</td>\n",
       "      <td>NaN</td>\n",
       "      <td>2015.0</td>\n",
       "      <td>1.0</td>\n",
       "    </tr>\n",
       "    <tr>\n",
       "      <th>130</th>\n",
       "      <td>ME2015-05252</td>\n",
       "      <td>41.910151</td>\n",
       "      <td>-87.707260</td>\n",
       "      <td>1.0</td>\n",
       "      <td>NaN</td>\n",
       "      <td>NaN</td>\n",
       "      <td>NaN</td>\n",
       "      <td>2015.0</td>\n",
       "      <td>1.0</td>\n",
       "    </tr>\n",
       "    <tr>\n",
       "      <th>162</th>\n",
       "      <td>ME2019-01301</td>\n",
       "      <td>41.931694</td>\n",
       "      <td>-87.708468</td>\n",
       "      <td>1.0</td>\n",
       "      <td>NaN</td>\n",
       "      <td>NaN</td>\n",
       "      <td>NaN</td>\n",
       "      <td>2019.0</td>\n",
       "      <td>1.0</td>\n",
       "    </tr>\n",
       "    <tr>\n",
       "      <th>371</th>\n",
       "      <td>ME2019-00863</td>\n",
       "      <td>41.970572</td>\n",
       "      <td>-87.763650</td>\n",
       "      <td>1.0</td>\n",
       "      <td>NaN</td>\n",
       "      <td>NaN</td>\n",
       "      <td>NaN</td>\n",
       "      <td>2019.0</td>\n",
       "      <td>1.0</td>\n",
       "    </tr>\n",
       "    <tr>\n",
       "      <th>399</th>\n",
       "      <td>ME2014-01540</td>\n",
       "      <td>41.760580</td>\n",
       "      <td>-87.614341</td>\n",
       "      <td>1.0</td>\n",
       "      <td>NaN</td>\n",
       "      <td>NaN</td>\n",
       "      <td>NaN</td>\n",
       "      <td>2014.0</td>\n",
       "      <td>1.0</td>\n",
       "    </tr>\n",
       "  </tbody>\n",
       "</table>\n",
       "</div>"
      ],
      "text/plain": [
       "       casenumber  composite_latitude  composite_longitude  fentanyl_1  \\\n",
       "114  ME2015-03553           41.849826           -87.705543         1.0   \n",
       "130  ME2015-05252           41.910151           -87.707260         1.0   \n",
       "162  ME2019-01301           41.931694           -87.708468         1.0   \n",
       "371  ME2019-00863           41.970572           -87.763650         1.0   \n",
       "399  ME2014-01540           41.760580           -87.614341         1.0   \n",
       "\n",
       "     fentanyl_2  xylazine_1  xylazine_2  death_year  case_control  \n",
       "114         NaN         NaN         NaN      2015.0           1.0  \n",
       "130         NaN         NaN         NaN      2015.0           1.0  \n",
       "162         NaN         NaN         NaN      2019.0           1.0  \n",
       "371         NaN         NaN         NaN      2019.0           1.0  \n",
       "399         NaN         NaN         NaN      2014.0           1.0  "
      ]
     },
     "execution_count": 3,
     "metadata": {},
     "output_type": "execute_result"
    }
   ],
   "source": [
    "def label_case_control(row: pd.Series) -> int | None:\n",
    "    if row[\"xylazine_1\"] == 1 or row[\"xylazine_2\"] == 1:\n",
    "        # case\n",
    "        return 2\n",
    "    elif row[\"fentanyl_1\"] == 1 or row[\"fentanyl_2\"] == 1:\n",
    "        # control\n",
    "        return 1\n",
    "    else:\n",
    "        # neither\n",
    "        return None\n",
    "\n",
    "\n",
    "df[\"case_control\"] = df.apply(label_case_control, axis=1)\n",
    "print(df.shape)\n",
    "df.dropna(subset=[\"case_control\"], inplace=True)\n",
    "print(df.shape)\n",
    "df.head()"
   ]
  },
  {
   "cell_type": "code",
   "execution_count": 4,
   "metadata": {},
   "outputs": [
    {
     "data": {
      "text/html": [
       "<div>\n",
       "<style scoped>\n",
       "    .dataframe tbody tr th:only-of-type {\n",
       "        vertical-align: middle;\n",
       "    }\n",
       "\n",
       "    .dataframe tbody tr th {\n",
       "        vertical-align: top;\n",
       "    }\n",
       "\n",
       "    .dataframe thead th {\n",
       "        text-align: right;\n",
       "    }\n",
       "</style>\n",
       "<table border=\"1\" class=\"dataframe\">\n",
       "  <thead>\n",
       "    <tr style=\"text-align: right;\">\n",
       "      <th></th>\n",
       "      <th>matchnumber</th>\n",
       "      <th>CaseIdentifier</th>\n",
       "      <th>age</th>\n",
       "      <th>race</th>\n",
       "      <th>gender</th>\n",
       "      <th>composite_longitude</th>\n",
       "      <th>composite_latitude</th>\n",
       "      <th>group</th>\n",
       "      <th>death_year</th>\n",
       "      <th>case</th>\n",
       "      <th>distance</th>\n",
       "      <th>weights</th>\n",
       "    </tr>\n",
       "  </thead>\n",
       "  <tbody>\n",
       "    <tr>\n",
       "      <th>0</th>\n",
       "      <td>1</td>\n",
       "      <td>33543</td>\n",
       "      <td>44</td>\n",
       "      <td>White</td>\n",
       "      <td>Male</td>\n",
       "      <td>-87.738374</td>\n",
       "      <td>41.881506</td>\n",
       "      <td>xylazine</td>\n",
       "      <td>2020</td>\n",
       "      <td>1</td>\n",
       "      <td>0.046608</td>\n",
       "      <td>1.0</td>\n",
       "    </tr>\n",
       "    <tr>\n",
       "      <th>1</th>\n",
       "      <td>1</td>\n",
       "      <td>32929</td>\n",
       "      <td>44</td>\n",
       "      <td>White</td>\n",
       "      <td>Male</td>\n",
       "      <td>-87.687850</td>\n",
       "      <td>41.789446</td>\n",
       "      <td>fentanyl</td>\n",
       "      <td>2020</td>\n",
       "      <td>0</td>\n",
       "      <td>0.046608</td>\n",
       "      <td>1.0</td>\n",
       "    </tr>\n",
       "    <tr>\n",
       "      <th>2</th>\n",
       "      <td>1</td>\n",
       "      <td>33063</td>\n",
       "      <td>44</td>\n",
       "      <td>White</td>\n",
       "      <td>Male</td>\n",
       "      <td>-87.680723</td>\n",
       "      <td>41.856964</td>\n",
       "      <td>fentanyl</td>\n",
       "      <td>2020</td>\n",
       "      <td>0</td>\n",
       "      <td>0.046608</td>\n",
       "      <td>1.0</td>\n",
       "    </tr>\n",
       "    <tr>\n",
       "      <th>3</th>\n",
       "      <td>1</td>\n",
       "      <td>34964</td>\n",
       "      <td>44</td>\n",
       "      <td>White</td>\n",
       "      <td>Male</td>\n",
       "      <td>-87.803437</td>\n",
       "      <td>41.886812</td>\n",
       "      <td>fentanyl</td>\n",
       "      <td>2020</td>\n",
       "      <td>0</td>\n",
       "      <td>0.046608</td>\n",
       "      <td>1.0</td>\n",
       "    </tr>\n",
       "    <tr>\n",
       "      <th>4</th>\n",
       "      <td>2</td>\n",
       "      <td>33563</td>\n",
       "      <td>41</td>\n",
       "      <td>White</td>\n",
       "      <td>Male</td>\n",
       "      <td>-87.646388</td>\n",
       "      <td>41.889154</td>\n",
       "      <td>xylazine</td>\n",
       "      <td>2020</td>\n",
       "      <td>1</td>\n",
       "      <td>0.046163</td>\n",
       "      <td>1.0</td>\n",
       "    </tr>\n",
       "  </tbody>\n",
       "</table>\n",
       "</div>"
      ],
      "text/plain": [
       "   matchnumber  CaseIdentifier  age   race gender  composite_longitude  \\\n",
       "0            1           33543   44  White   Male           -87.738374   \n",
       "1            1           32929   44  White   Male           -87.687850   \n",
       "2            1           33063   44  White   Male           -87.680723   \n",
       "3            1           34964   44  White   Male           -87.803437   \n",
       "4            2           33563   41  White   Male           -87.646388   \n",
       "\n",
       "   composite_latitude     group  death_year  case  distance  weights  \n",
       "0           41.881506  xylazine        2020     1  0.046608      1.0  \n",
       "1           41.789446  fentanyl        2020     0  0.046608      1.0  \n",
       "2           41.856964  fentanyl        2020     0  0.046608      1.0  \n",
       "3           41.886812  fentanyl        2020     0  0.046608      1.0  \n",
       "4           41.889154  xylazine        2020     1  0.046163      1.0  "
      ]
     },
     "execution_count": 4,
     "metadata": {},
     "output_type": "execute_result"
    }
   ],
   "source": [
    "df = pd.read_csv(\"./xylazine_matched_fentanyl.csv\")\n",
    "df.head()"
   ]
  },
  {
   "cell_type": "code",
   "execution_count": 6,
   "metadata": {},
   "outputs": [
    {
     "data": {
      "text/plain": [
       "0    816\n",
       "1    272\n",
       "Name: case, dtype: int64"
      ]
     },
     "execution_count": 6,
     "metadata": {},
     "output_type": "execute_result"
    }
   ],
   "source": [
    "df.case.value_counts()"
   ]
  },
  {
   "cell_type": "code",
   "execution_count": 7,
   "metadata": {},
   "outputs": [
    {
     "data": {
      "text/plain": [
       "[<shapely.geometry.point.Point at 0x1342a34c0>,\n",
       " <shapely.geometry.point.Point at 0x1342a35b0>,\n",
       " <shapely.geometry.point.Point at 0x116d63970>]"
      ]
     },
     "execution_count": 7,
     "metadata": {},
     "output_type": "execute_result"
    }
   ],
   "source": [
    "from shapely.geometry import Point\n",
    "points = [Point(x, y) for (x, y) in df[[\"composite_longitude\", \"composite_latitude\"]].to_numpy()]\n",
    "points[:3]"
   ]
  },
  {
   "cell_type": "code",
   "execution_count": 8,
   "metadata": {},
   "outputs": [
    {
     "data": {
      "text/html": [
       "<div>\n",
       "<style scoped>\n",
       "    .dataframe tbody tr th:only-of-type {\n",
       "        vertical-align: middle;\n",
       "    }\n",
       "\n",
       "    .dataframe tbody tr th {\n",
       "        vertical-align: top;\n",
       "    }\n",
       "\n",
       "    .dataframe thead th {\n",
       "        text-align: right;\n",
       "    }\n",
       "</style>\n",
       "<table border=\"1\" class=\"dataframe\">\n",
       "  <thead>\n",
       "    <tr style=\"text-align: right;\">\n",
       "      <th></th>\n",
       "      <th>matchnumber</th>\n",
       "      <th>CaseIdentifier</th>\n",
       "      <th>age</th>\n",
       "      <th>race</th>\n",
       "      <th>gender</th>\n",
       "      <th>composite_longitude</th>\n",
       "      <th>composite_latitude</th>\n",
       "      <th>group</th>\n",
       "      <th>death_year</th>\n",
       "      <th>case</th>\n",
       "      <th>distance</th>\n",
       "      <th>weights</th>\n",
       "      <th>geometry</th>\n",
       "    </tr>\n",
       "  </thead>\n",
       "  <tbody>\n",
       "    <tr>\n",
       "      <th>0</th>\n",
       "      <td>1</td>\n",
       "      <td>33543</td>\n",
       "      <td>44</td>\n",
       "      <td>White</td>\n",
       "      <td>Male</td>\n",
       "      <td>-87.738374</td>\n",
       "      <td>41.881506</td>\n",
       "      <td>xylazine</td>\n",
       "      <td>2020</td>\n",
       "      <td>1</td>\n",
       "      <td>0.046608</td>\n",
       "      <td>1.0</td>\n",
       "      <td>POINT (-7280561.195 3812635.988)</td>\n",
       "    </tr>\n",
       "    <tr>\n",
       "      <th>1</th>\n",
       "      <td>1</td>\n",
       "      <td>32929</td>\n",
       "      <td>44</td>\n",
       "      <td>White</td>\n",
       "      <td>Male</td>\n",
       "      <td>-87.687850</td>\n",
       "      <td>41.789446</td>\n",
       "      <td>fentanyl</td>\n",
       "      <td>2020</td>\n",
       "      <td>0</td>\n",
       "      <td>0.046608</td>\n",
       "      <td>1.0</td>\n",
       "      <td>POINT (-7276368.653 3802421.051)</td>\n",
       "    </tr>\n",
       "    <tr>\n",
       "      <th>2</th>\n",
       "      <td>1</td>\n",
       "      <td>33063</td>\n",
       "      <td>44</td>\n",
       "      <td>White</td>\n",
       "      <td>Male</td>\n",
       "      <td>-87.680723</td>\n",
       "      <td>41.856964</td>\n",
       "      <td>fentanyl</td>\n",
       "      <td>2020</td>\n",
       "      <td>0</td>\n",
       "      <td>0.046608</td>\n",
       "      <td>1.0</td>\n",
       "      <td>POINT (-7275777.220 3809911.343)</td>\n",
       "    </tr>\n",
       "    <tr>\n",
       "      <th>3</th>\n",
       "      <td>1</td>\n",
       "      <td>34964</td>\n",
       "      <td>44</td>\n",
       "      <td>White</td>\n",
       "      <td>Male</td>\n",
       "      <td>-87.803437</td>\n",
       "      <td>41.886812</td>\n",
       "      <td>fentanyl</td>\n",
       "      <td>2020</td>\n",
       "      <td>0</td>\n",
       "      <td>0.046608</td>\n",
       "      <td>1.0</td>\n",
       "      <td>POINT (-7285960.068 3813225.145)</td>\n",
       "    </tr>\n",
       "    <tr>\n",
       "      <th>4</th>\n",
       "      <td>2</td>\n",
       "      <td>33563</td>\n",
       "      <td>41</td>\n",
       "      <td>White</td>\n",
       "      <td>Male</td>\n",
       "      <td>-87.646388</td>\n",
       "      <td>41.889154</td>\n",
       "      <td>xylazine</td>\n",
       "      <td>2020</td>\n",
       "      <td>1</td>\n",
       "      <td>0.046163</td>\n",
       "      <td>1.0</td>\n",
       "      <td>POINT (-7272928.117 3813485.185)</td>\n",
       "    </tr>\n",
       "  </tbody>\n",
       "</table>\n",
       "</div>"
      ],
      "text/plain": [
       "   matchnumber  CaseIdentifier  age   race gender  composite_longitude  \\\n",
       "0            1           33543   44  White   Male           -87.738374   \n",
       "1            1           32929   44  White   Male           -87.687850   \n",
       "2            1           33063   44  White   Male           -87.680723   \n",
       "3            1           34964   44  White   Male           -87.803437   \n",
       "4            2           33563   41  White   Male           -87.646388   \n",
       "\n",
       "   composite_latitude     group  death_year  case  distance  weights  \\\n",
       "0           41.881506  xylazine        2020     1  0.046608      1.0   \n",
       "1           41.789446  fentanyl        2020     0  0.046608      1.0   \n",
       "2           41.856964  fentanyl        2020     0  0.046608      1.0   \n",
       "3           41.886812  fentanyl        2020     0  0.046608      1.0   \n",
       "4           41.889154  xylazine        2020     1  0.046163      1.0   \n",
       "\n",
       "                           geometry  \n",
       "0  POINT (-7280561.195 3812635.988)  \n",
       "1  POINT (-7276368.653 3802421.051)  \n",
       "2  POINT (-7275777.220 3809911.343)  \n",
       "3  POINT (-7285960.068 3813225.145)  \n",
       "4  POINT (-7272928.117 3813485.185)  "
      ]
     },
     "execution_count": 8,
     "metadata": {},
     "output_type": "execute_result"
    }
   ],
   "source": [
    "import geopandas as gpd\n",
    "\n",
    "gdf = gpd.GeoDataFrame(df, geometry=points, crs=\"EPSG:4326\").to_crs(\"+proj=merc +lat_ts=41.9\")\n",
    "# gdf = gpd.GeoDataFrame(df, geometry=points, crs=\"EPSG:4326\").to_crs(\"+proj=aea +lat_1=40 +lat_2=44\")\n",
    "gdf.head()\n"
   ]
  },
  {
   "cell_type": "code",
   "execution_count": 9,
   "metadata": {},
   "outputs": [
    {
     "data": {
      "text/plain": [
       "<AxesSubplot:>"
      ]
     },
     "execution_count": 9,
     "metadata": {},
     "output_type": "execute_result"
    },
    {
     "data": {
      "image/png": "[encoded data removed]",
      "text/plain": [
       "<Figure size 640x480 with 1 Axes>"
      ]
     },
     "metadata": {},
     "output_type": "display_data"
    }
   ],
   "source": [
    "gdf.plot()"
   ]
  },
  {
   "cell_type": "code",
   "execution_count": 10,
   "metadata": {},
   "outputs": [
    {
     "data": {
      "text/html": [
       "<div>\n",
       "<style scoped>\n",
       "    .dataframe tbody tr th:only-of-type {\n",
       "        vertical-align: middle;\n",
       "    }\n",
       "\n",
       "    .dataframe tbody tr th {\n",
       "        vertical-align: top;\n",
       "    }\n",
       "\n",
       "    .dataframe thead th {\n",
       "        text-align: right;\n",
       "    }\n",
       "</style>\n",
       "<table border=\"1\" class=\"dataframe\">\n",
       "  <thead>\n",
       "    <tr style=\"text-align: right;\">\n",
       "      <th></th>\n",
       "      <th>matchnumber</th>\n",
       "      <th>CaseIdentifier</th>\n",
       "      <th>age</th>\n",
       "      <th>race</th>\n",
       "      <th>gender</th>\n",
       "      <th>composite_longitude</th>\n",
       "      <th>composite_latitude</th>\n",
       "      <th>group</th>\n",
       "      <th>death_year</th>\n",
       "      <th>case</th>\n",
       "      <th>distance</th>\n",
       "      <th>weights</th>\n",
       "      <th>geometry</th>\n",
       "      <th>x_coord</th>\n",
       "      <th>y_coord</th>\n",
       "    </tr>\n",
       "  </thead>\n",
       "  <tbody>\n",
       "    <tr>\n",
       "      <th>0</th>\n",
       "      <td>1</td>\n",
       "      <td>33543</td>\n",
       "      <td>44</td>\n",
       "      <td>White</td>\n",
       "      <td>Male</td>\n",
       "      <td>-87.738374</td>\n",
       "      <td>41.881506</td>\n",
       "      <td>xylazine</td>\n",
       "      <td>2020</td>\n",
       "      <td>1</td>\n",
       "      <td>0.046608</td>\n",
       "      <td>1.0</td>\n",
       "      <td>POINT (-7280561.195 3812635.988)</td>\n",
       "      <td>-7.280561e+06</td>\n",
       "      <td>3.812636e+06</td>\n",
       "    </tr>\n",
       "    <tr>\n",
       "      <th>1</th>\n",
       "      <td>1</td>\n",
       "      <td>32929</td>\n",
       "      <td>44</td>\n",
       "      <td>White</td>\n",
       "      <td>Male</td>\n",
       "      <td>-87.687850</td>\n",
       "      <td>41.789446</td>\n",
       "      <td>fentanyl</td>\n",
       "      <td>2020</td>\n",
       "      <td>0</td>\n",
       "      <td>0.046608</td>\n",
       "      <td>1.0</td>\n",
       "      <td>POINT (-7276368.653 3802421.051)</td>\n",
       "      <td>-7.276369e+06</td>\n",
       "      <td>3.802421e+06</td>\n",
       "    </tr>\n",
       "    <tr>\n",
       "      <th>2</th>\n",
       "      <td>1</td>\n",
       "      <td>33063</td>\n",
       "      <td>44</td>\n",
       "      <td>White</td>\n",
       "      <td>Male</td>\n",
       "      <td>-87.680723</td>\n",
       "      <td>41.856964</td>\n",
       "      <td>fentanyl</td>\n",
       "      <td>2020</td>\n",
       "      <td>0</td>\n",
       "      <td>0.046608</td>\n",
       "      <td>1.0</td>\n",
       "      <td>POINT (-7275777.220 3809911.343)</td>\n",
       "      <td>-7.275777e+06</td>\n",
       "      <td>3.809911e+06</td>\n",
       "    </tr>\n",
       "    <tr>\n",
       "      <th>3</th>\n",
       "      <td>1</td>\n",
       "      <td>34964</td>\n",
       "      <td>44</td>\n",
       "      <td>White</td>\n",
       "      <td>Male</td>\n",
       "      <td>-87.803437</td>\n",
       "      <td>41.886812</td>\n",
       "      <td>fentanyl</td>\n",
       "      <td>2020</td>\n",
       "      <td>0</td>\n",
       "      <td>0.046608</td>\n",
       "      <td>1.0</td>\n",
       "      <td>POINT (-7285960.068 3813225.145)</td>\n",
       "      <td>-7.285960e+06</td>\n",
       "      <td>3.813225e+06</td>\n",
       "    </tr>\n",
       "    <tr>\n",
       "      <th>4</th>\n",
       "      <td>2</td>\n",
       "      <td>33563</td>\n",
       "      <td>41</td>\n",
       "      <td>White</td>\n",
       "      <td>Male</td>\n",
       "      <td>-87.646388</td>\n",
       "      <td>41.889154</td>\n",
       "      <td>xylazine</td>\n",
       "      <td>2020</td>\n",
       "      <td>1</td>\n",
       "      <td>0.046163</td>\n",
       "      <td>1.0</td>\n",
       "      <td>POINT (-7272928.117 3813485.185)</td>\n",
       "      <td>-7.272928e+06</td>\n",
       "      <td>3.813485e+06</td>\n",
       "    </tr>\n",
       "  </tbody>\n",
       "</table>\n",
       "</div>"
      ],
      "text/plain": [
       "   matchnumber  CaseIdentifier  age   race gender  composite_longitude  \\\n",
       "0            1           33543   44  White   Male           -87.738374   \n",
       "1            1           32929   44  White   Male           -87.687850   \n",
       "2            1           33063   44  White   Male           -87.680723   \n",
       "3            1           34964   44  White   Male           -87.803437   \n",
       "4            2           33563   41  White   Male           -87.646388   \n",
       "\n",
       "   composite_latitude     group  death_year  case  distance  weights  \\\n",
       "0           41.881506  xylazine        2020     1  0.046608      1.0   \n",
       "1           41.789446  fentanyl        2020     0  0.046608      1.0   \n",
       "2           41.856964  fentanyl        2020     0  0.046608      1.0   \n",
       "3           41.886812  fentanyl        2020     0  0.046608      1.0   \n",
       "4           41.889154  xylazine        2020     1  0.046163      1.0   \n",
       "\n",
       "                           geometry       x_coord       y_coord  \n",
       "0  POINT (-7280561.195 3812635.988) -7.280561e+06  3.812636e+06  \n",
       "1  POINT (-7276368.653 3802421.051) -7.276369e+06  3.802421e+06  \n",
       "2  POINT (-7275777.220 3809911.343) -7.275777e+06  3.809911e+06  \n",
       "3  POINT (-7285960.068 3813225.145) -7.285960e+06  3.813225e+06  \n",
       "4  POINT (-7272928.117 3813485.185) -7.272928e+06  3.813485e+06  "
      ]
     },
     "execution_count": 10,
     "metadata": {},
     "output_type": "execute_result"
    }
   ],
   "source": [
    "gdf['x_coord'] = gdf['geometry'].apply(lambda x: x.x)\n",
    "gdf['y_coord'] = gdf['geometry'].apply(lambda x: x.y)\n",
    "gdf.head()"
   ]
  },
  {
   "cell_type": "code",
   "execution_count": 11,
   "metadata": {},
   "outputs": [
    {
     "data": {
      "text/html": [
       "<div>\n",
       "<style scoped>\n",
       "    .dataframe tbody tr th:only-of-type {\n",
       "        vertical-align: middle;\n",
       "    }\n",
       "\n",
       "    .dataframe tbody tr th {\n",
       "        vertical-align: top;\n",
       "    }\n",
       "\n",
       "    .dataframe thead th {\n",
       "        text-align: right;\n",
       "    }\n",
       "</style>\n",
       "<table border=\"1\" class=\"dataframe\">\n",
       "  <thead>\n",
       "    <tr style=\"text-align: right;\">\n",
       "      <th></th>\n",
       "      <th>matchnumber</th>\n",
       "      <th>CaseIdentifier</th>\n",
       "      <th>age</th>\n",
       "      <th>race</th>\n",
       "      <th>gender</th>\n",
       "      <th>composite_longitude</th>\n",
       "      <th>composite_latitude</th>\n",
       "      <th>group</th>\n",
       "      <th>death_year</th>\n",
       "      <th>case</th>\n",
       "      <th>distance</th>\n",
       "      <th>weights</th>\n",
       "      <th>x_coord</th>\n",
       "      <th>y_coord</th>\n",
       "    </tr>\n",
       "  </thead>\n",
       "  <tbody>\n",
       "    <tr>\n",
       "      <th>0</th>\n",
       "      <td>1</td>\n",
       "      <td>33543</td>\n",
       "      <td>44</td>\n",
       "      <td>White</td>\n",
       "      <td>Male</td>\n",
       "      <td>-87.738374</td>\n",
       "      <td>41.881506</td>\n",
       "      <td>xylazine</td>\n",
       "      <td>2020</td>\n",
       "      <td>1</td>\n",
       "      <td>0.046608</td>\n",
       "      <td>1.0</td>\n",
       "      <td>-7.280561e+06</td>\n",
       "      <td>3.812636e+06</td>\n",
       "    </tr>\n",
       "    <tr>\n",
       "      <th>1</th>\n",
       "      <td>1</td>\n",
       "      <td>32929</td>\n",
       "      <td>44</td>\n",
       "      <td>White</td>\n",
       "      <td>Male</td>\n",
       "      <td>-87.687850</td>\n",
       "      <td>41.789446</td>\n",
       "      <td>fentanyl</td>\n",
       "      <td>2020</td>\n",
       "      <td>0</td>\n",
       "      <td>0.046608</td>\n",
       "      <td>1.0</td>\n",
       "      <td>-7.276369e+06</td>\n",
       "      <td>3.802421e+06</td>\n",
       "    </tr>\n",
       "    <tr>\n",
       "      <th>2</th>\n",
       "      <td>1</td>\n",
       "      <td>33063</td>\n",
       "      <td>44</td>\n",
       "      <td>White</td>\n",
       "      <td>Male</td>\n",
       "      <td>-87.680723</td>\n",
       "      <td>41.856964</td>\n",
       "      <td>fentanyl</td>\n",
       "      <td>2020</td>\n",
       "      <td>0</td>\n",
       "      <td>0.046608</td>\n",
       "      <td>1.0</td>\n",
       "      <td>-7.275777e+06</td>\n",
       "      <td>3.809911e+06</td>\n",
       "    </tr>\n",
       "    <tr>\n",
       "      <th>3</th>\n",
       "      <td>1</td>\n",
       "      <td>34964</td>\n",
       "      <td>44</td>\n",
       "      <td>White</td>\n",
       "      <td>Male</td>\n",
       "      <td>-87.803437</td>\n",
       "      <td>41.886812</td>\n",
       "      <td>fentanyl</td>\n",
       "      <td>2020</td>\n",
       "      <td>0</td>\n",
       "      <td>0.046608</td>\n",
       "      <td>1.0</td>\n",
       "      <td>-7.285960e+06</td>\n",
       "      <td>3.813225e+06</td>\n",
       "    </tr>\n",
       "    <tr>\n",
       "      <th>4</th>\n",
       "      <td>2</td>\n",
       "      <td>33563</td>\n",
       "      <td>41</td>\n",
       "      <td>White</td>\n",
       "      <td>Male</td>\n",
       "      <td>-87.646388</td>\n",
       "      <td>41.889154</td>\n",
       "      <td>xylazine</td>\n",
       "      <td>2020</td>\n",
       "      <td>1</td>\n",
       "      <td>0.046163</td>\n",
       "      <td>1.0</td>\n",
       "      <td>-7.272928e+06</td>\n",
       "      <td>3.813485e+06</td>\n",
       "    </tr>\n",
       "    <tr>\n",
       "      <th>...</th>\n",
       "      <td>...</td>\n",
       "      <td>...</td>\n",
       "      <td>...</td>\n",
       "      <td>...</td>\n",
       "      <td>...</td>\n",
       "      <td>...</td>\n",
       "      <td>...</td>\n",
       "      <td>...</td>\n",
       "      <td>...</td>\n",
       "      <td>...</td>\n",
       "      <td>...</td>\n",
       "      <td>...</td>\n",
       "      <td>...</td>\n",
       "      <td>...</td>\n",
       "    </tr>\n",
       "    <tr>\n",
       "      <th>1083</th>\n",
       "      <td>271</td>\n",
       "      <td>40872</td>\n",
       "      <td>27</td>\n",
       "      <td>Black</td>\n",
       "      <td>Male</td>\n",
       "      <td>-87.584393</td>\n",
       "      <td>41.616488</td>\n",
       "      <td>fentanyl</td>\n",
       "      <td>2020</td>\n",
       "      <td>0</td>\n",
       "      <td>0.034061</td>\n",
       "      <td>1.0</td>\n",
       "      <td>-7.267784e+06</td>\n",
       "      <td>3.783270e+06</td>\n",
       "    </tr>\n",
       "    <tr>\n",
       "      <th>1084</th>\n",
       "      <td>272</td>\n",
       "      <td>33086</td>\n",
       "      <td>41</td>\n",
       "      <td>White</td>\n",
       "      <td>Male</td>\n",
       "      <td>-87.627033</td>\n",
       "      <td>41.869145</td>\n",
       "      <td>xylazine</td>\n",
       "      <td>2020</td>\n",
       "      <td>1</td>\n",
       "      <td>0.046163</td>\n",
       "      <td>1.0</td>\n",
       "      <td>-7.271322e+06</td>\n",
       "      <td>3.811263e+06</td>\n",
       "    </tr>\n",
       "    <tr>\n",
       "      <th>1085</th>\n",
       "      <td>272</td>\n",
       "      <td>32881</td>\n",
       "      <td>41</td>\n",
       "      <td>White</td>\n",
       "      <td>Male</td>\n",
       "      <td>-87.731626</td>\n",
       "      <td>41.916511</td>\n",
       "      <td>fentanyl</td>\n",
       "      <td>2020</td>\n",
       "      <td>0</td>\n",
       "      <td>0.046163</td>\n",
       "      <td>1.0</td>\n",
       "      <td>-7.280001e+06</td>\n",
       "      <td>3.816524e+06</td>\n",
       "    </tr>\n",
       "    <tr>\n",
       "      <th>1086</th>\n",
       "      <td>272</td>\n",
       "      <td>33603</td>\n",
       "      <td>41</td>\n",
       "      <td>White</td>\n",
       "      <td>Male</td>\n",
       "      <td>-87.708104</td>\n",
       "      <td>41.925411</td>\n",
       "      <td>fentanyl</td>\n",
       "      <td>2020</td>\n",
       "      <td>0</td>\n",
       "      <td>0.046163</td>\n",
       "      <td>1.0</td>\n",
       "      <td>-7.278049e+06</td>\n",
       "      <td>3.817513e+06</td>\n",
       "    </tr>\n",
       "    <tr>\n",
       "      <th>1087</th>\n",
       "      <td>272</td>\n",
       "      <td>34233</td>\n",
       "      <td>41</td>\n",
       "      <td>White</td>\n",
       "      <td>Male</td>\n",
       "      <td>-87.659911</td>\n",
       "      <td>42.005272</td>\n",
       "      <td>fentanyl</td>\n",
       "      <td>2020</td>\n",
       "      <td>0</td>\n",
       "      <td>0.046163</td>\n",
       "      <td>1.0</td>\n",
       "      <td>-7.274050e+06</td>\n",
       "      <td>3.826392e+06</td>\n",
       "    </tr>\n",
       "  </tbody>\n",
       "</table>\n",
       "<p>1088 rows × 14 columns</p>\n",
       "</div>"
      ],
      "text/plain": [
       "      matchnumber  CaseIdentifier  age   race gender  composite_longitude  \\\n",
       "0               1           33543   44  White   Male           -87.738374   \n",
       "1               1           32929   44  White   Male           -87.687850   \n",
       "2               1           33063   44  White   Male           -87.680723   \n",
       "3               1           34964   44  White   Male           -87.803437   \n",
       "4               2           33563   41  White   Male           -87.646388   \n",
       "...           ...             ...  ...    ...    ...                  ...   \n",
       "1083          271           40872   27  Black   Male           -87.584393   \n",
       "1084          272           33086   41  White   Male           -87.627033   \n",
       "1085          272           32881   41  White   Male           -87.731626   \n",
       "1086          272           33603   41  White   Male           -87.708104   \n",
       "1087          272           34233   41  White   Male           -87.659911   \n",
       "\n",
       "      composite_latitude     group  death_year  case  distance  weights  \\\n",
       "0              41.881506  xylazine        2020     1  0.046608      1.0   \n",
       "1              41.789446  fentanyl        2020     0  0.046608      1.0   \n",
       "2              41.856964  fentanyl        2020     0  0.046608      1.0   \n",
       "3              41.886812  fentanyl        2020     0  0.046608      1.0   \n",
       "4              41.889154  xylazine        2020     1  0.046163      1.0   \n",
       "...                  ...       ...         ...   ...       ...      ...   \n",
       "1083           41.616488  fentanyl        2020     0  0.034061      1.0   \n",
       "1084           41.869145  xylazine        2020     1  0.046163      1.0   \n",
       "1085           41.916511  fentanyl        2020     0  0.046163      1.0   \n",
       "1086           41.925411  fentanyl        2020     0  0.046163      1.0   \n",
       "1087           42.005272  fentanyl        2020     0  0.046163      1.0   \n",
       "\n",
       "           x_coord       y_coord  \n",
       "0    -7.280561e+06  3.812636e+06  \n",
       "1    -7.276369e+06  3.802421e+06  \n",
       "2    -7.275777e+06  3.809911e+06  \n",
       "3    -7.285960e+06  3.813225e+06  \n",
       "4    -7.272928e+06  3.813485e+06  \n",
       "...            ...           ...  \n",
       "1083 -7.267784e+06  3.783270e+06  \n",
       "1084 -7.271322e+06  3.811263e+06  \n",
       "1085 -7.280001e+06  3.816524e+06  \n",
       "1086 -7.278049e+06  3.817513e+06  \n",
       "1087 -7.274050e+06  3.826392e+06  \n",
       "\n",
       "[1088 rows x 14 columns]"
      ]
     },
     "execution_count": 11,
     "metadata": {},
     "output_type": "execute_result"
    }
   ],
   "source": [
    "# dropcols = [\"geometry\", \"fentanyl_1\", \"fentanyl_2\", \"latitude\", \"longitude\", \"nonfentanyl_opioid_tag\", \"casenumber\"]\n",
    "dropcols = [\"geometry\"]\n",
    "gdf.drop(columns=dropcols)"
   ]
  },
  {
   "cell_type": "code",
   "execution_count": 12,
   "metadata": {},
   "outputs": [],
   "source": [
    "gdf.drop(columns=dropcols).to_csv(\"projected.csv\", index=False)"
   ]
  },
  {
   "cell_type": "code",
   "execution_count": null,
   "metadata": {},
   "outputs": [],
   "source": []
  },
  {
   "cell_type": "code",
   "execution_count": null,
   "metadata": {},
   "outputs": [],
   "source": []
  },
  {
   "cell_type": "code",
   "execution_count": 7,
   "metadata": {},
   "outputs": [
    {
     "data": {
      "text/plain": [
       "0    POINT (-87.70554 41.84983)\n",
       "1    POINT (-87.70847 41.93169)\n",
       "2    POINT (-87.76365 41.97057)\n",
       "3    POINT (-87.61434 41.76058)\n",
       "4    POINT (-87.68611 41.81900)\n",
       "dtype: geometry"
      ]
     },
     "execution_count": 7,
     "metadata": {},
     "output_type": "execute_result"
    }
   ],
   "source": [
    "import geopandas as gpd\n",
    "\n",
    "gdf = gpd.GeoSeries(points, crs=\"EPSG:4326\")\n",
    "gdf.head()"
   ]
  },
  {
   "cell_type": "code",
   "execution_count": 8,
   "metadata": {},
   "outputs": [
    {
     "data": {
      "text/plain": [
       "<AxesSubplot:>"
      ]
     },
     "execution_count": 8,
     "metadata": {},
     "output_type": "execute_result"
    },
    {
     "data": {
      "image/png": "[encoded data removed]",
      "text/plain": [
       "<Figure size 640x480 with 1 Axes>"
      ]
     },
     "metadata": {},
     "output_type": "display_data"
    }
   ],
   "source": [
    "gdf.plot()"
   ]
  },
  {
   "cell_type": "code",
   "execution_count": 9,
   "metadata": {},
   "outputs": [
    {
     "data": {
      "text/plain": [
       "<AxesSubplot:>"
      ]
     },
     "execution_count": 9,
     "metadata": {},
     "output_type": "execute_result"
    },
    {
     "data": {
      "image/png": "[encoded data removed]",
      "text/plain": [
       "<Figure size 640x480 with 1 Axes>"
      ]
     },
     "metadata": {},
     "output_type": "display_data"
    }
   ],
   "source": [
    "gdf_flat = gdf.to_crs(\"+proj=robin\")\n",
    "gdf_flat.plot()"
   ]
  },
  {
   "cell_type": "code",
   "execution_count": null,
   "metadata": {},
   "outputs": [],
   "source": []
  },
  {
   "cell_type": "code",
   "execution_count": 10,
   "metadata": {},
   "outputs": [
    {
     "data": {
      "text/plain": [
       "<Derived Projected CRS: +proj=robin +type=crs>\n",
       "Name: unknown\n",
       "Axis Info [cartesian]:\n",
       "- E[east]: Easting (metre)\n",
       "- N[north]: Northing (metre)\n",
       "Area of Use:\n",
       "- undefined\n",
       "Coordinate Operation:\n",
       "- name: unknown\n",
       "- method: Robinson\n",
       "Datum: World Geodetic System 1984\n",
       "- Ellipsoid: WGS 84\n",
       "- Prime Meridian: Greenwich"
      ]
     },
     "execution_count": 10,
     "metadata": {},
     "output_type": "execute_result"
    }
   ],
   "source": [
    "gdf_flat.crs"
   ]
  },
  {
   "cell_type": "code",
   "execution_count": 11,
   "metadata": {},
   "outputs": [
    {
     "data": {
      "text/plain": [
       "array([[-7562101.48899385,  4472593.80664576],\n",
       "       [-7558947.3083439 ,  4481263.12592453],\n",
       "       [-7562081.35730384,  4485379.61232488],\n",
       "       ...,\n",
       "       [-7554441.05671135,  4476693.90875984],\n",
       "       [-7557019.05258271,  4478885.99031126],\n",
       "       [-7563043.85661582,  4463683.64460387]])"
      ]
     },
     "execution_count": 11,
     "metadata": {},
     "output_type": "execute_result"
    }
   ],
   "source": [
    "import numpy as np\n",
    "\n",
    "points = np.array([[p.x, p.y] for p in gdf_flat.values])\n",
    "points"
   ]
  },
  {
   "cell_type": "code",
   "execution_count": 12,
   "metadata": {},
   "outputs": [
    {
     "data": {
      "text/plain": [
       "array([[nan, nan, 41.88947682, -87.61545112, 'control'],\n",
       "       [nan, nan, 41.50733584, -87.62322044, 'control'],\n",
       "       [nan, nan, 41.77362004, -87.84976596999999, 'control'],\n",
       "       [nan, nan, 41.75286378, -87.6432531, 'control'],\n",
       "       [nan, nan, 41.68470668, -87.63151396, 'control']], dtype=object)"
      ]
     },
     "execution_count": 12,
     "metadata": {},
     "output_type": "execute_result"
    }
   ],
   "source": [
    "df.values[:5]"
   ]
  },
  {
   "cell_type": "code",
   "execution_count": null,
   "metadata": {},
   "outputs": [],
   "source": []
  },
  {
   "cell_type": "code",
   "execution_count": 13,
   "metadata": {},
   "outputs": [],
   "source": [
    "from pointpats import ripley\n",
    "\n",
    "k_test = ripley.k_test(coordinates=points, keep_simulations=True, n_simulations=5)\n",
    "k_test"
   ]
  },
  {
   "cell_type": "code",
   "execution_count": null,
   "metadata": {},
   "outputs": [],
   "source": [
    "import matplotlib.pyplot as plt\n",
    "%matplotlib inline\n",
    "\n",
    "\n",
    "plt.plot(k_test.support, k_test.simulations.T, color='k', alpha=.01)\n",
    "plt.plot(k_test.support, k_test.statistic, color='orangered')\n",
    "\n",
    "plt.scatter(k_test.support, k_test.statistic, \n",
    "            cmap='viridis', c=k_test.pvalue < .05,\n",
    "            zorder=4 # make sure they plot on top\n",
    ")\n",
    "\n",
    "plt.xlabel('Distance')\n",
    "plt.ylabel('K Function')\n",
    "plt.title('K Function Plot')\n",
    "plt.show()"
   ]
  },
  {
   "cell_type": "code",
   "execution_count": null,
   "metadata": {},
   "outputs": [],
   "source": []
  },
  {
   "cell_type": "code",
   "execution_count": 15,
   "metadata": {},
   "outputs": [
    {
     "data": {
      "text/html": [
       "<pre style=\"white-space:pre;overflow-x:auto;line-height:normal;font-family:Menlo,'DejaVu Sans Mono',consolas,'Courier New',monospace\">--\n",
       "</pre>\n"
      ],
      "text/plain": [
       "--\n"
      ]
     },
     "metadata": {},
     "output_type": "display_data"
    },
    {
     "ename": "KeyboardInterrupt",
     "evalue": "",
     "output_type": "error",
     "traceback": [
      "\u001b[0;31m---------------------------------------------------------------------------\u001b[0m",
      "\u001b[0;31mKeyboardInterrupt\u001b[0m                         Traceback (most recent call last)",
      "Cell \u001b[0;32mIn [15], line 12\u001b[0m\n\u001b[1;32m     10\u001b[0m plt\u001b[39m.\u001b[39mplot(r, Kest\u001b[39m.\u001b[39mpoisson(r), color\u001b[39m=\u001b[39m\u001b[39m'\u001b[39m\u001b[39mgreen\u001b[39m\u001b[39m'\u001b[39m, ls\u001b[39m=\u001b[39m\u001b[39m'\u001b[39m\u001b[39m:\u001b[39m\u001b[39m'\u001b[39m, label\u001b[39m=\u001b[39m\u001b[39mr\u001b[39m\u001b[39m'\u001b[39m\u001b[39m$K_\u001b[39m\u001b[39m{pois}\u001b[39;00m\u001b[39m$\u001b[39m\u001b[39m'\u001b[39m)\n\u001b[1;32m     11\u001b[0m \u001b[39mprint\u001b[39m(\u001b[39m'\u001b[39m\u001b[39m--\u001b[39m\u001b[39m'\u001b[39m)\n\u001b[0;32m---> 12\u001b[0m plt\u001b[39m.\u001b[39mplot(r, Kest\u001b[39m.\u001b[39;49mevaluate(data\u001b[39m=\u001b[39;49mpoints, radii\u001b[39m=\u001b[39;49mr, mode\u001b[39m=\u001b[39;49m\u001b[39m'\u001b[39;49m\u001b[39mnone\u001b[39;49m\u001b[39m'\u001b[39;49m), color\u001b[39m=\u001b[39m\u001b[39m'\u001b[39m\u001b[39mred\u001b[39m\u001b[39m'\u001b[39m, ls\u001b[39m=\u001b[39m\u001b[39m'\u001b[39m\u001b[39m--\u001b[39m\u001b[39m'\u001b[39m,\n\u001b[1;32m     13\u001b[0m         label\u001b[39m=\u001b[39m\u001b[39mr\u001b[39m\u001b[39m'\u001b[39m\u001b[39m$K_\u001b[39m\u001b[39m{un}\u001b[39;00m\u001b[39m$\u001b[39m\u001b[39m'\u001b[39m)\n\u001b[1;32m     14\u001b[0m \u001b[39mprint\u001b[39m(\u001b[39m'\u001b[39m\u001b[39m--\u001b[39m\u001b[39m'\u001b[39m)\n\u001b[1;32m     15\u001b[0m plt\u001b[39m.\u001b[39mplot(r, Kest\u001b[39m.\u001b[39mevaluate(data\u001b[39m=\u001b[39mpoints, radii\u001b[39m=\u001b[39mr, mode\u001b[39m=\u001b[39m\u001b[39m'\u001b[39m\u001b[39mtranslation\u001b[39m\u001b[39m'\u001b[39m), color\u001b[39m=\u001b[39m\u001b[39m'\u001b[39m\u001b[39mblack\u001b[39m\u001b[39m'\u001b[39m,\n\u001b[1;32m     16\u001b[0m         label\u001b[39m=\u001b[39m\u001b[39mr\u001b[39m\u001b[39m'\u001b[39m\u001b[39m$K_\u001b[39m\u001b[39m{trans}\u001b[39;00m\u001b[39m$\u001b[39m\u001b[39m'\u001b[39m)\n",
      "File \u001b[0;32m/opt/homebrew/Caskroom/miniconda/base/envs/geo/lib/python3.10/site-packages/astropy/stats/spatial.py:236\u001b[0m, in \u001b[0;36mRipleysKEstimator.evaluate\u001b[0;34m(self, data, radii, mode)\u001b[0m\n\u001b[1;32m    234\u001b[0m     distances \u001b[39m=\u001b[39m np\u001b[39m.\u001b[39mhypot(diff[:, \u001b[39m0\u001b[39m], diff[:, \u001b[39m1\u001b[39m])\n\u001b[1;32m    235\u001b[0m     \u001b[39mfor\u001b[39;00m r \u001b[39min\u001b[39;00m \u001b[39mrange\u001b[39m(\u001b[39mlen\u001b[39m(radii)):\n\u001b[0;32m--> 236\u001b[0m         ripley[r] \u001b[39m=\u001b[39m (distances \u001b[39m<\u001b[39;49m radii[r])\u001b[39m.\u001b[39;49msum()\n\u001b[1;32m    238\u001b[0m     ripley \u001b[39m=\u001b[39m \u001b[39mself\u001b[39m\u001b[39m.\u001b[39marea \u001b[39m*\u001b[39m \u001b[39m2.\u001b[39m \u001b[39m*\u001b[39m ripley \u001b[39m/\u001b[39m (npts \u001b[39m*\u001b[39m (npts \u001b[39m-\u001b[39m \u001b[39m1\u001b[39m))\n\u001b[1;32m    239\u001b[0m \u001b[39m# eq. 15.11 Stoyan book page 283\u001b[39;00m\n",
      "File \u001b[0;32m/opt/homebrew/Caskroom/miniconda/base/envs/geo/lib/python3.10/site-packages/numpy/core/_methods.py:48\u001b[0m, in \u001b[0;36m_sum\u001b[0;34m(a, axis, dtype, out, keepdims, initial, where)\u001b[0m\n\u001b[1;32m     46\u001b[0m \u001b[39mdef\u001b[39;00m \u001b[39m_sum\u001b[39m(a, axis\u001b[39m=\u001b[39m\u001b[39mNone\u001b[39;00m, dtype\u001b[39m=\u001b[39m\u001b[39mNone\u001b[39;00m, out\u001b[39m=\u001b[39m\u001b[39mNone\u001b[39;00m, keepdims\u001b[39m=\u001b[39m\u001b[39mFalse\u001b[39;00m,\n\u001b[1;32m     47\u001b[0m          initial\u001b[39m=\u001b[39m_NoValue, where\u001b[39m=\u001b[39m\u001b[39mTrue\u001b[39;00m):\n\u001b[0;32m---> 48\u001b[0m     \u001b[39mreturn\u001b[39;00m umr_sum(a, axis, dtype, out, keepdims, initial, where)\n",
      "\u001b[0;31mKeyboardInterrupt\u001b[0m: "
     ]
    },
    {
     "data": {
      "image/png": "[encoded data removed]",
      "text/plain": [
       "<Figure size 640x480 with 1 Axes>"
      ]
     },
     "metadata": {},
     "output_type": "display_data"
    }
   ],
   "source": [
    "import numpy as np\n",
    "from matplotlib import pyplot as plt\n",
    "from astropy.stats import RipleysKEstimator\n",
    "\n",
    "# rng = np.random.default_rng()\n",
    "# z = rng.uniform(low=5, high=10, size=(100, 2))\n",
    "Kest = RipleysKEstimator(area=25, x_max=10, y_max=10, x_min=5, y_min=5)\n",
    "\n",
    "r = np.linspace(0, 2.5, 100)\n",
    "plt.plot(r, Kest.poisson(r), color='green', ls=':', label=r'$K_{pois}$')\n",
    "print('--')\n",
    "plt.plot(r, Kest.evaluate(data=points, radii=r, mode='none'), color='red', ls='--',\n",
    "        label=r'$K_{un}$')\n",
    "print('--')\n",
    "plt.plot(r, Kest.evaluate(data=points, radii=r, mode='translation'), color='black',\n",
    "        label=r'$K_{trans}$')\n",
    "print('--')\n",
    "plt.plot(r, Kest.evaluate(data=points, radii=r, mode='ohser'), color='blue', ls='-.',\n",
    "        label=r'$K_{ohser}$')\n",
    "print('--')\n",
    "plt.plot(r, Kest.evaluate(data=points, radii=r, mode='var-width'), color='green',\n",
    "        label=r'$K_{var-width}$')\n",
    "print('--')\n",
    "plt.plot(r, Kest.evaluate(data=points, radii=r, mode='ripley'), color='yellow',\n",
    "        label=r'$K_{ripley}$')\n",
    "print('--')\n",
    "plt.legend()"
   ]
  },
  {
   "cell_type": "code",
   "execution_count": 15,
   "metadata": {},
   "outputs": [
    {
     "data": {
      "text/plain": [
       "array([0.        , 0.02525253, 0.05050505, 0.07575758, 0.1010101 ,\n",
       "       0.12626263, 0.15151515, 0.17676768, 0.2020202 , 0.22727273,\n",
       "       0.25252525, 0.27777778, 0.3030303 , 0.32828283, 0.35353535,\n",
       "       0.37878788, 0.4040404 , 0.42929293, 0.45454545, 0.47979798,\n",
       "       0.50505051, 0.53030303, 0.55555556, 0.58080808, 0.60606061,\n",
       "       0.63131313, 0.65656566, 0.68181818, 0.70707071, 0.73232323,\n",
       "       0.75757576, 0.78282828, 0.80808081, 0.83333333, 0.85858586,\n",
       "       0.88383838, 0.90909091, 0.93434343, 0.95959596, 0.98484848,\n",
       "       1.01010101, 1.03535354, 1.06060606, 1.08585859, 1.11111111,\n",
       "       1.13636364, 1.16161616, 1.18686869, 1.21212121, 1.23737374,\n",
       "       1.26262626, 1.28787879, 1.31313131, 1.33838384, 1.36363636,\n",
       "       1.38888889, 1.41414141, 1.43939394, 1.46464646, 1.48989899,\n",
       "       1.51515152, 1.54040404, 1.56565657, 1.59090909, 1.61616162,\n",
       "       1.64141414, 1.66666667, 1.69191919, 1.71717172, 1.74242424,\n",
       "       1.76767677, 1.79292929, 1.81818182, 1.84343434, 1.86868687,\n",
       "       1.89393939, 1.91919192, 1.94444444, 1.96969697, 1.99494949,\n",
       "       2.02020202, 2.04545455, 2.07070707, 2.0959596 , 2.12121212,\n",
       "       2.14646465, 2.17171717, 2.1969697 , 2.22222222, 2.24747475,\n",
       "       2.27272727, 2.2979798 , 2.32323232, 2.34848485, 2.37373737,\n",
       "       2.3989899 , 2.42424242, 2.44949495, 2.47474747, 2.5       ])"
      ]
     },
     "execution_count": 15,
     "metadata": {},
     "output_type": "execute_result"
    }
   ],
   "source": [
    "r"
   ]
  },
  {
   "cell_type": "code",
   "execution_count": null,
   "metadata": {},
   "outputs": [],
   "source": []
  }
 ],
 "metadata": {
  "kernelspec": {
   "display_name": "Python 3.10.6 ('geo')",
   "language": "python",
   "name": "python3"
  },
  "language_info": {
   "codemirror_mode": {
    "name": "ipython",
    "version": 3
   },
   "file_extension": ".py",
   "mimetype": "text/x-python",
   "name": "python",
   "nbconvert_exporter": "python",
   "pygments_lexer": "ipython3",
   "version": "3.10.6"
  },
  "orig_nbformat": 4,
  "vscode": {
   "interpreter": {
    "hash": "9d3d162f69c105942d02394338356620119b9d54691325ed6629c4c4ccbb27e1"
   }
  }
 },
 "nbformat": 4,
 "nbformat_minor": 2
}
